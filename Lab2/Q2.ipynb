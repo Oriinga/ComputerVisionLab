{
 "cells": [
  {
   "cell_type": "code",
   "execution_count": 1,
   "metadata": {},
   "outputs": [],
   "source": [
    "import cv2\n",
    "import skimage\n",
    "import matplotlib.pyplot as plt\n",
    "import numpy as np"
   ]
  },
  {
   "cell_type": "code",
   "execution_count": 12,
   "metadata": {},
   "outputs": [
    {
     "name": "stdout",
     "output_type": "stream",
     "text": [
      "[[-3. -2. -1.  0.  1.  2.  3.]\n",
      " [-3. -2. -1.  0.  1.  2.  3.]\n",
      " [-3. -2. -1.  0.  1.  2.  3.]\n",
      " [-3. -2. -1.  0.  1.  2.  3.]\n",
      " [-3. -2. -1.  0.  1.  2.  3.]\n",
      " [-3. -2. -1.  0.  1.  2.  3.]\n",
      " [-3. -2. -1.  0.  1.  2.  3.]]\n",
      "[[-3. -3. -3. -3. -3. -3. -3.]\n",
      " [-2. -2. -2. -2. -2. -2. -2.]\n",
      " [-1. -1. -1. -1. -1. -1. -1.]\n",
      " [ 0.  0.  0.  0.  0.  0.  0.]\n",
      " [ 1.  1.  1.  1.  1.  1.  1.]\n",
      " [ 2.  2.  2.  2.  2.  2.  2.]\n",
      " [ 3.  3.  3.  3.  3.  3.  3.]]\n"
     ]
    }
   ],
   "source": [
    "def create_gaussian_filter(theta, sigma_x, sigma_y, size, filter_type='edge'):\n",
    "    # Create a grid of (x, y) coordinates\n",
    "    x = np.linspace(-size//2+1, size//2, size)\n",
    "    y = np.linspace(-size//2+1, size//2, size)\n",
    "    x, y = np.meshgrid(x, y)\n",
    "    print(x)\n",
    "    print(y)\n",
    "\n",
    "    # Rotate the coordinates\n",
    "    x_rot = x * np.cos(theta) + y * np.sin(theta)\n",
    "    y_rot = -x * np.sin(theta) + y * np.cos(theta)\n",
    "    \n",
    "    # Calculate the Gaussian function\n",
    "    g = np.exp(-0.5 * (x_rot**2 / sigma_x**2 + y_rot**2 / sigma_y**2))\n",
    "    g /= (2 * np.pi * sigma_x * sigma_y)\n",
    "    \n",
    "    if filter_type == 'edge':\n",
    "        # First derivative (edge)\n",
    "        dG_dx = -x_rot / (sigma_x**2) * g\n",
    "        dG_dy = -y_rot / (sigma_y**2) * g\n",
    "        return dG_dx, dG_dy\n",
    "    elif filter_type == 'bar':\n",
    "        # Second derivative (bar)\n",
    "        d2G_dx2 = (x_rot**2 / sigma_x**4 - 1 / sigma_x**2) * g\n",
    "        d2G_dy2 = (y_rot**2 / sigma_y**4 - 1 / sigma_y**2) * g\n",
    "        return d2G_dx2, d2G_dy2\n",
    "    else:\n",
    "        raise ValueError(\"Unknown filter type. Use 'edge' or 'bar'.\")\n",
    "\n",
    "# Example usage:\n",
    "theta = 0  # No rotation\n",
    "sigma_x = 1\n",
    "sigma_y = 2\n",
    "size = 7\n",
    "filter_type = 'edge'\n",
    "\n",
    "edge_x, edge_y = create_gaussian_filter(theta, sigma_x, sigma_y, size, filter_type)"
   ]
  }
 ],
 "metadata": {
  "kernelspec": {
   "display_name": "Python 3",
   "language": "python",
   "name": "python3"
  },
  "language_info": {
   "codemirror_mode": {
    "name": "ipython",
    "version": 3
   },
   "file_extension": ".py",
   "mimetype": "text/x-python",
   "name": "python",
   "nbconvert_exporter": "python",
   "pygments_lexer": "ipython3",
   "version": "3.12.2"
  }
 },
 "nbformat": 4,
 "nbformat_minor": 2
}
