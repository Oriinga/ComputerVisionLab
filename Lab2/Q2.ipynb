{
 "cells": [
  {
   "cell_type": "code",
   "execution_count": 2,
   "metadata": {},
   "outputs": [],
   "source": [
    "import cv2\n",
    "import skimage\n",
    "import matplotlib.pyplot as plt\n",
    "import numpy as np"
   ]
  },
  {
   "cell_type": "code",
   "execution_count": 6,
   "metadata": {},
   "outputs": [
    {
     "name": "stdout",
     "output_type": "stream",
     "text": [
      "[[-3. -2. -1.  0.  1.  2.  3.]\n",
      " [-3. -2. -1.  0.  1.  2.  3.]\n",
      " [-3. -2. -1.  0.  1.  2.  3.]\n",
      " [-3. -2. -1.  0.  1.  2.  3.]\n",
      " [-3. -2. -1.  0.  1.  2.  3.]\n",
      " [-3. -2. -1.  0.  1.  2.  3.]\n",
      " [-3. -2. -1.  0.  1.  2.  3.]]\n",
      "[[-3. -3. -3. -3. -3. -3. -3.]\n",
      " [-2. -2. -2. -2. -2. -2. -2.]\n",
      " [-1. -1. -1. -1. -1. -1. -1.]\n",
      " [ 0.  0.  0.  0.  0.  0.  0.]\n",
      " [ 1.  1.  1.  1.  1.  1.  1.]\n",
      " [ 2.  2.  2.  2.  2.  2.  2.]\n",
      " [ 3.  3.  3.  3.  3.  3.  3.]]\n",
      "[[ 0.000861    0.00699278  0.01566973 -0.         -0.01566973 -0.00699278\n",
      "  -0.000861  ]\n",
      " [ 0.00160857  0.01306423  0.02927492 -0.         -0.02927492 -0.01306423\n",
      "  -0.00160857]\n",
      " [ 0.00234045  0.01900835  0.04259475 -0.         -0.04259475 -0.01900835\n",
      "  -0.00234045]\n",
      " [ 0.00265208  0.02153928  0.04826618 -0.         -0.04826618 -0.02153928\n",
      "  -0.00265208]\n",
      " [ 0.00234045  0.01900835  0.04259475 -0.         -0.04259475 -0.01900835\n",
      "  -0.00234045]\n",
      " [ 0.00160857  0.01306423  0.02927492 -0.         -0.02927492 -0.01306423\n",
      "  -0.00160857]\n",
      " [ 0.000861    0.00699278  0.01566973 -0.         -0.01566973 -0.00699278\n",
      "  -0.000861  ]]\n",
      "[[ 0.00021525  0.00262229  0.0117523   0.01937627  0.0117523   0.00262229\n",
      "   0.00021525]\n",
      " [ 0.00026809  0.00326606  0.01463746  0.02413309  0.01463746  0.00326606\n",
      "   0.00026809]\n",
      " [ 0.00019504  0.00237604  0.01064869  0.01755672  0.01064869  0.00237604\n",
      "   0.00019504]\n",
      " [-0.         -0.         -0.         -0.         -0.         -0.\n",
      "  -0.        ]\n",
      " [-0.00019504 -0.00237604 -0.01064869 -0.01755672 -0.01064869 -0.00237604\n",
      "  -0.00019504]\n",
      " [-0.00026809 -0.00326606 -0.01463746 -0.02413309 -0.01463746 -0.00326606\n",
      "  -0.00026809]\n",
      " [-0.00021525 -0.00262229 -0.0117523  -0.01937627 -0.0117523  -0.00262229\n",
      "  -0.00021525]]\n"
     ]
    }
   ],
   "source": [
    "def create_gaussian_filter(theta, sigma_x, sigma_y, size, filter_type='edge'):\n",
    "    # Create a grid of (x, y) coordinates\n",
    "    x = np.linspace(-size//2+1, size//2, size)\n",
    "    y = np.linspace(-size//2+1, size//2, size)\n",
    "    x, y = np.meshgrid(x, y)\n",
    "    print(x)\n",
    "    print(y)\n",
    "\n",
    "    # Rotate the coordinates\n",
    "    x_rot = x * np.cos(theta) + y * np.sin(theta)\n",
    "    y_rot = -x * np.sin(theta) + y * np.cos(theta)\n",
    "    \n",
    "    # Calculate the Gaussian function f(xrot,sigmax)*f(yrot,sigmay)\n",
    "    fx = np.exp(-0.5 * (x_rot**2 / sigma_x**2))/(np.sqrt(2 * np.pi) * sigma_x)\n",
    "    fy = np.exp(-0.5 * (y_rot**2 / sigma_y**2))/(np.sqrt(2 * np.pi) * sigma_y)\n",
    "    if filter_type == 'edge':\n",
    "        # First derivative (edge)\n",
    "        dG_dx = fy*fx*(-x_rot/sigma_x**2)\n",
    "        dG_dy = fx*fy*(-y_rot/sigma_y**2)\n",
    "        return dG_dx, dG_dy\n",
    "    elif filter_type == 'bar':\n",
    "        # Second derivative (bar)\n",
    "        d2G_dx2 = fy*fx*((x_rot-sigma_x**2)/sigma_x**4)\n",
    "        d2G_dy2 = fx*fy*((y_rot-sigma_y**2)/sigma_y**4)\n",
    "        return d2G_dx2, d2G_dy2\n",
    "    else:\n",
    "        raise ValueError(\"Unknown filter type. Use 'edge' or 'bar'.\")\n",
    "\n",
    "# Example usage:\n",
    "theta = 0  # No rotation\n",
    "sigma_x = 1\n",
    "sigma_y = 2\n",
    "size = 7\n",
    "filter_type = 'edge'\n",
    "\n",
    "edge_x, edge_y = create_gaussian_filter(theta, sigma_x, sigma_y, size, filter_type)\n",
    "\n",
    "print(edge_x)\n",
    "print(edge_y)"
   ]
  },
  {
   "cell_type": "code",
   "execution_count": null,
   "metadata": {},
   "outputs": [],
   "source": [
    "# Question 2\n"
   ]
  }
 ],
 "metadata": {
  "kernelspec": {
   "display_name": "Python 3",
   "language": "python",
   "name": "python3"
  },
  "language_info": {
   "codemirror_mode": {
    "name": "ipython",
    "version": 3
   },
   "file_extension": ".py",
   "mimetype": "text/x-python",
   "name": "python",
   "nbconvert_exporter": "python",
   "pygments_lexer": "ipython3",
   "version": "3.12.2"
  }
 },
 "nbformat": 4,
 "nbformat_minor": 2
}
