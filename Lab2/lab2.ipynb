{
 "cells": [
  {
   "cell_type": "code",
   "execution_count": 109,
   "metadata": {},
   "outputs": [],
   "source": [
    "import cv2\n",
    "import numpy as np\n",
    "import skimage\n",
    "import imageio\n",
    "import mpmath\n",
    "import matplotlib.pyplot as plt\n",
    "import seaborn as sns\n",
    "import PIL"
   ]
  },
  {
   "cell_type": "markdown",
   "metadata": {},
   "source": [
    "Question 1 Filters"
   ]
  },
  {
   "cell_type": "code",
   "execution_count": 110,
   "metadata": {},
   "outputs": [
    {
     "data": {
      "text/plain": [
       "<matplotlib.image.AxesImage at 0x17bfd59b7d0>"
      ]
     },
     "execution_count": 110,
     "metadata": {},
     "output_type": "execute_result"
    },
    {
     "data": {
      "image/png": "[encoded data removed]",
      "text/plain": [
       "<Figure size 640x480 with 1 Axes>"
      ]
     },
     "metadata": {},
     "output_type": "display_data"
    }
   ],
   "source": [
    "def GaussFilter(size, sigma):\n",
    "    values =np.arange(-(size//2), size//2 + 1)\n",
    "    x, y = np.meshgrid(values, values)\n",
    "    g = (1/(2*np.pi * sigma**2)) * np.exp(-(x**2 + y**2)/(2*sigma**2))\n",
    "    #normalisng it - sometimes the sum is not perfectly 1...\n",
    "    g /= np.sum(g)\n",
    "    # print(np.sum(g))\n",
    "    return g\n",
    "\n",
    "test_gauss = GaussFilter(49, 10**0.5)\n",
    "plt.imshow(test_gauss, cmap=\"inferno\")"
   ]
  },
  {
   "cell_type": "code",
   "execution_count": 111,
   "metadata": {},
   "outputs": [
    {
     "data": {
      "text/plain": [
       "<matplotlib.image.AxesImage at 0x17bfd4041d0>"
      ]
     },
     "execution_count": 111,
     "metadata": {},
     "output_type": "execute_result"
    },
    {
     "data": {
      "image/png": "[encoded data removed]",
      "text/plain": [
       "<Figure size 640x480 with 1 Axes>"
      ]
     },
     "metadata": {},
     "output_type": "display_data"
    }
   ],
   "source": [
    "def LoG(size, sigma):\n",
    "    values =np.arange(-(size//2), size//2 + 1)\n",
    "    x, y = np.meshgrid(values, values)\n",
    "    \n",
    "    g = -((1)/(np.pi * sigma ** 4 )) * \\\n",
    "        (1- (x**2 + y**2)/(2* sigma **2)) * \\\n",
    "        np.exp(-(x**2 + y**2)/(2*sigma**2))\n",
    "    \n",
    "\n",
    "    return g\n",
    "test_log = LoG(49, 10**0.5)\n",
    "plt.imshow(test_log,cmap=\"inferno\")"
   ]
  },
  {
   "cell_type": "code",
   "execution_count": 112,
   "metadata": {},
   "outputs": [
    {
     "data": {
      "text/plain": [
       "<matplotlib.image.AxesImage at 0x17bfd57f490>"
      ]
     },
     "execution_count": 112,
     "metadata": {},
     "output_type": "execute_result"
    },
    {
     "data": {
      "image/png": "[encoded data removed]",
      "text/plain": [
       "<Figure size 640x480 with 1 Axes>"
      ]
     },
     "metadata": {},
     "output_type": "display_data"
    }
   ],
   "source": [
    "def DoG(size, sigma, K):\n",
    "    values =np.arange(-(size//2), size//2 + 1)\n",
    "    x, y = np.meshgrid(values, values)\n",
    "    \n",
    "    g = (1/(2 * np.pi * sigma **2)) * \\\n",
    "        np.exp(-(x**2 + y ** 2)/(2 * sigma **2)) - \\\n",
    "        (1/ (2 * np.pi * K**2 *sigma**2)) * \\\n",
    "        np.exp(-(x**2 + y ** 2)/(2 * K**2 * sigma **2))\n",
    "\n",
    "    return g \n",
    "    \n",
    "test_dog = DoG(49, 5, 10)\n",
    "plt.imshow(test_dog,cmap=\"inferno\")"
   ]
  },
  {
   "cell_type": "markdown",
   "metadata": {},
   "source": [
    "Question 3"
   ]
  },
  {
   "cell_type": "code",
   "execution_count": 113,
   "metadata": {},
   "outputs": [],
   "source": [
    "def getLBPs(img,show_plot=False):\n",
    "    lbps = []\n",
    "    radii = [4, 8, 16, 24, 32]\n",
    "    for radius in radii:\n",
    "        lbp = skimage.feature.local_binary_pattern(img,12,radius,'uniform')\n",
    "        lbps.append(lbp)\n",
    "\n",
    "    if show_plot:\n",
    "        fig, axes = plt.subplots(1, 5, figsize=(15, 5))\n",
    "        for i, (img, label) in enumerate(zip(lbps, radii)):\n",
    "            axes[i].imshow(img, cmap=\"gray\")\n",
    "            axes[i].axis('off')\n",
    "            axes[i].set_title(label)  \n",
    "\n",
    "        plt.tight_layout()\n",
    "        plt.show()\n",
    "\n",
    "    return np.array(lbps)"
   ]
  },
  {
   "cell_type": "code",
   "execution_count": 114,
   "metadata": {},
   "outputs": [],
   "source": [
    "def apply_haar_filter(integral_images, filter_size,show_plot=False):\n",
    "    h, w = integral_images[0].shape\n",
    "    # integral images have a buffer at the end of each axis\n",
    "    h= h-1\n",
    "    w= w-1\n",
    "    response = np.zeros((len(integral_images),h,w))\n",
    "    \n",
    "    for i in range(len(integral_images)):  # For each channel (R, G, B)\n",
    "        integral_image = integral_images[i]\n",
    "        \n",
    "        for y in range(h):\n",
    "            for x in range(w):\n",
    "                A = integral_image[max(0,y - filter_size//2),max(0,x - filter_size//2)]\n",
    "                B = integral_image[max(0,y - filter_size//2),min(w,x + filter_size//2)]\n",
    "                C = integral_image[min(h,y + filter_size//2),max(0,x - filter_size//2)]\n",
    "                D = integral_image[min(h,y + filter_size//2), min(w,x + filter_size//2)]\n",
    "                \n",
    "                pos_sum = A + D\n",
    "                \n",
    "                neg_sum = B + C\n",
    "                \n",
    "                response[i,y,x] = pos_sum - neg_sum\n",
    "\n",
    "    if show_plot:\n",
    "        fig, axes = plt.subplots(1, 3, figsize=(15, 5))\n",
    "        for i  in range(response.shape[0]):\n",
    "            axes[i].imshow(response[i].astype(np.uint8), )\n",
    "            axes[i].axis('off')\n",
    "\n",
    "        plt.tight_layout()\n",
    "        plt.show()\n",
    "                \n",
    "    return response"
   ]
  },
  {
   "cell_type": "markdown",
   "metadata": {},
   "source": [
    "Section 4"
   ]
  },
  {
   "cell_type": "code",
   "execution_count": 115,
   "metadata": {},
   "outputs": [],
   "source": [
    "def getFeatures(training_img, mask, show_plot=True):\n",
    "\n",
    "    vertical_prewitt = np.array([\n",
    "        [1,1,1],\n",
    "        [0,0,0],\n",
    "        [-1,-1,-1]\n",
    "    ])\n",
    "    horizontal_prewitt = np.array([\n",
    "        [1,0,-1],\n",
    "        [1,0,-1],\n",
    "        [1,0,-1]\n",
    "    ])\n",
    "\n",
    "    laplacian = np.array([\n",
    "        [0,-1,0],\n",
    "        [-1,4,-1],\n",
    "        [0,-1,0]\n",
    "    ])\n",
    "\n",
    "    gauss = GaussFilter(49, 10**0.5)\n",
    "    lgauss =  LoG(49, 10**0.5)\n",
    "    dgauss = DoG(49,5,10)\n",
    "\n",
    "    binary_mask = mask>128\n",
    "    #plt.imshow(binary_mask)\n",
    "    \n",
    "    #add dimensions\n",
    "    # print(binary_mask.shape)\n",
    "    hsv_training_img = cv2.cvtColor(training_img, cv2.COLOR_BGR2RGB)\n",
    "    v,s,h = cv2.split(hsv_training_img)\n",
    "    h, s,v = h*binary_mask, s*binary_mask, v*binary_mask\n",
    "    # print(h.shape)\n",
    "    b,g,r = cv2.split(training_img)\n",
    "    r,g,b = r*binary_mask, g*binary_mask, b*binary_mask\n",
    "\n",
    "\n",
    "    # get vertical prewitt for separated channels\n",
    "\n",
    "    vert_prewitt_r = cv2.filter2D(src=r, ddepth=-1, kernel=vertical_prewitt)\n",
    "    vert_prewitt_g = cv2.filter2D(src=g, ddepth=-1, kernel=vertical_prewitt)\n",
    "    vert_prewitt_b = cv2.filter2D(src=b, ddepth=-1, kernel=vertical_prewitt)\n",
    "    # get horizontal prewitt for separated channels\n",
    "\n",
    "    hori_prewitt_r = cv2.filter2D(src=r, ddepth=-1, kernel=horizontal_prewitt)\n",
    "    hori_prewitt_g = cv2.filter2D(src=g, ddepth=-1, kernel=horizontal_prewitt)\n",
    "    hori_prewitt_b = cv2.filter2D(src=b, ddepth=-1, kernel=horizontal_prewitt)\n",
    "    # get Laplacian for separated channels\n",
    "\n",
    "    laplace_r = cv2.filter2D(src=r, ddepth=-1, kernel=laplacian)\n",
    "    laplace_g = cv2.filter2D(src=g, ddepth=-1, kernel=laplacian)\n",
    "    laplace_b = cv2.filter2D(src=b, ddepth=-1, kernel=laplacian)\n",
    "\n",
    "    # get gaussian for seperate channels\n",
    "    gauss_r = cv2.filter2D(src=r, ddepth=-1, kernel = gauss)\n",
    "    gauss_g = cv2.filter2D(src=g, ddepth=-1, kernel = gauss)\n",
    "    gauss_b = cv2.filter2D(src=b, ddepth=-1, kernel = gauss)\n",
    "\n",
    "    # get log of gaussian for seperate channels\n",
    "    l_gauss_r = cv2.filter2D(src=r, ddepth=-1, kernel = lgauss)\n",
    "    l_gauss_g = cv2.filter2D(src=g, ddepth=-1, kernel = lgauss)\n",
    "    l_gauss_b = cv2.filter2D(src=b, ddepth=-1, kernel = lgauss)\n",
    "\n",
    "    # get log of gaussian for seperate channels\n",
    "    d_gauss_r = cv2.filter2D(src=r, ddepth=-1, kernel = dgauss)\n",
    "    d_gauss_g = cv2.filter2D(src=g, ddepth=-1, kernel = dgauss)\n",
    "    d_gauss_b = cv2.filter2D(src=b, ddepth=-1, kernel = dgauss)\n",
    "\n",
    "    # get LBPs for seperate channels\n",
    "    lbp_r = getLBPs(r)\n",
    "    lbp_g = getLBPs(g)\n",
    "    lbp_b = getLBPs(b)\n",
    "\n",
    "    # get Harr for seperate channels and sizes\n",
    "    integral_images = [cv2.integral(training_img[:,:,i]) for i in range(3)]\n",
    "    haar4 = apply_haar_filter(integral_images,4)\n",
    "    haar4_r = haar4[0]\n",
    "    haar4_g = haar4[1]\n",
    "    haar4_b = haar4[2]\n",
    "    #haar4_r, haar4_g, haar4_b = haar4[0],haar4[1],haar4[2]\n",
    "    haar8 = apply_haar_filter(integral_images,8)\n",
    "    haar8_r, haar8_g, haar8_b = haar8[0],haar8[1],haar8[2]\n",
    "    haar16 = apply_haar_filter(integral_images,16)\n",
    "    haar16_r, haar16_g, haar16_b = haar16[0],haar16[1],haar16[2]\n",
    "\n",
    "    if show_plot:\n",
    "        # vertical prewitt plot \n",
    "        fig, axes = plt.subplots(nrows = 1, ncols = 3, figsize=(16,4))\n",
    "        plt.subplot(1,3,1), plt.imshow( vert_prewitt_r,cmap=\"gray\"), plt.axis(\"off\")\n",
    "        plt.subplot(1,3,2), plt.imshow( vert_prewitt_g,cmap=\"gray\"), plt.axis(\"off\")\n",
    "        plt.subplot(1,3,3), plt.imshow( vert_prewitt_b,cmap=\"gray\"), plt.axis(\"off\")\n",
    "        plt.suptitle(\"Vertical Prewitt of RGB image\")\n",
    "        plt.show()\n",
    "\n",
    "        # horizontal prewitt plot\n",
    "        fig, axes = plt.subplots(nrows = 1, ncols = 3, figsize=(16,4))\n",
    "        plt.subplot(1,3,1), plt.imshow( hori_prewitt_r,cmap=\"gray\"), plt.axis(\"off\")\n",
    "        plt.subplot(1,3,2), plt.imshow( hori_prewitt_g,cmap=\"gray\"), plt.axis(\"off\")\n",
    "        plt.subplot(1,3,3), plt.imshow( hori_prewitt_b,cmap=\"gray\"), plt.axis(\"off\")\n",
    "        plt.suptitle(\"Horizontal Prewitt of RGB image\")\n",
    "        plt.show()\n",
    "\n",
    "        # laplace plot\n",
    "        fig, axes = plt.subplots(nrows = 1, ncols = 3, figsize=(16,4))\n",
    "        plt.subplot(1,3,1), plt.imshow( laplace_r,cmap=\"gray\"), plt.axis(\"off\")\n",
    "        plt.subplot(1,3,2), plt.imshow( laplace_g,cmap=\"gray\"), plt.axis(\"off\")\n",
    "        plt.subplot(1,3,3), plt.imshow( laplace_b,cmap=\"gray\"), plt.axis(\"off\")\n",
    "        plt.suptitle(\"Laplacian of RGB image\")\n",
    "        plt.show()\n",
    "\n",
    "        # gaussian plot\n",
    "        fig, axes = plt.subplots(nrows = 1, ncols = 3, figsize=(16,4))\n",
    "        plt.subplot(1,3,1), plt.imshow( gauss_r,cmap=\"gray\"), plt.axis(\"off\")\n",
    "        plt.subplot(1,3,2), plt.imshow( gauss_g,cmap=\"gray\"), plt.axis(\"off\")\n",
    "        plt.subplot(1,3,3), plt.imshow( gauss_b,cmap=\"gray\"), plt.axis(\"off\")\n",
    "        plt.suptitle(\"Gaussian of RGB image\")\n",
    "        plt.show()\n",
    "\n",
    "\n",
    "        # log of gaussian plot\n",
    "        fig, axes = plt.subplots(nrows = 1, ncols = 3, figsize=(16,4))\n",
    "        plt.subplot(1,3,1), plt.imshow( l_gauss_r,cmap=\"gray\"), plt.axis(\"off\")\n",
    "        plt.subplot(1,3,2), plt.imshow( l_gauss_g,cmap=\"gray\"), plt.axis(\"off\")\n",
    "        plt.subplot(1,3,3), plt.imshow( l_gauss_b,cmap=\"gray\"), plt.axis(\"off\")\n",
    "        plt.suptitle(\"Log of Gaussian of RGB image\")\n",
    "        plt.show()\n",
    "\n",
    "        # difference of gaussian plot\n",
    "        fig, axes = plt.subplots(nrows = 1, ncols = 3, figsize=(16,4))\n",
    "        plt.subplot(1,3,1), plt.imshow( d_gauss_r,cmap=\"gray\"), plt.axis(\"off\")\n",
    "        plt.subplot(1,3,2), plt.imshow( d_gauss_g,cmap=\"gray\"), plt.axis(\"off\")\n",
    "        plt.subplot(1,3,3), plt.imshow( d_gauss_b,cmap=\"gray\"), plt.axis(\"off\")\n",
    "        plt.suptitle(\"Difference of Gaussian of RGB image\")\n",
    "        plt.show()\n",
    "\n",
    "        # LBP Red plot\n",
    "        fig, axes = plt.subplots(1, 5, figsize=(15, 5))\n",
    "        for i, (img, label) in enumerate(zip(lbp_r, [4,8,16,24,32])):\n",
    "            axes[i].imshow(img, cmap=\"gray\")\n",
    "            axes[i].axis('off')\n",
    "            axes[i].set_title(label)  \n",
    "\n",
    "        plt.suptitle(\"LBPs of Red image\")\n",
    "        plt.show()\n",
    "\n",
    "        # LBP Green plot\n",
    "        fig, axes = plt.subplots(1, 5, figsize=(15, 5))\n",
    "        for i, (img, label) in enumerate(zip(lbp_g, [4,8,16,24,32])):\n",
    "            axes[i].imshow(img, cmap=\"gray\")\n",
    "            axes[i].axis('off')\n",
    "            axes[i].set_title(label)  \n",
    "\n",
    "        plt.suptitle(\"LBPs of Green image\")\n",
    "        plt.show()\n",
    "\n",
    "        # LBP Blue plot\n",
    "        fig, axes = plt.subplots(1, 5, figsize=(15, 5))\n",
    "        for i, (img, label) in enumerate(zip(lbp_b, [4,8,16,24,32])):\n",
    "            axes[i].imshow(img, cmap=\"gray\")\n",
    "            axes[i].axis('off')\n",
    "            axes[i].set_title(label)  \n",
    "\n",
    "        plt.suptitle(\"LBPs of Blue image\")\n",
    "        plt.show()\n",
    "\n",
    "        # Haar4 Filter plot\n",
    "        fig, axes = plt.subplots(1, 3, figsize=(15, 5))\n",
    "        for i  in range(haar4.shape[0]):\n",
    "            axes[i].imshow(haar4[i].astype(np.uint8),cmap=\"gray\")\n",
    "            axes[i].axis('off')\n",
    "\n",
    "        plt.suptitle(\"Haar 4 of RGB image\")\n",
    "        plt.show()\n",
    "\n",
    "        # Haar8 Filter plot\n",
    "        fig, axes = plt.subplots(1, 3, figsize=(15, 5))\n",
    "        for i  in range(haar8.shape[0]):\n",
    "            axes[i].imshow(haar8[i].astype(np.uint8),cmap=\"gray\")\n",
    "            axes[i].axis('off')\n",
    "\n",
    "        plt.suptitle(\"Haar 8 of RGB image\")\n",
    "        plt.show()\n",
    "\n",
    "        # Haar16 Filter plot\n",
    "        fig, axes = plt.subplots(1, 3, figsize=(15, 5))\n",
    "        for i  in range(haar16.shape[0]):\n",
    "            axes[i].imshow(haar16[i].astype(np.uint8),cmap=\"gray\")\n",
    "            axes[i].axis('off')\n",
    "\n",
    "        plt.suptitle(\"Haar 16 of RGB image\")\n",
    "        plt.show()\n",
    "\n",
    "\n",
    "    features = [\n",
    "        vert_prewitt_r, hori_prewitt_r, \n",
    "        vert_prewitt_g, hori_prewitt_g, \n",
    "        vert_prewitt_b, hori_prewitt_b, \n",
    "        laplace_r, laplace_g, laplace_b,\n",
    "        gauss_r, l_gauss_r, d_gauss_r,\n",
    "        gauss_g, l_gauss_g, d_gauss_g,\n",
    "        gauss_b, l_gauss_b, d_gauss_b,\n",
    "        lbp_r[0],lbp_r[1],lbp_r[2],lbp_r[3],lbp_r[4],\n",
    "        lbp_g[0],lbp_g[1],lbp_g[2],lbp_g[3],lbp_g[4],\n",
    "        lbp_b[0],lbp_b[1],lbp_b[2],lbp_b[3],lbp_b[4],\n",
    "        haar4[0],haar4[1],haar4[1],\n",
    "        haar8[0],haar8[1],haar8[1],\n",
    "        haar16[0],haar16[1],haar16[1],\n",
    "        r, g, b,\n",
    "        h, s, v,\n",
    "    ]\n",
    "\n",
    "    flattened_features = np.array([f[binary_mask].flatten() for f in features])\n",
    "    # print(flattened_features[0].shape)\n",
    "\n",
    "    return np.array(flattened_features)"
   ]
  },
  {
   "cell_type": "code",
   "execution_count": 116,
   "metadata": {},
   "outputs": [],
   "source": [
    "image = cv2.imread(\"Images/image-83.jpg\")\n",
    "mask = cv2.imread(\"Images/mask-35.png\", cv2.IMREAD_GRAYSCALE)\n",
    "null = np.ones_like(mask)*255\n",
    "\n",
    "original_features = getFeatures(image, null, show_plot=True)"
   ]
  }
 ],
 "metadata": {
  "kernelspec": {
   "display_name": "Python 3",
   "language": "python",
   "name": "python3"
  },
  "language_info": {
   "codemirror_mode": {
    "name": "ipython",
    "version": 3
   },
   "file_extension": ".py",
   "mimetype": "text/x-python",
   "name": "python",
   "nbconvert_exporter": "python",
   "pygments_lexer": "ipython3",
   "version": "3.11.2"
  }
 },
 "nbformat": 4,
 "nbformat_minor": 2
}
