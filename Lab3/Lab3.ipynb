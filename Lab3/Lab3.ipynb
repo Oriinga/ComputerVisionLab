{
 "cells": [
  {
   "cell_type": "code",
   "execution_count": null,
   "metadata": {},
   "outputs": [],
   "source": [
    "# %pip install torchviz"
   ]
  },
  {
   "cell_type": "code",
   "execution_count": 1,
   "metadata": {},
   "outputs": [],
   "source": [
    "# MAIN IMPORTS \n",
    "import torch\n",
    "import torch.nn as nn\n",
    "from torch.utils.tensorboard import SummaryWriter\n",
    "\n",
    "from tqdm import tqdm\n",
    "from torchviz import make_dot\n",
    "import cv2\n",
    "import numpy as np\n",
    "import matplotlib.pyplot as plt\n",
    "from sklearn.metrics import confusion_matrix\n",
    "from torch.utils.data import DataLoader\n",
    "from torch.utils.data import Dataset\n",
    "import torch.optim as optim\n",
    "import os\n",
    "import wandb\n",
    "# https://pytorch.org/tutorials/beginner/introyt/modelsyt_tutorial.html - documetnation on how to make a pytorch model"
   ]
  },
  {
   "cell_type": "markdown",
   "metadata": {},
   "source": [
    "# Data preprocessing \n",
    "- dataloaders\n",
    "- augmentation pipeline\n",
    "## Add notes on this here (what is happening)"
   ]
  },
  {
   "cell_type": "code",
   "execution_count": 2,
   "metadata": {},
   "outputs": [],
   "source": [
    "#data loader\n",
    "# the images are loaded as float32 and normalised\n",
    "# the mask is thresholded at 0.5 \n",
    "\"\"\" the permute is needed since the format for image tensors must be (C, H, W)\n",
    "But when we read from opencv the shape is (H, W, C)\n",
    "and the mask must be of dim (1, H, W) since single channel - unsqueeze add this channel\n",
    "\"\"\"\n",
    "# returned as tensors \n",
    "\n",
    "class PuzzleDataset(Dataset):\n",
    "    def __init__(self, img_dir, mask_dir, transform=None):\n",
    "        self.img_dir = img_dir\n",
    "        self.mask_dir = mask_dir\n",
    "        self.transform = transform\n",
    "        self.images = sorted(os.listdir(img_dir))\n",
    "        self.masks = sorted(os.listdir(mask_dir))\n",
    "        print(self.images)\n",
    "        print(self.masks)\n",
    "\n",
    "\n",
    "    def __len__(self):\n",
    "        return len(self.images)\n",
    "\n",
    "    def __getitem__(self, idx):\n",
    "        img_path = os.path.join(self.img_dir, self.images[idx])\n",
    "        mask_path = os.path.join(self.mask_dir, self.masks[idx])\n",
    "\n",
    "        # get the images\n",
    "        image = cv2.imread(img_path)\n",
    "        # cv2 gives BGR switch it to RGB\n",
    "        image = cv2.cvtColor(image, cv2.COLOR_BGR2RGB)\n",
    "\n",
    "        #get masks\n",
    "        mask = cv2.imread(mask_path, cv2.IMREAD_GRAYSCALE)\n",
    "        \n",
    "        #normalise the images and mask to float32\n",
    "        image = image/255.0\n",
    "        mask = mask / 255.0\n",
    "        #threshold the mask\n",
    "        \n",
    "        mask = (mask > 0.5).astype(np.float32)\n",
    "        mask = torch.tensor(mask)\n",
    "        inverse_mask = 1- mask\n",
    "        combined_mask = torch.stack([inverse_mask,mask],dim=0)\n",
    "        # combined_mask = mask\n",
    "        # for any data augmentation we want to do since training with small set and to avoid overfitting\n",
    "        if self.transform:\n",
    "            image = self.transform(image)\n",
    "            mask = self.transform(mask)\n",
    "\n",
    "        return torch.tensor(image, dtype=torch.float32).permute(2,0,1), combined_mask"
   ]
  },
  {
   "cell_type": "markdown",
   "metadata": {},
   "source": [
    "Loading the training dataset"
   ]
  },
  {
   "cell_type": "code",
   "execution_count": 4,
   "metadata": {},
   "outputs": [
    {
     "name": "stdout",
     "output_type": "stream",
     "text": [
      "['image-10.png', 'image-12.png', 'image-2.png', 'image-21.png', 'image-24.png', 'image-27.png', 'image-28.png', 'image-30.png', 'image-43.png', 'image-7.png']\n",
      "['mask-10.png', 'mask-12.png', 'mask-2.png', 'mask-21.png', 'mask-24.png', 'mask-27.png', 'mask-28.png', 'mask-30.png', 'mask-43.png', 'mask-7.png']\n"
     ]
    }
   ],
   "source": [
    "train_dataset = PuzzleDataset(img_dir = \"./images-1024x768/train/\",\n",
    "                            mask_dir = \"./masks-1024x768/train/\")\n",
    "#since 10 images batches of 1 should be fine can do like batches of 2 i guess                        \n",
    "train_loader = DataLoader(train_dataset,batch_size =1, shuffle=True)\n",
    "\n",
    "# # # to visualise the images + masks \n",
    "# image, mask = train_dataset[2]\n",
    "# image = (image.permute(1, 2, 0).numpy() * 255).astype(np.uint8)\n",
    "# print(mask.shape)\n",
    "# mask = mask.squeeze(0)\n",
    "# # # Display the images\n",
    "# plt.figure()\n",
    "# plt.subplot(1,2,1), plt.imshow(image)\n",
    "# plt.subplot(1,2,2), plt.imshow(mask)\n",
    "\n"
   ]
  },
  {
   "cell_type": "markdown",
   "metadata": {},
   "source": [
    "# 3.1 Unet Construction\n",
    "## Add notes on this here (what is happening)"
   ]
  },
  {
   "cell_type": "markdown",
   "metadata": {},
   "source": [
    "## Vairant 1 : Using `torch.nn.ConvTranspose2d` for upsampling\n",
    "## Variant 1 : We removed the softmax in the unet with convolve to get to the required number of output classes (ask richard)."
   ]
  },
  {
   "cell_type": "code",
   "execution_count": 14,
   "metadata": {},
   "outputs": [],
   "source": [
    "# So this is the triple convolution, chat gpt says we should use normalization dont know if we should keep it\n",
    "class DoubleConv(nn.Module):\n",
    "    def __init__(self, in_channels, out_channels):\n",
    "        super(DoubleConv, self).__init__()\n",
    "        self.triple_conv = nn.Sequential(\n",
    "            nn.Conv2d(in_channels, out_channels, kernel_size=3, padding=1),\n",
    "            nn.BatchNorm2d(out_channels),\n",
    "            nn.ReLU(inplace=True),\n",
    "            nn.Conv2d(out_channels, out_channels, kernel_size=3, padding=1),\n",
    "            nn.BatchNorm2d(out_channels),\n",
    "            nn.ReLU(inplace=True),\n",
    "        )\n",
    "    def forward(self, x):\n",
    "        return self.triple_conv(x)\n",
    "    \n",
    "class Conv(nn.Module):\n",
    "    def __init__(self, in_channels, out_channels):\n",
    "        super(Conv, self).__init__()\n",
    "        self.triple_conv = nn.Sequential(\n",
    "            nn.Conv2d(in_channels, out_channels, kernel_size=3, padding=1),\n",
    "            nn.BatchNorm2d(out_channels),\n",
    "            nn.ReLU(inplace=True),\n",
    "        )\n",
    "    def forward(self, x):\n",
    "        return self.triple_conv(x)\n",
    "\n",
    "    \n",
    "# the down module is what the unet uses during the first half \n",
    "class Down(nn.Module):\n",
    "    def __init__(self, in_channels,out_channels):\n",
    "        super(Down, self).__init__()\n",
    "        self.conv_pool = nn.Sequential(\n",
    "            nn.MaxPool2d(kernel_size=2,stride=2,padding=0),\n",
    "            DoubleConv(in_channels,out_channels)\n",
    "        )\n",
    "\n",
    "    def forward(self, x):\n",
    "        ret_ = self.conv_pool(x)\n",
    "        return ret_\n",
    "\n",
    "# up transpose, \n",
    "class UpConvTranspose(nn.Module):\n",
    "    def __init__(self, in_channels, out_channels):\n",
    "        super(UpConvTranspose, self).__init__()\n",
    "        # to determine amount of out channels\n",
    "        self.up = nn.ConvTranspose2d(in_channels, out_channels, kernel_size=2, stride=2)\n",
    "        self.conv = Conv(out_channels, out_channels)\n",
    "\n",
    "    def forward(self,x):\n",
    "        x = self.up(x)\n",
    "        # adding from the down section\n",
    "        #x = torch.cat([x2, x1], dim=1)\n",
    "        return self.conv(x)\n",
    "\n",
    "class UpBilinear(nn.Module):\n",
    "    def __init__(self, in_channels, out_channels):\n",
    "        super(UpBilinear, self).__init__()\n",
    "        # the bilinear is provided by the nn module, we set the mode to bilinear here\n",
    "        self.up = nn.Upsample(scale_factor=2, mode='bilinear', align_corners=True)\n",
    "        self.conv = Conv(out_channels, out_channels)\n",
    "\n",
    "    def forward(self,x):\n",
    "        x = self.up(x)\n",
    "        return self.conv(x)\n",
    "    \n",
    "class Up(nn.Module):\n",
    "    def __init__(self, in_channels, out_channels,mode):\n",
    "        super(Up, self).__init__()\n",
    "        if(mode=='convtranspose'):\n",
    "            self.conv_pool = nn.Sequential(\n",
    "                UpConvTranspose(in_channels,out_channels),\n",
    "                Conv(out_channels,out_channels)\n",
    "            )\n",
    "        else:\n",
    "            self.conv_pool = nn.Sequential(\n",
    "                UpBilinear(in_channels,out_channels),\n",
    "                Conv(out_channels,out_channels)\n",
    "            )\n",
    "        \n",
    "        self.dconv = DoubleConv(out_channels*2,out_channels)\n",
    "    \n",
    "    def forward(self,x1,x2):\n",
    "        x = self.conv_pool(x1)\n",
    "        return self.dconv(torch.cat([x,x2],dim=1))\n",
    "\n",
    "    \n",
    "class SoftMax(nn.Module):\n",
    "    def __init__(self, in_channels):\n",
    "        super(SoftMax, self).__init__()\n",
    "        self.softmax = nn.Softmax(dim=1)\n",
    "\n",
    "    def forward(self, x):\n",
    "        x = self.softmax(x)\n",
    "        return torch.argmax(x,dim=1)\n",
    "\n",
    "class Unet(nn.Module):\n",
    "    def __init__(self, n_channels, n_classes, variant='convtranspose'):\n",
    "        super(Unet, self).__init__()\n",
    "        self.n_channels = n_channels\n",
    "        self.n_classes = n_classes\n",
    "        self.variant = variant\n",
    "\n",
    "        self.inc = DoubleConv(n_channels, 64)\n",
    "        self.down1 = Down(64,128)\n",
    "        self.down2 = Down(128,256)\n",
    "        self.down3 = Down(256,512)\n",
    "        self.down4 = Down(512,1024)\n",
    "        \n",
    "        self.up1 = Up(1024,512,variant)\n",
    "        self.up2 = Up(512, 256,variant)\n",
    "        self.up3 = Up(256, 128,variant)\n",
    "        self.up4 = Up(128, 64,variant)\n",
    "\n",
    "        self.outc = nn.Conv2d(64,2, kernel_size=1)\n",
    "\n",
    "\n",
    "    def forward(self, x):\n",
    "        batch_size = x.shape[0]\n",
    "        x1 = self.inc(x)\n",
    "        x2 = self.down1(x1)\n",
    "        x3 = self.down2(x2)\n",
    "        x4 = self.down3(x3)\n",
    "        x5 = self.down4(x4)\n",
    "        \n",
    "        x = self.up1(x5, x4)\n",
    "        x = self.up2(x, x3)\n",
    "        x = self.up3(x, x2)\n",
    "        x = self.up4(x, x1)\n",
    "        \n",
    "        logits = self.outc(x)\n",
    "        \n",
    "        return logits\n",
    "    "
   ]
  },
  {
   "cell_type": "markdown",
   "metadata": {},
   "source": [
    "NOTE: I just pushed to the cpu when I try putting the model on the gpu I get weird errors in training \n",
    "that I used up all the GPU memory maybe you wont get this error then just comment out `device=\"cpu\"\n",
    "`"
   ]
  },
  {
   "cell_type": "code",
   "execution_count": 15,
   "metadata": {},
   "outputs": [
    {
     "name": "stdout",
     "output_type": "stream",
     "text": [
      "cpu\n"
     ]
    },
    {
     "name": "stderr",
     "output_type": "stream",
     "text": [
      "  0%|          | 0/1 [00:00<?, ?it/s]"
     ]
    },
    {
     "name": "stdout",
     "output_type": "stream",
     "text": [
      "identifier torch.Size([1, 2, 768, 1024])\n",
      "identifier torch.Size([1, 2, 768, 1024])\n",
      "identifier torch.Size([1, 2, 768, 1024])\n",
      "identifier torch.Size([1, 2, 768, 1024])\n",
      "identifier torch.Size([1, 2, 768, 1024])\n",
      "identifier torch.Size([1, 2, 768, 1024])\n",
      "identifier torch.Size([1, 2, 768, 1024])\n",
      "identifier torch.Size([1, 2, 768, 1024])\n",
      "identifier torch.Size([1, 2, 768, 1024])\n",
      "identifier torch.Size([1, 2, 768, 1024])\n"
     ]
    },
    {
     "name": "stderr",
     "output_type": "stream",
     "text": [
      "100%|██████████| 1/1 [07:20<00:00, 440.37s/it]"
     ]
    },
    {
     "name": "stdout",
     "output_type": "stream",
     "text": [
      "Epoch [1/1], Loss: nan\n"
     ]
    },
    {
     "name": "stderr",
     "output_type": "stream",
     "text": [
      "\n"
     ]
    }
   ],
   "source": [
    "torch.cuda.empty_cache()\n",
    "\n",
    "device = torch.device('cuda' if torch.cuda.is_available() else 'cpu')\n",
    "device = \"cpu\"\n",
    "model = Unet(n_channels=3, n_classes=2, variant='convtranspose')  # Example: 3 input channels, 2 output classes\n",
    "model = model.to(device)\n",
    "\n",
    "# Define the loss function\n",
    "criterion = nn.BCEWithLogitsLoss() \n",
    "\n",
    "# Define the optimizer\n",
    "optimizer = optim.Adam(model.parameters(), lr=1e-4)\n",
    "\n",
    "print(device)\n",
    "num_epochs = 1  # Set the number of epochs\n",
    "\n",
    "for epoch in tqdm(range(num_epochs)):\n",
    "    model.train()  # Set the model to training mode\n",
    "    running_loss = 0.0\n",
    "    \n",
    "    for images, masks in tqdm(train_loader):\n",
    "        # Move data to the device (GPU/CPU)\n",
    "        images, masks = images.to(device), masks.to(device)\n",
    "        print(\"identifier\",masks.shape)\n",
    "        # Zero the parameter gradients\n",
    "        optimizer.zero_grad()\n",
    "        \n",
    "        # Forward pass\n",
    "        outputs = model(images)\n",
    "        outputs = outputs.float()\n",
    "        # print(\"outputs\",outputs.shape)\n",
    "        # print(\"masks\",masks.shape)\n",
    "        # Compute the loss\n",
    "        \n",
    "        loss = criterion(outputs, masks)\n",
    "        # Backward pass and optimize\n",
    "        loss.backward()\n",
    "        optimizer.step()\n",
    "        \n",
    "        # Accumulate loss\n",
    "        running_loss += loss.item()\n",
    "    \n",
    "    # Print epoch loss\n",
    "    print(f\"Epoch [{epoch + 1}/{num_epochs}], Loss: {running_loss / len(train_loader)}\")\n",
    "\n",
    "# run tensorboard --logdir=runs to see network"
   ]
  },
  {
   "cell_type": "code",
   "execution_count": 16,
   "metadata": {},
   "outputs": [
    {
     "name": "stdout",
     "output_type": "stream",
     "text": [
      "['image-10.png', 'image-12.png', 'image-2.png', 'image-21.png', 'image-24.png', 'image-27.png', 'image-28.png', 'image-30.png', 'image-43.png', 'image-7.png']\n",
      "['mask-10.png', 'mask-12.png', 'mask-2.png', 'mask-21.png', 'mask-24.png', 'mask-27.png', 'mask-28.png', 'mask-30.png', 'mask-43.png', 'mask-7.png']\n"
     ]
    },
    {
     "data": {
      "image/png": "[encoded data removed]",
      "text/plain": [
       "<Figure size 640x480 with 1 Axes>"
      ]
     },
     "metadata": {},
     "output_type": "display_data"
    }
   ],
   "source": [
    "test_dataset = PuzzleDataset(img_dir = \"./images-1024x768/train/\",\n",
    "                            mask_dir = \"./masks-1024x768/train/\")\n",
    "#since 10 images batches of 1 should be fine can do like batches of 2 i guess                        \n",
    "test_loader = DataLoader(test_dataset,batch_size =1, shuffle=True)\n",
    "model.eval()\n",
    "for image,mask in test_loader:\n",
    "    images = images.to(device)\n",
    "\n",
    "    with torch.no_grad():\n",
    "        outputs = model(images)\n",
    "        #apply the softmax here not in the network\n",
    "        probs = torch.softmax(outputs, dim = 1 )\n",
    "\n",
    "        predicted_mask = torch.argmax(probs, dim=1)\n",
    "        plt.imshow(predicted_mask.squeeze(0).cpu().numpy(),cmap=\"gray\")\n",
    "        plt.show()\n",
    "        break\n",
    "    # just for the push\n",
    "    "
   ]
  },
  {
   "cell_type": "markdown",
   "metadata": {},
   "source": [
    "## Vairant 2: Using `torch.nn.Upsample` for bilinear upsampling"
   ]
  },
  {
   "cell_type": "code",
   "execution_count": null,
   "metadata": {},
   "outputs": [],
   "source": []
  },
  {
   "cell_type": "markdown",
   "metadata": {},
   "source": [
    "# 3.2 Training and evaluation \n",
    "### Training\n",
    "- [ ] Implement the training loop with binary cross entropy loss for pixel-wise classification\n",
    "- [ ] Adam Optimiser to update the model parameters\n",
    "**Note** have regularly saved checkpoints and evaluate model in the validation set to avoid over fitting"
   ]
  },
  {
   "cell_type": "code",
   "execution_count": null,
   "metadata": {},
   "outputs": [],
   "source": []
  },
  {
   "cell_type": "markdown",
   "metadata": {},
   "source": [
    "### Weights and biases integration\n",
    "Log the following:\n",
    "- [ ] Track BCE loss over epochs\n",
    "- [ ] IoU for both training and validation sets to monitor the segmentation performance\n",
    "\n",
    "### Need to submit from the wandb dashboard\n",
    "- Loss curves (training and validation over epochs)\n",
    "- IoU curves (training and validation over epochs)\n",
    "\n",
    "### Remember to comment on comment on whether the model is overfitting and how to recognise this and deal with the problem"
   ]
  },
  {
   "cell_type": "code",
   "execution_count": null,
   "metadata": {},
   "outputs": [],
   "source": []
  },
  {
   "cell_type": "markdown",
   "metadata": {},
   "source": [
    "### Evaluation\n",
    "evaluate model on test set \n",
    "- accuracy\n",
    "- precision\n",
    "- recall\n",
    "- F1 score\n",
    "- IoU\n",
    "\n",
    "# Select the best model based on the validation IoU and report its performance on the test set"
   ]
  },
  {
   "cell_type": "code",
   "execution_count": null,
   "metadata": {},
   "outputs": [],
   "source": []
  },
  {
   "cell_type": "markdown",
   "metadata": {},
   "source": [
    "# 4 Other architectures\n"
   ]
  }
 ],
 "metadata": {
  "kernelspec": {
   "display_name": "Python 3 (ipykernel)",
   "language": "python",
   "name": "python3"
  },
  "language_info": {
   "codemirror_mode": {
    "name": "ipython",
    "version": 3
   },
   "file_extension": ".py",
   "mimetype": "text/x-python",
   "name": "python",
   "nbconvert_exporter": "python",
   "pygments_lexer": "ipython3",
   "version": "3.8.19"
  }
 },
 "nbformat": 4,
 "nbformat_minor": 4
}
