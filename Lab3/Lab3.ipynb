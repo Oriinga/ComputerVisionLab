{
 "cells": [
  {
   "cell_type": "code",
   "execution_count": 1,
   "metadata": {},
   "outputs": [],
   "source": [
    "# %pip install torchviz"
   ]
  },
  {
   "cell_type": "code",
   "execution_count": 2,
   "metadata": {},
   "outputs": [
    {
     "data": {
      "text/plain": [
       "'this is just for me since gpu bugged'"
      ]
     },
     "execution_count": 2,
     "metadata": {},
     "output_type": "execute_result"
    }
   ],
   "source": [
    "\"\"\"this is just for me since gpu bugged\"\"\"\n",
    "# %env CUDA_VISIBLE_DEVICES=1"
   ]
  },
  {
   "cell_type": "code",
   "execution_count": 3,
   "metadata": {},
   "outputs": [
    {
     "name": "stderr",
     "output_type": "stream",
     "text": [
      "/home-mscluster/remoosa/miniconda3/envs/research/lib/python3.8/site-packages/torchvision/io/image.py:13: UserWarning: Failed to load image Python extension: '/home-mscluster/remoosa/miniconda3/envs/research/lib/python3.8/site-packages/torchvision/image.so: undefined symbol: _ZN3c1017RegisterOperatorsD1Ev'If you don't plan on using image functionality from `torchvision.io`, you can ignore this warning. Otherwise, there might be something wrong with your environment. Did you have `libjpeg` or `libpng` installed before building `torchvision` from source?\n",
      "  warn(\n"
     ]
    }
   ],
   "source": [
    "# MAIN IMPORTS \n",
    "import torch\n",
    "import torch.nn as nn\n",
    "from torch.utils.tensorboard import SummaryWriter\n",
    "\n",
    "from tqdm import tqdm\n",
    "from torchviz import make_dot\n",
    "import cv2\n",
    "import numpy as np\n",
    "import matplotlib.pyplot as plt\n",
    "from sklearn.metrics import confusion_matrix\n",
    "from torch.utils.data import DataLoader\n",
    "from torch.utils.data import Dataset\n",
    "import torch.optim as optim\n",
    "import os\n",
    "import torchvision.transforms as T\n",
    "from skimage import transform as sktf\n",
    "from skimage.util import random_noise\n",
    "import random\n",
    "\n",
    "# https://pytorch.org/tutorials/beginner/introyt/modelsyt_tutorial.html - documetnation on how to make a pytorch model"
   ]
  },
  {
   "cell_type": "markdown",
   "metadata": {},
   "source": [
    "# Data preprocessing \n",
    "- dataloaders\n",
    "- augmentation pipeline\n",
    "## Add notes on this here (what is happening)\n",
    "- added some transforms that are vert and hor flips including rotation\n",
    "- [ ] TODO Add random noise shapes in the image outside the mask maybe that will help the model learn better"
   ]
  },
  {
   "cell_type": "code",
   "execution_count": 4,
   "metadata": {},
   "outputs": [],
   "source": [
    "#data loader\n",
    "# the images are loaded as float32 and normalised\n",
    "# the mask is thresholded at 0.5 \n",
    "\"\"\" the permute is needed since the format for image tensors must be (C, H, W)\n",
    "But when we read from opencv the shape is (H, W, C)\n",
    "and the mask must be of dim (1, H, W) since single channel - unsqueeze add this channel\n",
    "\"\"\"\n",
    "# returned as tensors \n",
    "\n",
    "class PuzzleDataset(Dataset):\n",
    "    def __init__(self, img_dir, mask_dir, transform=None, num_transforms=0):\n",
    "        self.img_dir = img_dir\n",
    "        self.mask_dir = mask_dir\n",
    "        self.transform = transform\n",
    "        self.num_transforms = num_transforms\n",
    "        images = sorted(os.listdir(img_dir))\n",
    "        masks = sorted(os.listdir(mask_dir))\n",
    "        self.data = []\n",
    "\n",
    "        for i in range(len(images)):\n",
    "            img_path = os.path.join(self.img_dir, images[i])\n",
    "            mask_path = os.path.join(self.mask_dir, masks[i])\n",
    "\n",
    "          \n",
    "            image = cv2.imread(img_path)\n",
    "            image = cv2.cvtColor(image, cv2.COLOR_BGR2RGB)\n",
    "            image = cv2.resize(image, (512, 512))\n",
    "            image = image.astype(np.float32)/255.0\n",
    "            # image = Image.fromarray(image)  \n",
    "\n",
    "            \n",
    "            mask = cv2.imread(mask_path, cv2.IMREAD_GRAYSCALE)\n",
    "            mask = cv2.resize(mask, (512,512))\n",
    "            mask = (mask > 0.5).astype(np.float32) \n",
    "            # mask = Image.fromarray(mask)  #   PIL image needed for transforms\n",
    "\n",
    "            # store the original image and mask\n",
    "            self.append_image_mask(image, mask)\n",
    "\n",
    "            # do transformations \n",
    "            for _ in range(self.num_transforms):\n",
    "                transformed_image, transformed_mask = self.apply_transform(image, mask)\n",
    "                self.append_image_mask(transformed_image, transformed_mask)\n",
    "\n",
    "    def apply_transform(self, image, mask):\n",
    "        \"\"\"Apply deterministic transformations to both image and mask\n",
    "        This is imortant since using the torchvision.transforms was givin a random transform\n",
    "        for both image and mask -> they didn't match up\"\"\"\n",
    "        if self.transform:\n",
    "            \n",
    "            if random.random() > 0.5:\n",
    "                image = np.fliplr(image)\n",
    "                mask = np.fliplr(mask)\n",
    "\n",
    "           \n",
    "            if random.random() > 0.5:\n",
    "                image = np.flipud(image)\n",
    "                mask = np.flipud(mask)\n",
    "\n",
    "            # Apply rotation deterministically\n",
    "            angle = np.random.uniform(-30, 30)\n",
    "            image = sktf.rotate(image, angle, mode=\"edge\" , preserve_range=True)\n",
    "            mask = sktf.rotate(mask, angle, mode=\"edge\" , preserve_range=True)\n",
    "\n",
    "        return image, mask\n",
    "\n",
    "    def append_image_mask(self, image, mask):\n",
    "        \"\"\"need to store them as tensors.\"\"\"\n",
    "        image = torch.tensor(image.transpose((2, 0, 1)), dtype=torch.float32) # (C, H, W)\n",
    "        mask = torch.tensor(mask[None, ...], dtype=torch.float32)   # (1, H, W)\n",
    "\n",
    "       \n",
    "        inverse_mask = 1 - mask\n",
    "        combined_mask = torch.cat([inverse_mask, mask], dim=0)  # Combined (2, H, W)\n",
    "\n",
    "     \n",
    "        self.data.append((image, combined_mask))\n",
    "\n",
    "    def __len__(self):\n",
    "        return len(self.data)\n",
    "\n",
    "    def __getitem__(self, idx):\n",
    "        return self.data[idx]\n"
   ]
  },
  {
   "cell_type": "markdown",
   "metadata": {},
   "source": [
    "Loading the training dataset\n",
    "- NOTE increasing batch size to 5 since our dataset size is up to 40 now"
   ]
  },
  {
   "cell_type": "code",
   "execution_count": 5,
   "metadata": {},
   "outputs": [
    {
     "name": "stdout",
     "output_type": "stream",
     "text": [
      "40\n",
      "torch.Size([2, 512, 512])\n"
     ]
    },
    {
     "data": {
      "text/plain": [
       "(<Axes: >, <matplotlib.image.AxesImage at 0x7f2c2eca1460>)"
      ]
     },
     "execution_count": 5,
     "metadata": {},
     "output_type": "execute_result"
    },
    {
     "data": {
      "image/png": "[encoded data removed]",
      "text/plain": [
       "<Figure size 640x480 with 2 Axes>"
      ]
     },
     "metadata": {},
     "output_type": "display_data"
    }
   ],
   "source": [
    "#  list of transformations\n",
    "# transform_list = [\n",
    "#     T.RandomHorizontalFlip(),\n",
    "#     T.RandomVerticalFlip(),\n",
    "#     T.RandomRotation(30),\n",
    "# ]\n",
    "\n",
    "\n",
    "train_dataset = PuzzleDataset(\n",
    "    img_dir=\"./images-1024x768/train/\",\n",
    "    mask_dir=\"./masks-1024x768/train/\", \n",
    "    transform=True,\n",
    "    num_transforms=3  \n",
    ")\n",
    "#since 10 images batches of 1 should be fine can do like batches of 2 i guess                        \n",
    "# note we now have more images since transform applied so maybe adjust batches\n",
    "train_loader = DataLoader(train_dataset,batch_size =2, shuffle=True)\n",
    "\n",
    "print(len(train_dataset.data))\n",
    "# # to visualise the images + masks are in correct pairing\n",
    "image, mask = train_dataset[6]\n",
    "\n",
    "image_np = (image.permute(1, 2, 0).numpy() * 255).astype(np.uint8)\n",
    "mask_np = mask.permute(1, 2, 0).numpy()\n",
    "print(mask.shape)\n",
    "\n",
    "\n",
    "#to collapse the separate channels of bg and fg mask\n",
    "if mask_np.shape[2] == 2:\n",
    "    mask_np = np.argmax(mask_np, axis=2)\n",
    "    \n",
    "plt.figure()\n",
    "plt.subplot(1,2,1), plt.imshow(image_np)\n",
    "plt.subplot(1,2,2), plt.imshow(mask_np, cmap=\"gray\")\n",
    "\n"
   ]
  },
  {
   "cell_type": "markdown",
   "metadata": {},
   "source": [
    "# 3.1 Unet Construction\n",
    "## Add notes on this here (what is happening)"
   ]
  },
  {
   "cell_type": "code",
   "execution_count": 6,
   "metadata": {},
   "outputs": [
    {
     "data": {
      "text/plain": [
       "'start_epoch = load_checkpoint(model, optimizer)'"
      ]
     },
     "execution_count": 6,
     "metadata": {},
     "output_type": "execute_result"
    }
   ],
   "source": [
    "\"\"\" Adding checkpoints as required and to avoid training everytime someone wants to test\"\"\"\n",
    "def save_checkpoint(model, optimizer, epoch, filename=\"checkpoint.pth\"):\n",
    "    checkpoint = {\n",
    "        'model_state_dict': model.state_dict(),\n",
    "        'optimizer_state_dict': optimizer.state_dict(),\n",
    "        'epoch': epoch,\n",
    "    }\n",
    "    torch.save(checkpoint, filename)\n",
    "    print(f\"Checkpoint saved at epoch {epoch}.\")\n",
    "\n",
    "\n",
    "# use as in training\n",
    "\"\"\"save_checkpoint(model, optimizer, epoch)\"\"\"\n",
    "\n",
    "\n",
    "def load_checkpoint(model, optimizer, filename=\"checkpoint.pth\"):\n",
    "    if os.path.isfile(filename):\n",
    "        checkpoint = torch.load(filename)\n",
    "        model.load_state_dict(checkpoint['model_state_dict'])\n",
    "        optimizer.load_state_dict(checkpoint['optimizer_state_dict'])\n",
    "        epoch = checkpoint['epoch']\n",
    "        print(f\"Checkpoint loaded from epoch {epoch}.\")\n",
    "        return epoch\n",
    "    else:\n",
    "        print(\"No checkpoint found.\")\n",
    "        return 0  # training from start ...\n",
    "\n",
    "# before training starts to load model\n",
    "\"\"\"start_epoch = load_checkpoint(model, optimizer)\"\"\"\n"
   ]
  },
  {
   "cell_type": "markdown",
   "metadata": {},
   "source": [
    "## Vairant 1 : Using `torch.nn.ConvTranspose2d` for upsampling\n",
    "- We removed the softmax in the unet with convolve to get to the required number of output classes (ask richard).\n",
    "- Having the argmax inside the network caused issues with backprop so we only compute the raw logits and use these for the BCE loss\n",
    "then use the apply softmax outside when performing inference on the test set."
   ]
  },
  {
   "cell_type": "code",
   "execution_count": 7,
   "metadata": {},
   "outputs": [],
   "source": [
    "# So this is the triple convolution, chat gpt says we should use normalization dont know if we should keep it\n",
    "class DoubleConv(nn.Module):\n",
    "    def __init__(self, in_channels, out_channels):\n",
    "        super(DoubleConv, self).__init__()\n",
    "        self.triple_conv = nn.Sequential(\n",
    "            nn.Conv2d(in_channels, out_channels, kernel_size=3, padding=1),\n",
    "            nn.BatchNorm2d(out_channels),\n",
    "            nn.ReLU(inplace=True),\n",
    "            nn.Conv2d(out_channels, out_channels, kernel_size=3, padding=1),\n",
    "            nn.BatchNorm2d(out_channels),\n",
    "            nn.ReLU(inplace=True),\n",
    "        )\n",
    "    def forward(self, x):\n",
    "        return self.triple_conv(x)\n",
    "    \n",
    "class Conv(nn.Module):\n",
    "    def __init__(self, in_channels, out_channels):\n",
    "        super(Conv, self).__init__()\n",
    "        self.triple_conv = nn.Sequential(\n",
    "            nn.Conv2d(in_channels, out_channels, kernel_size=3, padding=1),\n",
    "            nn.BatchNorm2d(out_channels),\n",
    "            nn.ReLU(inplace=True),\n",
    "        )\n",
    "    def forward(self, x):\n",
    "        return self.triple_conv(x)\n",
    "\n",
    "    \n",
    "# the down module is what the unet uses during the first half \n",
    "class Down(nn.Module):\n",
    "    def __init__(self, in_channels,out_channels):\n",
    "        super(Down, self).__init__()\n",
    "        self.conv_pool = nn.Sequential(\n",
    "            nn.MaxPool2d(kernel_size=2,stride=2,padding=0),\n",
    "            DoubleConv(in_channels,out_channels)\n",
    "        )\n",
    "\n",
    "    def forward(self, x):\n",
    "        ret_ = self.conv_pool(x)\n",
    "        return ret_\n",
    "\n",
    "# up transpose, \n",
    "class UpConvTranspose(nn.Module):\n",
    "    def __init__(self, in_channels, out_channels):\n",
    "        super(UpConvTranspose, self).__init__()\n",
    "        # to determine amount of out channels\n",
    "        self.up = nn.ConvTranspose2d(in_channels, out_channels, kernel_size=2, stride=2)\n",
    "        self.conv = Conv(out_channels, out_channels)\n",
    "\n",
    "    def forward(self,x):\n",
    "        x = self.up(x)\n",
    "        return self.conv(x)\n",
    "\n",
    "class UpBilinear(nn.Module):\n",
    "    def __init__(self, in_channels, out_channels):\n",
    "        super(UpBilinear, self).__init__()\n",
    "        # the bilinear is provided by the nn module, we set the mode to bilinear here\n",
    "        self.up = nn.Upsample(scale_factor=2, mode='bilinear', align_corners=True)\n",
    "        self.conv = Conv(out_channels, out_channels)\n",
    "\n",
    "    def forward(self,x):\n",
    "        x = self.up(x)\n",
    "        return self.conv(x)\n",
    "    \n",
    "class Up(nn.Module):\n",
    "    def __init__(self, in_channels, out_channels,mode):\n",
    "        super(Up, self).__init__()\n",
    "        if(mode=='convtranspose'):\n",
    "            self.conv_pool = nn.Sequential(\n",
    "                UpConvTranspose(in_channels,out_channels),\n",
    "                Conv(out_channels,out_channels)\n",
    "            )\n",
    "        else:\n",
    "            self.conv_pool = nn.Sequential(\n",
    "                UpBilinear(in_channels,out_channels),\n",
    "                Conv(out_channels,out_channels)\n",
    "            )\n",
    "        \n",
    "        self.dconv = DoubleConv(out_channels*2,out_channels)\n",
    "    \n",
    "    def forward(self,x1,x2):\n",
    "        x = self.conv_pool(x1)\n",
    "        return self.dconv(torch.cat([x,x2],dim=1))\n",
    "\n",
    "    \n",
    "class SoftMax(nn.Module):\n",
    "    def __init__(self, in_channels):\n",
    "        super(SoftMax, self).__init__()\n",
    "        self.softmax = nn.Softmax(dim=1)\n",
    "\n",
    "    def forward(self, x):\n",
    "        x = self.softmax(x)\n",
    "        return torch.argmax(x,dim=1)\n",
    "\n",
    "class Unet(nn.Module):\n",
    "    def __init__(self, n_channels, n_classes, variant='convtranspose'):\n",
    "        super(Unet, self).__init__()\n",
    "        self.n_channels = n_channels\n",
    "        self.n_classes = n_classes\n",
    "        self.variant = variant\n",
    "\n",
    "        self.inc = DoubleConv(n_channels, 64)\n",
    "        self.down1 = Down(64,128)\n",
    "        self.down2 = Down(128,256)\n",
    "        self.down3 = Down(256,512)\n",
    "        self.down4 = Down(512,1024)\n",
    "        \n",
    "        self.up1 = Up(1024,512,variant)\n",
    "        self.up2 = Up(512, 256,variant)\n",
    "        self.up3 = Up(256, 128,variant)\n",
    "        self.up4 = Up(128, 64,variant)\n",
    "\n",
    "        self.outc = nn.Conv2d(64,2, kernel_size=1)\n",
    "\n",
    "\n",
    "    def forward(self, x):\n",
    "        x1 = self.inc(x)\n",
    "        x2 = self.down1(x1)\n",
    "        x3 = self.down2(x2)\n",
    "        x4 = self.down3(x3)\n",
    "        x5 = self.down4(x4)\n",
    "        \n",
    "        x = self.up1(x5, x4)\n",
    "        x = self.up2(x, x3)\n",
    "        x = self.up3(x, x2)\n",
    "        x = self.up4(x, x1)\n",
    "        \n",
    "        logits = self.outc(x)\n",
    "        \n",
    "        return logits\n",
    "    "
   ]
  },
  {
   "cell_type": "code",
   "execution_count": 8,
   "metadata": {},
   "outputs": [],
   "source": [
    "def calculate_iou(preds, targets, threshold=0.5):\n",
    "    preds = (torch.sigmoid(preds) > threshold).float()\n",
    "    intersection = torch.sum(preds * targets, dim=[2, 3])\n",
    "    union = torch.sum(preds, dim=[2, 3]) + torch.sum(targets, dim=[2, 3]) - intersection\n",
    "    iou = (intersection + 1e-6) / (union + 1e-6)  # Add a small epsilon to avoid division by zero\n",
    "    return iou.mean().item()\n"
   ]
  },
  {
   "cell_type": "markdown",
   "metadata": {},
   "source": [
    "NOTE: I just pushed to the cpu when I try putting the model on the gpu I get weird errors in training \n",
    "that I used up all the GPU memory maybe you wont get this error then just comment out `device=\"cpu\"\n",
    "`"
   ]
  },
  {
   "cell_type": "code",
   "execution_count": 9,
   "metadata": {},
   "outputs": [
    {
     "name": "stdout",
     "output_type": "stream",
     "text": [
      "0.18.1\n"
     ]
    }
   ],
   "source": [
    "import wandb\n",
    "print(wandb.__version__)\n"
   ]
  },
  {
   "cell_type": "code",
   "execution_count": 10,
   "metadata": {
    "scrolled": true
   },
   "outputs": [
    {
     "name": "stderr",
     "output_type": "stream",
     "text": [
      "\u001b[34m\u001b[1mwandb\u001b[0m: Using wandb-core as the SDK backend. Please refer to https://wandb.me/wandb-core for more information.\n",
      "\u001b[34m\u001b[1mwandb\u001b[0m: Currently logged in as: \u001b[33m2322203\u001b[0m (\u001b[33m2322203-witwatersrand-university\u001b[0m). Use \u001b[1m`wandb login --relogin`\u001b[0m to force relogin\n"
     ]
    },
    {
     "data": {
      "text/html": [
       "Tracking run with wandb version 0.18.1"
      ],
      "text/plain": [
       "<IPython.core.display.HTML object>"
      ]
     },
     "metadata": {},
     "output_type": "display_data"
    },
    {
     "data": {
      "text/html": [
       "Run data is saved locally in <code>/home-mscluster/remoosa/ComputerVisionLab/Lab3/wandb/run-20240919_182011-ay56wsjw</code>"
      ],
      "text/plain": [
       "<IPython.core.display.HTML object>"
      ]
     },
     "metadata": {},
     "output_type": "display_data"
    },
    {
     "data": {
      "text/html": [
       "Syncing run <strong><a href='https://wandb.ai/2322203-witwatersrand-university/Unet%20variant%201/runs/ay56wsjw' target=\"_blank\">eternal-bush-27</a></strong> to <a href='https://wandb.ai/2322203-witwatersrand-university/Unet%20variant%201' target=\"_blank\">Weights & Biases</a> (<a href='https://wandb.me/run' target=\"_blank\">docs</a>)<br/>"
      ],
      "text/plain": [
       "<IPython.core.display.HTML object>"
      ]
     },
     "metadata": {},
     "output_type": "display_data"
    },
    {
     "data": {
      "text/html": [
       " View project at <a href='https://wandb.ai/2322203-witwatersrand-university/Unet%20variant%201' target=\"_blank\">https://wandb.ai/2322203-witwatersrand-university/Unet%20variant%201</a>"
      ],
      "text/plain": [
       "<IPython.core.display.HTML object>"
      ]
     },
     "metadata": {},
     "output_type": "display_data"
    },
    {
     "data": {
      "text/html": [
       " View run at <a href='https://wandb.ai/2322203-witwatersrand-university/Unet%20variant%201/runs/ay56wsjw' target=\"_blank\">https://wandb.ai/2322203-witwatersrand-university/Unet%20variant%201/runs/ay56wsjw</a>"
      ],
      "text/plain": [
       "<IPython.core.display.HTML object>"
      ]
     },
     "metadata": {},
     "output_type": "display_data"
    },
    {
     "data": {
      "text/html": [
       "<button onClick=\"this.nextSibling.style.display='block';this.style.display='none';\">Display W&B run</button><iframe src='https://wandb.ai/2322203-witwatersrand-university/Unet%20variant%201/runs/ay56wsjw?jupyter=true' style='border:none;width:100%;height:420px;display:none;'></iframe>"
      ],
      "text/plain": [
       "<wandb.sdk.wandb_run.Run at 0x7f2bfe7d79d0>"
      ]
     },
     "execution_count": 10,
     "metadata": {},
     "output_type": "execute_result"
    }
   ],
   "source": [
    "\n",
    "import wandb\n",
    "wandb.init(project=\"Unet variant 1\")\n"
   ]
  },
  {
   "cell_type": "code",
   "execution_count": 11,
   "metadata": {},
   "outputs": [],
   "source": [
    "\n",
    "val_dataset = PuzzleDataset(\n",
    "    img_dir=\"./images-1024x768/val/\",\n",
    "    mask_dir=\"./masks-1024x768/val/\", \n",
    ")\n",
    "val_loader = DataLoader(val_dataset, batch_size=1, shuffle=False)"
   ]
  },
  {
   "cell_type": "code",
   "execution_count": 12,
   "metadata": {},
   "outputs": [
    {
     "data": {
      "text/plain": [
       "' so I can train the model you can comment this block out'"
      ]
     },
     "execution_count": 12,
     "metadata": {},
     "output_type": "execute_result"
    }
   ],
   "source": [
    "\n",
    "\"\"\" so I can train the model you can comment this block out\"\"\"\n",
    "\n",
    "# torch.cuda.set_device(0)"
   ]
  },
  {
   "cell_type": "code",
   "execution_count": 13,
   "metadata": {},
   "outputs": [
    {
     "name": "stdout",
     "output_type": "stream",
     "text": [
      "Device: cuda\n",
      "No checkpoint found.\n"
     ]
    },
    {
     "name": "stderr",
     "output_type": "stream",
     "text": [
      "  0%|          | 0/10 [00:00<?, ?it/s]\n",
      "  0%|          | 0/20 [00:00<?, ?it/s]\u001b[A"
     ]
    },
    {
     "name": "stdout",
     "output_type": "stream",
     "text": [
      "Outputs min: -5.801380157470703, max: 7.0505290031433105, shape: torch.Size([2, 2, 512, 512])\n",
      "Masks min: 0.0, max: 1.0, shape: torch.Size([2, 2, 512, 512])\n"
     ]
    },
    {
     "name": "stderr",
     "output_type": "stream",
     "text": [
      "\n",
      "  5%|▌         | 1/20 [00:05<01:40,  5.29s/it]\u001b[A"
     ]
    },
    {
     "name": "stdout",
     "output_type": "stream",
     "text": [
      "Outputs min: -3.8877780437469482, max: 5.1997528076171875, shape: torch.Size([2, 2, 512, 512])\n",
      "Masks min: 0.0, max: 1.0, shape: torch.Size([2, 2, 512, 512])\n"
     ]
    },
    {
     "name": "stderr",
     "output_type": "stream",
     "text": [
      "\n",
      " 10%|█         | 2/20 [00:06<00:47,  2.64s/it]\u001b[A"
     ]
    },
    {
     "name": "stdout",
     "output_type": "stream",
     "text": [
      "Outputs min: -5.483431339263916, max: 5.194314479827881, shape: torch.Size([2, 2, 512, 512])\n",
      "Masks min: 0.0, max: 1.0, shape: torch.Size([2, 2, 512, 512])\n"
     ]
    },
    {
     "name": "stderr",
     "output_type": "stream",
     "text": [
      "\n",
      " 15%|█▌        | 3/20 [00:06<00:30,  1.79s/it]\u001b[A"
     ]
    },
    {
     "name": "stdout",
     "output_type": "stream",
     "text": [
      "Outputs min: -4.74241304397583, max: 4.918402671813965, shape: torch.Size([2, 2, 512, 512])\n",
      "Masks min: 0.0, max: 1.0, shape: torch.Size([2, 2, 512, 512])\n"
     ]
    },
    {
     "name": "stderr",
     "output_type": "stream",
     "text": [
      "\n",
      " 20%|██        | 4/20 [00:07<00:22,  1.39s/it]\u001b[A"
     ]
    },
    {
     "name": "stdout",
     "output_type": "stream",
     "text": [
      "Outputs min: -4.619184494018555, max: 5.519948482513428, shape: torch.Size([2, 2, 512, 512])\n",
      "Masks min: 0.0, max: 1.0, shape: torch.Size([2, 2, 512, 512])\n"
     ]
    },
    {
     "name": "stderr",
     "output_type": "stream",
     "text": [
      "\n",
      " 25%|██▌       | 5/20 [00:08<00:17,  1.17s/it]\u001b[A"
     ]
    },
    {
     "name": "stdout",
     "output_type": "stream",
     "text": [
      "Outputs min: -4.799867153167725, max: 4.583043098449707, shape: torch.Size([2, 2, 512, 512])\n",
      "Masks min: 0.0, max: 1.0, shape: torch.Size([2, 2, 512, 512])\n"
     ]
    },
    {
     "name": "stderr",
     "output_type": "stream",
     "text": [
      "\n",
      " 30%|███       | 6/20 [00:09<00:14,  1.04s/it]\u001b[A"
     ]
    },
    {
     "name": "stdout",
     "output_type": "stream",
     "text": [
      "Outputs min: -3.1668124198913574, max: 5.267543315887451, shape: torch.Size([2, 2, 512, 512])\n",
      "Masks min: 0.0, max: 1.0, shape: torch.Size([2, 2, 512, 512])\n"
     ]
    },
    {
     "name": "stderr",
     "output_type": "stream",
     "text": [
      "\n",
      " 35%|███▌      | 7/20 [00:09<00:12,  1.05it/s]\u001b[A"
     ]
    },
    {
     "name": "stdout",
     "output_type": "stream",
     "text": [
      "Outputs min: -3.1992125511169434, max: 4.076310157775879, shape: torch.Size([2, 2, 512, 512])\n",
      "Masks min: 0.0, max: 1.0, shape: torch.Size([2, 2, 512, 512])\n"
     ]
    },
    {
     "name": "stderr",
     "output_type": "stream",
     "text": [
      "\n",
      " 40%|████      | 8/20 [00:10<00:10,  1.11it/s]\u001b[A"
     ]
    },
    {
     "name": "stdout",
     "output_type": "stream",
     "text": [
      "Outputs min: -2.600303888320923, max: 3.1379196643829346, shape: torch.Size([2, 2, 512, 512])\n",
      "Masks min: 0.0, max: 1.0, shape: torch.Size([2, 2, 512, 512])\n"
     ]
    },
    {
     "name": "stderr",
     "output_type": "stream",
     "text": [
      "\n",
      " 45%|████▌     | 9/20 [00:11<00:09,  1.16it/s]\u001b[A"
     ]
    },
    {
     "name": "stdout",
     "output_type": "stream",
     "text": [
      "Outputs min: -2.440131187438965, max: 3.3095309734344482, shape: torch.Size([2, 2, 512, 512])\n",
      "Masks min: 0.0, max: 1.0, shape: torch.Size([2, 2, 512, 512])\n"
     ]
    },
    {
     "name": "stderr",
     "output_type": "stream",
     "text": [
      "\n",
      " 50%|█████     | 10/20 [00:12<00:08,  1.19it/s]\u001b[A"
     ]
    },
    {
     "name": "stdout",
     "output_type": "stream",
     "text": [
      "Outputs min: -3.2488176822662354, max: 3.8532323837280273, shape: torch.Size([2, 2, 512, 512])\n",
      "Masks min: 0.0, max: 1.0, shape: torch.Size([2, 2, 512, 512])\n"
     ]
    },
    {
     "name": "stderr",
     "output_type": "stream",
     "text": [
      "\n",
      " 55%|█████▌    | 11/20 [00:13<00:07,  1.22it/s]\u001b[A"
     ]
    },
    {
     "name": "stdout",
     "output_type": "stream",
     "text": [
      "Outputs min: -3.1120145320892334, max: 4.056028842926025, shape: torch.Size([2, 2, 512, 512])\n",
      "Masks min: 0.0, max: 1.0, shape: torch.Size([2, 2, 512, 512])\n"
     ]
    },
    {
     "name": "stderr",
     "output_type": "stream",
     "text": [
      "\n",
      " 60%|██████    | 12/20 [00:13<00:06,  1.24it/s]\u001b[A"
     ]
    },
    {
     "name": "stdout",
     "output_type": "stream",
     "text": [
      "Outputs min: -2.7819809913635254, max: 3.5113086700439453, shape: torch.Size([2, 2, 512, 512])\n",
      "Masks min: 0.0, max: 1.0, shape: torch.Size([2, 2, 512, 512])\n"
     ]
    },
    {
     "name": "stderr",
     "output_type": "stream",
     "text": [
      "\n",
      " 65%|██████▌   | 13/20 [00:14<00:05,  1.25it/s]\u001b[A"
     ]
    },
    {
     "name": "stdout",
     "output_type": "stream",
     "text": [
      "Outputs min: -2.9640917778015137, max: 3.4552764892578125, shape: torch.Size([2, 2, 512, 512])\n",
      "Masks min: 0.0, max: 1.0, shape: torch.Size([2, 2, 512, 512])\n"
     ]
    },
    {
     "name": "stderr",
     "output_type": "stream",
     "text": [
      "\n",
      " 70%|███████   | 14/20 [00:15<00:04,  1.26it/s]\u001b[A"
     ]
    },
    {
     "name": "stdout",
     "output_type": "stream",
     "text": [
      "Outputs min: -2.377746105194092, max: 3.9108991622924805, shape: torch.Size([2, 2, 512, 512])\n",
      "Masks min: 0.0, max: 1.0, shape: torch.Size([2, 2, 512, 512])\n"
     ]
    },
    {
     "name": "stderr",
     "output_type": "stream",
     "text": [
      "\n",
      " 75%|███████▌  | 15/20 [00:16<00:03,  1.27it/s]\u001b[A"
     ]
    },
    {
     "name": "stdout",
     "output_type": "stream",
     "text": [
      "Outputs min: -2.4750728607177734, max: 3.1933376789093018, shape: torch.Size([2, 2, 512, 512])\n",
      "Masks min: 0.0, max: 1.0, shape: torch.Size([2, 2, 512, 512])\n"
     ]
    },
    {
     "name": "stderr",
     "output_type": "stream",
     "text": [
      "\n",
      " 80%|████████  | 16/20 [00:16<00:03,  1.27it/s]\u001b[A"
     ]
    },
    {
     "name": "stdout",
     "output_type": "stream",
     "text": [
      "Outputs min: -2.618147373199463, max: 3.847743272781372, shape: torch.Size([2, 2, 512, 512])\n",
      "Masks min: 0.0, max: 1.0, shape: torch.Size([2, 2, 512, 512])\n"
     ]
    },
    {
     "name": "stderr",
     "output_type": "stream",
     "text": [
      "\n",
      " 85%|████████▌ | 17/20 [00:17<00:02,  1.27it/s]\u001b[A"
     ]
    },
    {
     "name": "stdout",
     "output_type": "stream",
     "text": [
      "Outputs min: -2.971708297729492, max: 3.8276820182800293, shape: torch.Size([2, 2, 512, 512])\n",
      "Masks min: 0.0, max: 1.0, shape: torch.Size([2, 2, 512, 512])\n"
     ]
    },
    {
     "name": "stderr",
     "output_type": "stream",
     "text": [
      "\n",
      " 90%|█████████ | 18/20 [00:18<00:01,  1.28it/s]\u001b[A"
     ]
    },
    {
     "name": "stdout",
     "output_type": "stream",
     "text": [
      "Outputs min: -2.2178587913513184, max: 3.374039649963379, shape: torch.Size([2, 2, 512, 512])\n",
      "Masks min: 0.0, max: 1.0, shape: torch.Size([2, 2, 512, 512])\n"
     ]
    },
    {
     "name": "stderr",
     "output_type": "stream",
     "text": [
      "\n",
      " 95%|█████████▌| 19/20 [00:19<00:00,  1.28it/s]\u001b[A"
     ]
    },
    {
     "name": "stdout",
     "output_type": "stream",
     "text": [
      "Outputs min: -2.5046966075897217, max: 3.4956698417663574, shape: torch.Size([2, 2, 512, 512])\n",
      "Masks min: 0.0, max: 1.0, shape: torch.Size([2, 2, 512, 512])\n"
     ]
    },
    {
     "name": "stderr",
     "output_type": "stream",
     "text": [
      "\n",
      "100%|██████████| 20/20 [00:20<00:00,  1.01s/it]\u001b[A\n"
     ]
    },
    {
     "name": "stdout",
     "output_type": "stream",
     "text": [
      "Epoch [1/10], Loss: 0.6408856034278869\n",
      "Checkpoint saved at epoch 1\n"
     ]
    },
    {
     "name": "stderr",
     "output_type": "stream",
     "text": [
      " 10%|█         | 1/10 [00:23<03:33, 23.75s/it]"
     ]
    },
    {
     "name": "stdout",
     "output_type": "stream",
     "text": [
      "|===========================================================================|\n",
      "|                  PyTorch CUDA memory summary, device ID 0                 |\n",
      "|---------------------------------------------------------------------------|\n",
      "|            CUDA OOMs: 0            |        cudaMalloc retries: 0         |\n",
      "|===========================================================================|\n",
      "|        Metric         | Cur Usage  | Peak Usage | Tot Alloc  | Tot Freed  |\n",
      "|---------------------------------------------------------------------------|\n",
      "| Allocated memory      | 590333 KiB |   4990 MiB | 348128 MiB | 347552 MiB |\n",
      "|       from large pool | 573440 KiB |   4977 MiB | 347778 MiB | 347218 MiB |\n",
      "|       from small pool |  16893 KiB |     20 MiB |    350 MiB |    334 MiB |\n",
      "|---------------------------------------------------------------------------|\n",
      "| Active memory         | 590333 KiB |   4990 MiB | 348128 MiB | 347552 MiB |\n",
      "|       from large pool | 573440 KiB |   4977 MiB | 347778 MiB | 347218 MiB |\n",
      "|       from small pool |  16893 KiB |     20 MiB |    350 MiB |    334 MiB |\n",
      "|---------------------------------------------------------------------------|\n",
      "| Requested memory      | 590295 KiB |   4990 MiB | 348126 MiB | 347550 MiB |\n",
      "|       from large pool | 573440 KiB |   4977 MiB | 347778 MiB | 347218 MiB |\n",
      "|       from small pool |  16855 KiB |     20 MiB |    348 MiB |    332 MiB |\n",
      "|---------------------------------------------------------------------------|\n",
      "| GPU reserved memory   | 694272 KiB |   5202 MiB |   5202 MiB |   4524 MiB |\n",
      "|       from large pool | 675840 KiB |   5180 MiB |   5180 MiB |   4520 MiB |\n",
      "|       from small pool |  18432 KiB |     22 MiB |     22 MiB |      4 MiB |\n",
      "|---------------------------------------------------------------------------|\n",
      "| Non-releasable memory |      0 B   |      0 B   |      0 B   |      0 B   |\n",
      "|       from large pool |      0 B   |      0 B   |      0 B   |      0 B   |\n",
      "|       from small pool |      0 B   |      0 B   |      0 B   |      0 B   |\n",
      "|---------------------------------------------------------------------------|\n",
      "| Allocations           |     538    |     656    |   14588    |   14050    |\n",
      "|       from large pool |      71    |     125    |    5763    |    5692    |\n",
      "|       from small pool |     467    |     585    |    8825    |    8358    |\n",
      "|---------------------------------------------------------------------------|\n",
      "| Active allocs         |     538    |     656    |   14588    |   14050    |\n",
      "|       from large pool |      71    |     125    |    5763    |    5692    |\n",
      "|       from small pool |     467    |     585    |    8825    |    8358    |\n",
      "|---------------------------------------------------------------------------|\n",
      "| GPU reserved segments |       0    |       0    |       0    |       0    |\n",
      "|       from large pool |       0    |       0    |       0    |       0    |\n",
      "|       from small pool |       0    |       0    |       0    |       0    |\n",
      "|---------------------------------------------------------------------------|\n",
      "| Non-releasable allocs |       0    |       0    |       0    |       0    |\n",
      "|       from large pool |       0    |       0    |       0    |       0    |\n",
      "|       from small pool |       0    |       0    |       0    |       0    |\n",
      "|---------------------------------------------------------------------------|\n",
      "| Oversize allocations  |       0    |       0    |       0    |       0    |\n",
      "|---------------------------------------------------------------------------|\n",
      "| Oversize GPU segments |       0    |       0    |       0    |       0    |\n",
      "|===========================================================================|\n",
      "\n"
     ]
    },
    {
     "name": "stderr",
     "output_type": "stream",
     "text": [
      "\n",
      "  0%|          | 0/20 [00:00<?, ?it/s]\u001b[A"
     ]
    },
    {
     "name": "stdout",
     "output_type": "stream",
     "text": [
      "Outputs min: -2.9191224575042725, max: 3.6446266174316406, shape: torch.Size([2, 2, 512, 512])\n",
      "Masks min: 0.0, max: 1.0, shape: torch.Size([2, 2, 512, 512])\n"
     ]
    },
    {
     "name": "stderr",
     "output_type": "stream",
     "text": [
      "\n",
      "  5%|▌         | 1/20 [00:00<00:15,  1.27it/s]\u001b[A"
     ]
    },
    {
     "name": "stdout",
     "output_type": "stream",
     "text": [
      "Outputs min: -2.91111159324646, max: 3.502258777618408, shape: torch.Size([2, 2, 512, 512])\n",
      "Masks min: 0.0, max: 1.0, shape: torch.Size([2, 2, 512, 512])\n"
     ]
    },
    {
     "name": "stderr",
     "output_type": "stream",
     "text": [
      "\n",
      " 10%|█         | 2/20 [00:01<00:14,  1.27it/s]\u001b[A"
     ]
    },
    {
     "name": "stdout",
     "output_type": "stream",
     "text": [
      "Outputs min: -2.2372004985809326, max: 2.879018783569336, shape: torch.Size([2, 2, 512, 512])\n",
      "Masks min: 0.0, max: 1.0, shape: torch.Size([2, 2, 512, 512])\n"
     ]
    },
    {
     "name": "stderr",
     "output_type": "stream",
     "text": [
      "\n",
      " 15%|█▌        | 3/20 [00:02<00:13,  1.28it/s]\u001b[A"
     ]
    },
    {
     "name": "stdout",
     "output_type": "stream",
     "text": [
      "Outputs min: -2.74088191986084, max: 2.8700923919677734, shape: torch.Size([2, 2, 512, 512])\n",
      "Masks min: 0.0, max: 1.0, shape: torch.Size([2, 2, 512, 512])\n"
     ]
    },
    {
     "name": "stderr",
     "output_type": "stream",
     "text": [
      "\n",
      " 20%|██        | 4/20 [00:03<00:12,  1.28it/s]\u001b[A"
     ]
    },
    {
     "name": "stdout",
     "output_type": "stream",
     "text": [
      "Outputs min: -2.6404242515563965, max: 3.2357563972473145, shape: torch.Size([2, 2, 512, 512])\n",
      "Masks min: 0.0, max: 1.0, shape: torch.Size([2, 2, 512, 512])\n"
     ]
    },
    {
     "name": "stderr",
     "output_type": "stream",
     "text": [
      "\n",
      " 25%|██▌       | 5/20 [00:03<00:11,  1.28it/s]\u001b[A"
     ]
    },
    {
     "name": "stdout",
     "output_type": "stream",
     "text": [
      "Outputs min: -2.2793381214141846, max: 3.128222703933716, shape: torch.Size([2, 2, 512, 512])\n",
      "Masks min: 0.0, max: 1.0, shape: torch.Size([2, 2, 512, 512])\n"
     ]
    },
    {
     "name": "stderr",
     "output_type": "stream",
     "text": [
      "\n",
      " 30%|███       | 6/20 [00:04<00:10,  1.28it/s]\u001b[A"
     ]
    },
    {
     "name": "stdout",
     "output_type": "stream",
     "text": [
      "Outputs min: -2.3497018814086914, max: 2.9560670852661133, shape: torch.Size([2, 2, 512, 512])\n",
      "Masks min: 0.0, max: 1.0, shape: torch.Size([2, 2, 512, 512])\n"
     ]
    },
    {
     "name": "stderr",
     "output_type": "stream",
     "text": [
      "\n",
      " 35%|███▌      | 7/20 [00:05<00:10,  1.28it/s]\u001b[A"
     ]
    },
    {
     "name": "stdout",
     "output_type": "stream",
     "text": [
      "Outputs min: -2.520188570022583, max: 2.800014019012451, shape: torch.Size([2, 2, 512, 512])\n",
      "Masks min: 0.0, max: 1.0, shape: torch.Size([2, 2, 512, 512])\n"
     ]
    },
    {
     "name": "stderr",
     "output_type": "stream",
     "text": [
      "\n",
      " 40%|████      | 8/20 [00:06<00:09,  1.28it/s]\u001b[A"
     ]
    },
    {
     "name": "stdout",
     "output_type": "stream",
     "text": [
      "Outputs min: -3.0333104133605957, max: 3.2867860794067383, shape: torch.Size([2, 2, 512, 512])\n",
      "Masks min: 0.0, max: 1.0, shape: torch.Size([2, 2, 512, 512])\n"
     ]
    },
    {
     "name": "stderr",
     "output_type": "stream",
     "text": [
      "\n",
      " 45%|████▌     | 9/20 [00:07<00:08,  1.28it/s]\u001b[A"
     ]
    },
    {
     "name": "stdout",
     "output_type": "stream",
     "text": [
      "Outputs min: -2.7890701293945312, max: 2.567448616027832, shape: torch.Size([2, 2, 512, 512])\n",
      "Masks min: 0.0, max: 1.0, shape: torch.Size([2, 2, 512, 512])\n"
     ]
    },
    {
     "name": "stderr",
     "output_type": "stream",
     "text": [
      "\n",
      " 50%|█████     | 10/20 [00:07<00:07,  1.28it/s]\u001b[A"
     ]
    },
    {
     "name": "stdout",
     "output_type": "stream",
     "text": [
      "Outputs min: -2.470780611038208, max: 3.1660265922546387, shape: torch.Size([2, 2, 512, 512])\n",
      "Masks min: 0.0, max: 1.0, shape: torch.Size([2, 2, 512, 512])\n"
     ]
    },
    {
     "name": "stderr",
     "output_type": "stream",
     "text": [
      "\n",
      " 55%|█████▌    | 11/20 [00:08<00:07,  1.28it/s]\u001b[A"
     ]
    },
    {
     "name": "stdout",
     "output_type": "stream",
     "text": [
      "Outputs min: -2.10669207572937, max: 2.3816983699798584, shape: torch.Size([2, 2, 512, 512])\n",
      "Masks min: 0.0, max: 1.0, shape: torch.Size([2, 2, 512, 512])\n"
     ]
    },
    {
     "name": "stderr",
     "output_type": "stream",
     "text": [
      "\n",
      " 60%|██████    | 12/20 [00:09<00:06,  1.28it/s]\u001b[A"
     ]
    },
    {
     "name": "stdout",
     "output_type": "stream",
     "text": [
      "Outputs min: -2.011868476867676, max: 2.74288272857666, shape: torch.Size([2, 2, 512, 512])\n",
      "Masks min: 0.0, max: 1.0, shape: torch.Size([2, 2, 512, 512])\n"
     ]
    },
    {
     "name": "stderr",
     "output_type": "stream",
     "text": [
      "\n",
      " 65%|██████▌   | 13/20 [00:10<00:05,  1.28it/s]\u001b[A"
     ]
    },
    {
     "name": "stdout",
     "output_type": "stream",
     "text": [
      "Outputs min: -2.6817643642425537, max: 3.198139190673828, shape: torch.Size([2, 2, 512, 512])\n",
      "Masks min: 0.0, max: 1.0, shape: torch.Size([2, 2, 512, 512])\n"
     ]
    },
    {
     "name": "stderr",
     "output_type": "stream",
     "text": [
      "\n",
      " 70%|███████   | 14/20 [00:10<00:04,  1.28it/s]\u001b[A"
     ]
    },
    {
     "name": "stdout",
     "output_type": "stream",
     "text": [
      "Outputs min: -3.4099786281585693, max: 3.530121088027954, shape: torch.Size([2, 2, 512, 512])\n",
      "Masks min: 0.0, max: 1.0, shape: torch.Size([2, 2, 512, 512])\n"
     ]
    },
    {
     "name": "stderr",
     "output_type": "stream",
     "text": [
      "\n",
      " 75%|███████▌  | 15/20 [00:11<00:03,  1.28it/s]\u001b[A"
     ]
    },
    {
     "name": "stdout",
     "output_type": "stream",
     "text": [
      "Outputs min: -2.1649715900421143, max: 2.5423758029937744, shape: torch.Size([2, 2, 512, 512])\n",
      "Masks min: 0.0, max: 1.0, shape: torch.Size([2, 2, 512, 512])\n"
     ]
    },
    {
     "name": "stderr",
     "output_type": "stream",
     "text": [
      "\n",
      " 80%|████████  | 16/20 [00:12<00:03,  1.28it/s]\u001b[A"
     ]
    },
    {
     "name": "stdout",
     "output_type": "stream",
     "text": [
      "Outputs min: -2.581176996231079, max: 3.007115364074707, shape: torch.Size([2, 2, 512, 512])\n",
      "Masks min: 0.0, max: 1.0, shape: torch.Size([2, 2, 512, 512])\n"
     ]
    },
    {
     "name": "stderr",
     "output_type": "stream",
     "text": [
      "\n",
      " 85%|████████▌ | 17/20 [00:13<00:02,  1.28it/s]\u001b[A"
     ]
    },
    {
     "name": "stdout",
     "output_type": "stream",
     "text": [
      "Outputs min: -1.933969497680664, max: 2.4861555099487305, shape: torch.Size([2, 2, 512, 512])\n",
      "Masks min: 0.0, max: 1.0, shape: torch.Size([2, 2, 512, 512])\n"
     ]
    },
    {
     "name": "stderr",
     "output_type": "stream",
     "text": [
      "\n",
      " 90%|█████████ | 18/20 [00:14<00:01,  1.28it/s]\u001b[A"
     ]
    },
    {
     "name": "stdout",
     "output_type": "stream",
     "text": [
      "Outputs min: -2.5461385250091553, max: 2.769566774368286, shape: torch.Size([2, 2, 512, 512])\n",
      "Masks min: 0.0, max: 1.0, shape: torch.Size([2, 2, 512, 512])\n"
     ]
    },
    {
     "name": "stderr",
     "output_type": "stream",
     "text": [
      "\n",
      " 95%|█████████▌| 19/20 [00:14<00:00,  1.28it/s]\u001b[A"
     ]
    },
    {
     "name": "stdout",
     "output_type": "stream",
     "text": [
      "Outputs min: -2.9603514671325684, max: 2.853350877761841, shape: torch.Size([2, 2, 512, 512])\n",
      "Masks min: 0.0, max: 1.0, shape: torch.Size([2, 2, 512, 512])\n"
     ]
    },
    {
     "name": "stderr",
     "output_type": "stream",
     "text": [
      "\n",
      "100%|██████████| 20/20 [00:15<00:00,  1.28it/s]\u001b[A\n"
     ]
    },
    {
     "name": "stdout",
     "output_type": "stream",
     "text": [
      "Epoch [2/10], Loss: 0.5384272366762162\n"
     ]
    },
    {
     "name": "stderr",
     "output_type": "stream",
     "text": [
      " 20%|██        | 2/10 [00:42<02:46, 20.81s/it]"
     ]
    },
    {
     "name": "stdout",
     "output_type": "stream",
     "text": [
      "Checkpoint saved at epoch 2\n",
      "|===========================================================================|\n",
      "|                  PyTorch CUDA memory summary, device ID 0                 |\n",
      "|---------------------------------------------------------------------------|\n",
      "|            CUDA OOMs: 0            |        cudaMalloc retries: 0         |\n",
      "|===========================================================================|\n",
      "|        Metric         | Cur Usage  | Peak Usage | Tot Alloc  | Tot Freed  |\n",
      "|---------------------------------------------------------------------------|\n",
      "| Allocated memory      | 590333 KiB |   4990 MiB | 695830 MiB | 695254 MiB |\n",
      "|       from large pool | 573440 KiB |   4977 MiB | 695141 MiB | 694581 MiB |\n",
      "|       from small pool |  16893 KiB |     20 MiB |    689 MiB |    672 MiB |\n",
      "|---------------------------------------------------------------------------|\n",
      "| Active memory         | 590333 KiB |   4990 MiB | 695830 MiB | 695254 MiB |\n",
      "|       from large pool | 573440 KiB |   4977 MiB | 695141 MiB | 694581 MiB |\n",
      "|       from small pool |  16893 KiB |     20 MiB |    689 MiB |    672 MiB |\n",
      "|---------------------------------------------------------------------------|\n",
      "| Requested memory      | 590295 KiB |   4990 MiB | 695826 MiB | 695250 MiB |\n",
      "|       from large pool | 573440 KiB |   4977 MiB | 695141 MiB | 694581 MiB |\n",
      "|       from small pool |  16855 KiB |     20 MiB |    685 MiB |    668 MiB |\n",
      "|---------------------------------------------------------------------------|\n",
      "| GPU reserved memory   | 735232 KiB |   5202 MiB |   9726 MiB |   9008 MiB |\n",
      "|       from large pool | 716800 KiB |   5180 MiB |   9700 MiB |   9000 MiB |\n",
      "|       from small pool |  18432 KiB |     22 MiB |     26 MiB |      8 MiB |\n",
      "|---------------------------------------------------------------------------|\n",
      "| Non-releasable memory |      0 B   |      0 B   |      0 B   |      0 B   |\n",
      "|       from large pool |      0 B   |      0 B   |      0 B   |      0 B   |\n",
      "|       from small pool |      0 B   |      0 B   |      0 B   |      0 B   |\n",
      "|---------------------------------------------------------------------------|\n",
      "| Allocations           |     538    |     656    |   28756    |   28218    |\n",
      "|       from large pool |      71    |     125    |   11475    |   11404    |\n",
      "|       from small pool |     467    |     585    |   17281    |   16814    |\n",
      "|---------------------------------------------------------------------------|\n",
      "| Active allocs         |     538    |     656    |   28756    |   28218    |\n",
      "|       from large pool |      71    |     125    |   11475    |   11404    |\n",
      "|       from small pool |     467    |     585    |   17281    |   16814    |\n",
      "|---------------------------------------------------------------------------|\n",
      "| GPU reserved segments |       0    |       0    |       0    |       0    |\n",
      "|       from large pool |       0    |       0    |       0    |       0    |\n",
      "|       from small pool |       0    |       0    |       0    |       0    |\n",
      "|---------------------------------------------------------------------------|\n",
      "| Non-releasable allocs |       0    |       0    |       0    |       0    |\n",
      "|       from large pool |       0    |       0    |       0    |       0    |\n",
      "|       from small pool |       0    |       0    |       0    |       0    |\n",
      "|---------------------------------------------------------------------------|\n",
      "| Oversize allocations  |       0    |       0    |       0    |       0    |\n",
      "|---------------------------------------------------------------------------|\n",
      "| Oversize GPU segments |       0    |       0    |       0    |       0    |\n",
      "|===========================================================================|\n",
      "\n"
     ]
    },
    {
     "name": "stderr",
     "output_type": "stream",
     "text": [
      "\n",
      "  0%|          | 0/20 [00:00<?, ?it/s]\u001b[A"
     ]
    },
    {
     "name": "stdout",
     "output_type": "stream",
     "text": [
      "Outputs min: -2.7736260890960693, max: 2.661442279815674, shape: torch.Size([2, 2, 512, 512])\n",
      "Masks min: 0.0, max: 1.0, shape: torch.Size([2, 2, 512, 512])\n"
     ]
    },
    {
     "name": "stderr",
     "output_type": "stream",
     "text": [
      "\n",
      "  5%|▌         | 1/20 [00:00<00:14,  1.28it/s]\u001b[A"
     ]
    },
    {
     "name": "stdout",
     "output_type": "stream",
     "text": [
      "Outputs min: -3.0024099349975586, max: 3.0515570640563965, shape: torch.Size([2, 2, 512, 512])\n",
      "Masks min: 0.0, max: 1.0, shape: torch.Size([2, 2, 512, 512])\n"
     ]
    },
    {
     "name": "stderr",
     "output_type": "stream",
     "text": [
      "\n",
      " 10%|█         | 2/20 [00:01<00:14,  1.28it/s]\u001b[A"
     ]
    },
    {
     "name": "stdout",
     "output_type": "stream",
     "text": [
      "Outputs min: -2.9557693004608154, max: 2.9056999683380127, shape: torch.Size([2, 2, 512, 512])\n",
      "Masks min: 0.0, max: 1.0, shape: torch.Size([2, 2, 512, 512])\n"
     ]
    },
    {
     "name": "stderr",
     "output_type": "stream",
     "text": [
      "\n",
      " 15%|█▌        | 3/20 [00:02<00:13,  1.28it/s]\u001b[A"
     ]
    },
    {
     "name": "stdout",
     "output_type": "stream",
     "text": [
      "Outputs min: -2.434142589569092, max: 2.9295997619628906, shape: torch.Size([2, 2, 512, 512])\n",
      "Masks min: 0.0, max: 1.0, shape: torch.Size([2, 2, 512, 512])\n"
     ]
    },
    {
     "name": "stderr",
     "output_type": "stream",
     "text": [
      "\n",
      " 20%|██        | 4/20 [00:03<00:12,  1.28it/s]\u001b[A"
     ]
    },
    {
     "name": "stdout",
     "output_type": "stream",
     "text": [
      "Outputs min: -2.301654815673828, max: 2.6025941371917725, shape: torch.Size([2, 2, 512, 512])\n",
      "Masks min: 0.0, max: 1.0, shape: torch.Size([2, 2, 512, 512])\n"
     ]
    },
    {
     "name": "stderr",
     "output_type": "stream",
     "text": [
      "\n",
      " 25%|██▌       | 5/20 [00:03<00:11,  1.28it/s]\u001b[A"
     ]
    },
    {
     "name": "stdout",
     "output_type": "stream",
     "text": [
      "Outputs min: -2.394352912902832, max: 2.911233425140381, shape: torch.Size([2, 2, 512, 512])\n",
      "Masks min: 0.0, max: 1.0, shape: torch.Size([2, 2, 512, 512])\n"
     ]
    },
    {
     "name": "stderr",
     "output_type": "stream",
     "text": [
      "\n",
      " 30%|███       | 6/20 [00:04<00:10,  1.28it/s]\u001b[A"
     ]
    },
    {
     "name": "stdout",
     "output_type": "stream",
     "text": [
      "Outputs min: -2.338050603866577, max: 2.7570881843566895, shape: torch.Size([2, 2, 512, 512])\n",
      "Masks min: 0.0, max: 1.0, shape: torch.Size([2, 2, 512, 512])\n"
     ]
    },
    {
     "name": "stderr",
     "output_type": "stream",
     "text": [
      "\n",
      " 35%|███▌      | 7/20 [00:05<00:10,  1.28it/s]\u001b[A"
     ]
    },
    {
     "name": "stdout",
     "output_type": "stream",
     "text": [
      "Outputs min: -2.3163132667541504, max: 2.4766335487365723, shape: torch.Size([2, 2, 512, 512])\n",
      "Masks min: 0.0, max: 1.0, shape: torch.Size([2, 2, 512, 512])\n"
     ]
    },
    {
     "name": "stderr",
     "output_type": "stream",
     "text": [
      "\n",
      " 40%|████      | 8/20 [00:06<00:09,  1.28it/s]\u001b[A"
     ]
    },
    {
     "name": "stdout",
     "output_type": "stream",
     "text": [
      "Outputs min: -3.1708643436431885, max: 3.219325304031372, shape: torch.Size([2, 2, 512, 512])\n",
      "Masks min: 0.0, max: 1.0, shape: torch.Size([2, 2, 512, 512])\n"
     ]
    },
    {
     "name": "stderr",
     "output_type": "stream",
     "text": [
      "\n",
      " 45%|████▌     | 9/20 [00:07<00:08,  1.28it/s]\u001b[A"
     ]
    },
    {
     "name": "stdout",
     "output_type": "stream",
     "text": [
      "Outputs min: -2.5947513580322266, max: 3.26358962059021, shape: torch.Size([2, 2, 512, 512])\n",
      "Masks min: 0.0, max: 1.0, shape: torch.Size([2, 2, 512, 512])\n"
     ]
    },
    {
     "name": "stderr",
     "output_type": "stream",
     "text": [
      "\n",
      " 50%|█████     | 10/20 [00:07<00:07,  1.28it/s]\u001b[A"
     ]
    },
    {
     "name": "stdout",
     "output_type": "stream",
     "text": [
      "Outputs min: -2.6587791442871094, max: 3.0466184616088867, shape: torch.Size([2, 2, 512, 512])\n",
      "Masks min: 0.0, max: 1.0, shape: torch.Size([2, 2, 512, 512])\n"
     ]
    },
    {
     "name": "stderr",
     "output_type": "stream",
     "text": [
      "\n",
      " 55%|█████▌    | 11/20 [00:08<00:07,  1.28it/s]\u001b[A"
     ]
    },
    {
     "name": "stdout",
     "output_type": "stream",
     "text": [
      "Outputs min: -2.9498214721679688, max: 2.6334547996520996, shape: torch.Size([2, 2, 512, 512])\n",
      "Masks min: 0.0, max: 1.0, shape: torch.Size([2, 2, 512, 512])\n"
     ]
    },
    {
     "name": "stderr",
     "output_type": "stream",
     "text": [
      "\n",
      " 60%|██████    | 12/20 [00:09<00:06,  1.28it/s]\u001b[A"
     ]
    },
    {
     "name": "stdout",
     "output_type": "stream",
     "text": [
      "Outputs min: -3.1034069061279297, max: 3.9416465759277344, shape: torch.Size([2, 2, 512, 512])\n",
      "Masks min: 0.0, max: 1.0, shape: torch.Size([2, 2, 512, 512])\n"
     ]
    },
    {
     "name": "stderr",
     "output_type": "stream",
     "text": [
      "\n",
      " 65%|██████▌   | 13/20 [00:10<00:05,  1.28it/s]\u001b[A"
     ]
    },
    {
     "name": "stdout",
     "output_type": "stream",
     "text": [
      "Outputs min: -2.929950475692749, max: 2.8897526264190674, shape: torch.Size([2, 2, 512, 512])\n",
      "Masks min: 0.0, max: 1.0, shape: torch.Size([2, 2, 512, 512])\n"
     ]
    },
    {
     "name": "stderr",
     "output_type": "stream",
     "text": [
      "\n",
      " 70%|███████   | 14/20 [00:10<00:04,  1.28it/s]\u001b[A"
     ]
    },
    {
     "name": "stdout",
     "output_type": "stream",
     "text": [
      "Outputs min: -2.2439355850219727, max: 2.2387237548828125, shape: torch.Size([2, 2, 512, 512])\n",
      "Masks min: 0.0, max: 1.0, shape: torch.Size([2, 2, 512, 512])\n"
     ]
    },
    {
     "name": "stderr",
     "output_type": "stream",
     "text": [
      "\n",
      " 75%|███████▌  | 15/20 [00:11<00:03,  1.28it/s]\u001b[A"
     ]
    },
    {
     "name": "stdout",
     "output_type": "stream",
     "text": [
      "Outputs min: -2.68489146232605, max: 3.0283939838409424, shape: torch.Size([2, 2, 512, 512])\n",
      "Masks min: 0.0, max: 1.0, shape: torch.Size([2, 2, 512, 512])\n"
     ]
    },
    {
     "name": "stderr",
     "output_type": "stream",
     "text": [
      "\n",
      " 80%|████████  | 16/20 [00:12<00:03,  1.28it/s]\u001b[A"
     ]
    },
    {
     "name": "stdout",
     "output_type": "stream",
     "text": [
      "Outputs min: -2.6522927284240723, max: 2.664144992828369, shape: torch.Size([2, 2, 512, 512])\n",
      "Masks min: 0.0, max: 1.0, shape: torch.Size([2, 2, 512, 512])\n"
     ]
    },
    {
     "name": "stderr",
     "output_type": "stream",
     "text": [
      "\n",
      " 85%|████████▌ | 17/20 [00:13<00:02,  1.28it/s]\u001b[A"
     ]
    },
    {
     "name": "stdout",
     "output_type": "stream",
     "text": [
      "Outputs min: -4.030494213104248, max: 4.372859954833984, shape: torch.Size([2, 2, 512, 512])\n",
      "Masks min: 0.0, max: 1.0, shape: torch.Size([2, 2, 512, 512])\n"
     ]
    },
    {
     "name": "stderr",
     "output_type": "stream",
     "text": [
      "\n",
      " 90%|█████████ | 18/20 [00:14<00:01,  1.28it/s]\u001b[A"
     ]
    },
    {
     "name": "stdout",
     "output_type": "stream",
     "text": [
      "Outputs min: -2.4038279056549072, max: 2.8278567790985107, shape: torch.Size([2, 2, 512, 512])\n",
      "Masks min: 0.0, max: 1.0, shape: torch.Size([2, 2, 512, 512])\n"
     ]
    },
    {
     "name": "stderr",
     "output_type": "stream",
     "text": [
      "\n",
      " 95%|█████████▌| 19/20 [00:14<00:00,  1.28it/s]\u001b[A"
     ]
    },
    {
     "name": "stdout",
     "output_type": "stream",
     "text": [
      "Outputs min: -2.6466262340545654, max: 3.089491844177246, shape: torch.Size([2, 2, 512, 512])\n",
      "Masks min: 0.0, max: 1.0, shape: torch.Size([2, 2, 512, 512])\n"
     ]
    },
    {
     "name": "stderr",
     "output_type": "stream",
     "text": [
      "\n",
      "100%|██████████| 20/20 [00:15<00:00,  1.28it/s]\u001b[A\n"
     ]
    },
    {
     "name": "stdout",
     "output_type": "stream",
     "text": [
      "Epoch [3/10], Loss: 0.4709589913487434\n",
      "Checkpoint saved at epoch 3\n"
     ]
    },
    {
     "name": "stderr",
     "output_type": "stream",
     "text": [
      " 30%|███       | 3/10 [01:01<02:19, 19.92s/it]"
     ]
    },
    {
     "name": "stdout",
     "output_type": "stream",
     "text": [
      "|===========================================================================|\n",
      "|                  PyTorch CUDA memory summary, device ID 0                 |\n",
      "|---------------------------------------------------------------------------|\n",
      "|            CUDA OOMs: 0            |        cudaMalloc retries: 0         |\n",
      "|===========================================================================|\n",
      "|        Metric         | Cur Usage  | Peak Usage | Tot Alloc  | Tot Freed  |\n",
      "|---------------------------------------------------------------------------|\n",
      "| Allocated memory      | 590333 KiB |   4990 MiB |   1019 GiB |   1018 GiB |\n",
      "|       from large pool | 573440 KiB |   4977 MiB |   1018 GiB |   1017 GiB |\n",
      "|       from small pool |  16893 KiB |     20 MiB |      1 GiB |      0 GiB |\n",
      "|---------------------------------------------------------------------------|\n",
      "| Active memory         | 590333 KiB |   4990 MiB |   1019 GiB |   1018 GiB |\n",
      "|       from large pool | 573440 KiB |   4977 MiB |   1018 GiB |   1017 GiB |\n",
      "|       from small pool |  16893 KiB |     20 MiB |      1 GiB |      0 GiB |\n",
      "|---------------------------------------------------------------------------|\n",
      "| Requested memory      | 590295 KiB |   4990 MiB |   1019 GiB |   1018 GiB |\n",
      "|       from large pool | 573440 KiB |   4977 MiB |   1018 GiB |   1017 GiB |\n",
      "|       from small pool |  16855 KiB |     20 MiB |      0 GiB |      0 GiB |\n",
      "|---------------------------------------------------------------------------|\n",
      "| GPU reserved memory   | 694272 KiB |   5242 MiB |  14250 MiB |  13572 MiB |\n",
      "|       from large pool | 675840 KiB |   5220 MiB |  14220 MiB |  13560 MiB |\n",
      "|       from small pool |  18432 KiB |     22 MiB |     30 MiB |     12 MiB |\n",
      "|---------------------------------------------------------------------------|\n",
      "| Non-releasable memory |      0 B   |      0 B   |      0 B   |      0 B   |\n",
      "|       from large pool |      0 B   |      0 B   |      0 B   |      0 B   |\n",
      "|       from small pool |      0 B   |      0 B   |      0 B   |      0 B   |\n",
      "|---------------------------------------------------------------------------|\n",
      "| Allocations           |     538    |     656    |   42924    |   42386    |\n",
      "|       from large pool |      71    |     125    |   17187    |   17116    |\n",
      "|       from small pool |     467    |     585    |   25737    |   25270    |\n",
      "|---------------------------------------------------------------------------|\n",
      "| Active allocs         |     538    |     656    |   42924    |   42386    |\n",
      "|       from large pool |      71    |     125    |   17187    |   17116    |\n",
      "|       from small pool |     467    |     585    |   25737    |   25270    |\n",
      "|---------------------------------------------------------------------------|\n",
      "| GPU reserved segments |       0    |       0    |       0    |       0    |\n",
      "|       from large pool |       0    |       0    |       0    |       0    |\n",
      "|       from small pool |       0    |       0    |       0    |       0    |\n",
      "|---------------------------------------------------------------------------|\n",
      "| Non-releasable allocs |       0    |       0    |       0    |       0    |\n",
      "|       from large pool |       0    |       0    |       0    |       0    |\n",
      "|       from small pool |       0    |       0    |       0    |       0    |\n",
      "|---------------------------------------------------------------------------|\n",
      "| Oversize allocations  |       0    |       0    |       0    |       0    |\n",
      "|---------------------------------------------------------------------------|\n",
      "| Oversize GPU segments |       0    |       0    |       0    |       0    |\n",
      "|===========================================================================|\n",
      "\n"
     ]
    },
    {
     "name": "stderr",
     "output_type": "stream",
     "text": [
      "\n",
      "  0%|          | 0/20 [00:00<?, ?it/s]\u001b[A"
     ]
    },
    {
     "name": "stdout",
     "output_type": "stream",
     "text": [
      "Outputs min: -3.1660618782043457, max: 3.329491138458252, shape: torch.Size([2, 2, 512, 512])\n",
      "Masks min: 0.0, max: 1.0, shape: torch.Size([2, 2, 512, 512])\n"
     ]
    },
    {
     "name": "stderr",
     "output_type": "stream",
     "text": [
      "\n",
      "  5%|▌         | 1/20 [00:00<00:14,  1.29it/s]\u001b[A"
     ]
    },
    {
     "name": "stdout",
     "output_type": "stream",
     "text": [
      "Outputs min: -2.4771509170532227, max: 2.2453391551971436, shape: torch.Size([2, 2, 512, 512])\n",
      "Masks min: 0.0, max: 1.0, shape: torch.Size([2, 2, 512, 512])\n"
     ]
    },
    {
     "name": "stderr",
     "output_type": "stream",
     "text": [
      "\n",
      " 10%|█         | 2/20 [00:01<00:14,  1.28it/s]\u001b[A"
     ]
    },
    {
     "name": "stdout",
     "output_type": "stream",
     "text": [
      "Outputs min: -2.3641135692596436, max: 2.928647994995117, shape: torch.Size([2, 2, 512, 512])\n",
      "Masks min: 0.0, max: 1.0, shape: torch.Size([2, 2, 512, 512])\n"
     ]
    },
    {
     "name": "stderr",
     "output_type": "stream",
     "text": [
      "\n",
      " 15%|█▌        | 3/20 [00:02<00:13,  1.28it/s]\u001b[A"
     ]
    },
    {
     "name": "stdout",
     "output_type": "stream",
     "text": [
      "Outputs min: -2.2987303733825684, max: 2.716799259185791, shape: torch.Size([2, 2, 512, 512])\n",
      "Masks min: 0.0, max: 1.0, shape: torch.Size([2, 2, 512, 512])\n"
     ]
    },
    {
     "name": "stderr",
     "output_type": "stream",
     "text": [
      "\n",
      " 20%|██        | 4/20 [00:03<00:12,  1.28it/s]\u001b[A"
     ]
    },
    {
     "name": "stdout",
     "output_type": "stream",
     "text": [
      "Outputs min: -2.298463821411133, max: 2.5799367427825928, shape: torch.Size([2, 2, 512, 512])\n",
      "Masks min: 0.0, max: 1.0, shape: torch.Size([2, 2, 512, 512])\n"
     ]
    },
    {
     "name": "stderr",
     "output_type": "stream",
     "text": [
      "\n",
      " 25%|██▌       | 5/20 [00:03<00:11,  1.28it/s]\u001b[A"
     ]
    },
    {
     "name": "stdout",
     "output_type": "stream",
     "text": [
      "Outputs min: -2.398021936416626, max: 2.506021738052368, shape: torch.Size([2, 2, 512, 512])\n",
      "Masks min: 0.0, max: 1.0, shape: torch.Size([2, 2, 512, 512])\n"
     ]
    },
    {
     "name": "stderr",
     "output_type": "stream",
     "text": [
      "\n",
      " 30%|███       | 6/20 [00:04<00:10,  1.28it/s]\u001b[A"
     ]
    },
    {
     "name": "stdout",
     "output_type": "stream",
     "text": [
      "Outputs min: -2.252758026123047, max: 2.393357038497925, shape: torch.Size([2, 2, 512, 512])\n",
      "Masks min: 0.0, max: 1.0, shape: torch.Size([2, 2, 512, 512])\n"
     ]
    },
    {
     "name": "stderr",
     "output_type": "stream",
     "text": [
      "\n",
      " 35%|███▌      | 7/20 [00:05<00:10,  1.28it/s]\u001b[A"
     ]
    },
    {
     "name": "stdout",
     "output_type": "stream",
     "text": [
      "Outputs min: -3.64509916305542, max: 3.9694554805755615, shape: torch.Size([2, 2, 512, 512])\n",
      "Masks min: 0.0, max: 1.0, shape: torch.Size([2, 2, 512, 512])\n"
     ]
    },
    {
     "name": "stderr",
     "output_type": "stream",
     "text": [
      "\n",
      " 40%|████      | 8/20 [00:06<00:09,  1.28it/s]\u001b[A"
     ]
    },
    {
     "name": "stdout",
     "output_type": "stream",
     "text": [
      "Outputs min: -2.4496090412139893, max: 2.82175612449646, shape: torch.Size([2, 2, 512, 512])\n",
      "Masks min: 0.0, max: 1.0, shape: torch.Size([2, 2, 512, 512])\n"
     ]
    },
    {
     "name": "stderr",
     "output_type": "stream",
     "text": [
      "\n",
      " 45%|████▌     | 9/20 [00:07<00:08,  1.28it/s]\u001b[A"
     ]
    },
    {
     "name": "stdout",
     "output_type": "stream",
     "text": [
      "Outputs min: -2.619252920150757, max: 2.967374801635742, shape: torch.Size([2, 2, 512, 512])\n",
      "Masks min: 0.0, max: 1.0, shape: torch.Size([2, 2, 512, 512])\n"
     ]
    },
    {
     "name": "stderr",
     "output_type": "stream",
     "text": [
      "\n",
      " 50%|█████     | 10/20 [00:07<00:07,  1.28it/s]\u001b[A"
     ]
    },
    {
     "name": "stdout",
     "output_type": "stream",
     "text": [
      "Outputs min: -2.728210687637329, max: 2.70395827293396, shape: torch.Size([2, 2, 512, 512])\n",
      "Masks min: 0.0, max: 1.0, shape: torch.Size([2, 2, 512, 512])\n"
     ]
    },
    {
     "name": "stderr",
     "output_type": "stream",
     "text": [
      "\n",
      " 55%|█████▌    | 11/20 [00:08<00:07,  1.28it/s]\u001b[A"
     ]
    },
    {
     "name": "stdout",
     "output_type": "stream",
     "text": [
      "Outputs min: -2.182554244995117, max: 2.77825665473938, shape: torch.Size([2, 2, 512, 512])\n",
      "Masks min: 0.0, max: 1.0, shape: torch.Size([2, 2, 512, 512])\n"
     ]
    },
    {
     "name": "stderr",
     "output_type": "stream",
     "text": [
      "\n",
      " 60%|██████    | 12/20 [00:09<00:06,  1.28it/s]\u001b[A"
     ]
    },
    {
     "name": "stdout",
     "output_type": "stream",
     "text": [
      "Outputs min: -3.758976936340332, max: 4.4326958656311035, shape: torch.Size([2, 2, 512, 512])\n",
      "Masks min: 0.0, max: 1.0, shape: torch.Size([2, 2, 512, 512])\n"
     ]
    },
    {
     "name": "stderr",
     "output_type": "stream",
     "text": [
      "\n",
      " 65%|██████▌   | 13/20 [00:10<00:05,  1.28it/s]\u001b[A"
     ]
    },
    {
     "name": "stdout",
     "output_type": "stream",
     "text": [
      "Outputs min: -2.6592094898223877, max: 3.499346971511841, shape: torch.Size([2, 2, 512, 512])\n",
      "Masks min: 0.0, max: 1.0, shape: torch.Size([2, 2, 512, 512])\n"
     ]
    },
    {
     "name": "stderr",
     "output_type": "stream",
     "text": [
      "\n",
      " 70%|███████   | 14/20 [00:10<00:04,  1.28it/s]\u001b[A"
     ]
    },
    {
     "name": "stdout",
     "output_type": "stream",
     "text": [
      "Outputs min: -2.8910434246063232, max: 3.5822391510009766, shape: torch.Size([2, 2, 512, 512])\n",
      "Masks min: 0.0, max: 1.0, shape: torch.Size([2, 2, 512, 512])\n"
     ]
    },
    {
     "name": "stderr",
     "output_type": "stream",
     "text": [
      "\n",
      " 75%|███████▌  | 15/20 [00:11<00:03,  1.27it/s]\u001b[A"
     ]
    },
    {
     "name": "stdout",
     "output_type": "stream",
     "text": [
      "Outputs min: -2.665090799331665, max: 3.435476541519165, shape: torch.Size([2, 2, 512, 512])\n",
      "Masks min: 0.0, max: 1.0, shape: torch.Size([2, 2, 512, 512])\n"
     ]
    },
    {
     "name": "stderr",
     "output_type": "stream",
     "text": [
      "\n",
      " 80%|████████  | 16/20 [00:12<00:03,  1.27it/s]\u001b[A"
     ]
    },
    {
     "name": "stdout",
     "output_type": "stream",
     "text": [
      "Outputs min: -2.5317718982696533, max: 3.4883816242218018, shape: torch.Size([2, 2, 512, 512])\n",
      "Masks min: 0.0, max: 1.0, shape: torch.Size([2, 2, 512, 512])\n"
     ]
    },
    {
     "name": "stderr",
     "output_type": "stream",
     "text": [
      "\n",
      " 85%|████████▌ | 17/20 [00:13<00:02,  1.28it/s]\u001b[A"
     ]
    },
    {
     "name": "stdout",
     "output_type": "stream",
     "text": [
      "Outputs min: -2.5058372020721436, max: 3.8518168926239014, shape: torch.Size([2, 2, 512, 512])\n",
      "Masks min: 0.0, max: 1.0, shape: torch.Size([2, 2, 512, 512])\n"
     ]
    },
    {
     "name": "stderr",
     "output_type": "stream",
     "text": [
      "\n",
      " 90%|█████████ | 18/20 [00:14<00:01,  1.28it/s]\u001b[A"
     ]
    },
    {
     "name": "stdout",
     "output_type": "stream",
     "text": [
      "Outputs min: -2.2691311836242676, max: 3.1441986560821533, shape: torch.Size([2, 2, 512, 512])\n",
      "Masks min: 0.0, max: 1.0, shape: torch.Size([2, 2, 512, 512])\n"
     ]
    },
    {
     "name": "stderr",
     "output_type": "stream",
     "text": [
      "\n",
      " 95%|█████████▌| 19/20 [00:14<00:00,  1.28it/s]\u001b[A"
     ]
    },
    {
     "name": "stdout",
     "output_type": "stream",
     "text": [
      "Outputs min: -2.498955249786377, max: 3.257138729095459, shape: torch.Size([2, 2, 512, 512])\n",
      "Masks min: 0.0, max: 1.0, shape: torch.Size([2, 2, 512, 512])\n"
     ]
    },
    {
     "name": "stderr",
     "output_type": "stream",
     "text": [
      "\n",
      "100%|██████████| 20/20 [00:15<00:00,  1.28it/s]\u001b[A\n"
     ]
    },
    {
     "name": "stdout",
     "output_type": "stream",
     "text": [
      "Epoch [4/10], Loss: 0.4183943271636963\n",
      "Checkpoint saved at epoch 4\n"
     ]
    },
    {
     "name": "stderr",
     "output_type": "stream",
     "text": [
      " 40%|████      | 4/10 [01:20<01:56, 19.50s/it]"
     ]
    },
    {
     "name": "stdout",
     "output_type": "stream",
     "text": [
      "|===========================================================================|\n",
      "|                  PyTorch CUDA memory summary, device ID 0                 |\n",
      "|---------------------------------------------------------------------------|\n",
      "|            CUDA OOMs: 0            |        cudaMalloc retries: 0         |\n",
      "|===========================================================================|\n",
      "|        Metric         | Cur Usage  | Peak Usage | Tot Alloc  | Tot Freed  |\n",
      "|---------------------------------------------------------------------------|\n",
      "| Allocated memory      | 590333 KiB |   4990 MiB |   1358 GiB |   1358 GiB |\n",
      "|       from large pool | 573440 KiB |   4977 MiB |   1357 GiB |   1356 GiB |\n",
      "|       from small pool |  16893 KiB |     20 MiB |      1 GiB |      1 GiB |\n",
      "|---------------------------------------------------------------------------|\n",
      "| Active memory         | 590333 KiB |   4990 MiB |   1358 GiB |   1358 GiB |\n",
      "|       from large pool | 573440 KiB |   4977 MiB |   1357 GiB |   1356 GiB |\n",
      "|       from small pool |  16893 KiB |     20 MiB |      1 GiB |      1 GiB |\n",
      "|---------------------------------------------------------------------------|\n",
      "| Requested memory      | 590295 KiB |   4990 MiB |   1358 GiB |   1358 GiB |\n",
      "|       from large pool | 573440 KiB |   4977 MiB |   1357 GiB |   1356 GiB |\n",
      "|       from small pool |  16855 KiB |     20 MiB |      1 GiB |      1 GiB |\n",
      "|---------------------------------------------------------------------------|\n",
      "| GPU reserved memory   |    778 MiB |   5242 MiB |  18734 MiB |  17956 MiB |\n",
      "|       from large pool |    760 MiB |   5220 MiB |  18700 MiB |  17940 MiB |\n",
      "|       from small pool |     18 MiB |     22 MiB |     34 MiB |     16 MiB |\n",
      "|---------------------------------------------------------------------------|\n",
      "| Non-releasable memory |      0 B   |      0 B   |      0 B   |      0 B   |\n",
      "|       from large pool |      0 B   |      0 B   |      0 B   |      0 B   |\n",
      "|       from small pool |      0 B   |      0 B   |      0 B   |      0 B   |\n",
      "|---------------------------------------------------------------------------|\n",
      "| Allocations           |     538    |     656    |   57092    |   56554    |\n",
      "|       from large pool |      71    |     125    |   22899    |   22828    |\n",
      "|       from small pool |     467    |     585    |   34193    |   33726    |\n",
      "|---------------------------------------------------------------------------|\n",
      "| Active allocs         |     538    |     656    |   57092    |   56554    |\n",
      "|       from large pool |      71    |     125    |   22899    |   22828    |\n",
      "|       from small pool |     467    |     585    |   34193    |   33726    |\n",
      "|---------------------------------------------------------------------------|\n",
      "| GPU reserved segments |       0    |       0    |       0    |       0    |\n",
      "|       from large pool |       0    |       0    |       0    |       0    |\n",
      "|       from small pool |       0    |       0    |       0    |       0    |\n",
      "|---------------------------------------------------------------------------|\n",
      "| Non-releasable allocs |       0    |       0    |       0    |       0    |\n",
      "|       from large pool |       0    |       0    |       0    |       0    |\n",
      "|       from small pool |       0    |       0    |       0    |       0    |\n",
      "|---------------------------------------------------------------------------|\n",
      "| Oversize allocations  |       0    |       0    |       0    |       0    |\n",
      "|---------------------------------------------------------------------------|\n",
      "| Oversize GPU segments |       0    |       0    |       0    |       0    |\n",
      "|===========================================================================|\n",
      "\n"
     ]
    },
    {
     "name": "stderr",
     "output_type": "stream",
     "text": [
      "\n",
      "  0%|          | 0/20 [00:00<?, ?it/s]\u001b[A"
     ]
    },
    {
     "name": "stdout",
     "output_type": "stream",
     "text": [
      "Outputs min: -2.1555263996124268, max: 3.051640748977661, shape: torch.Size([2, 2, 512, 512])\n",
      "Masks min: 0.0, max: 1.0, shape: torch.Size([2, 2, 512, 512])\n"
     ]
    },
    {
     "name": "stderr",
     "output_type": "stream",
     "text": [
      "\n",
      "  5%|▌         | 1/20 [00:00<00:14,  1.28it/s]\u001b[A"
     ]
    },
    {
     "name": "stdout",
     "output_type": "stream",
     "text": [
      "Outputs min: -2.2805657386779785, max: 2.801210641860962, shape: torch.Size([2, 2, 512, 512])\n",
      "Masks min: 0.0, max: 1.0, shape: torch.Size([2, 2, 512, 512])\n"
     ]
    },
    {
     "name": "stderr",
     "output_type": "stream",
     "text": [
      "\n",
      " 10%|█         | 2/20 [00:01<00:14,  1.28it/s]\u001b[A"
     ]
    },
    {
     "name": "stdout",
     "output_type": "stream",
     "text": [
      "Outputs min: -3.294952869415283, max: 3.6511447429656982, shape: torch.Size([2, 2, 512, 512])\n",
      "Masks min: 0.0, max: 1.0, shape: torch.Size([2, 2, 512, 512])\n"
     ]
    },
    {
     "name": "stderr",
     "output_type": "stream",
     "text": [
      "\n",
      " 15%|█▌        | 3/20 [00:02<00:13,  1.28it/s]\u001b[A"
     ]
    },
    {
     "name": "stdout",
     "output_type": "stream",
     "text": [
      "Outputs min: -2.1216657161712646, max: 2.360562324523926, shape: torch.Size([2, 2, 512, 512])\n",
      "Masks min: 0.0, max: 1.0, shape: torch.Size([2, 2, 512, 512])\n"
     ]
    },
    {
     "name": "stderr",
     "output_type": "stream",
     "text": [
      "\n",
      " 20%|██        | 4/20 [00:03<00:12,  1.28it/s]\u001b[A"
     ]
    },
    {
     "name": "stdout",
     "output_type": "stream",
     "text": [
      "Outputs min: -3.5379507541656494, max: 4.110782146453857, shape: torch.Size([2, 2, 512, 512])\n",
      "Masks min: 0.0, max: 1.0, shape: torch.Size([2, 2, 512, 512])\n"
     ]
    },
    {
     "name": "stderr",
     "output_type": "stream",
     "text": [
      "\n",
      " 25%|██▌       | 5/20 [00:03<00:11,  1.28it/s]\u001b[A"
     ]
    },
    {
     "name": "stdout",
     "output_type": "stream",
     "text": [
      "Outputs min: -2.379716157913208, max: 3.371246099472046, shape: torch.Size([2, 2, 512, 512])\n",
      "Masks min: 0.0, max: 1.0, shape: torch.Size([2, 2, 512, 512])\n"
     ]
    },
    {
     "name": "stderr",
     "output_type": "stream",
     "text": [
      "\n",
      " 30%|███       | 6/20 [00:04<00:10,  1.28it/s]\u001b[A"
     ]
    },
    {
     "name": "stdout",
     "output_type": "stream",
     "text": [
      "Outputs min: -2.590712308883667, max: 3.6303999423980713, shape: torch.Size([2, 2, 512, 512])\n",
      "Masks min: 0.0, max: 1.0, shape: torch.Size([2, 2, 512, 512])\n"
     ]
    },
    {
     "name": "stderr",
     "output_type": "stream",
     "text": [
      "\n",
      " 35%|███▌      | 7/20 [00:05<00:10,  1.28it/s]\u001b[A"
     ]
    },
    {
     "name": "stdout",
     "output_type": "stream",
     "text": [
      "Outputs min: -2.0813610553741455, max: 2.5101184844970703, shape: torch.Size([2, 2, 512, 512])\n",
      "Masks min: 0.0, max: 1.0, shape: torch.Size([2, 2, 512, 512])\n"
     ]
    },
    {
     "name": "stderr",
     "output_type": "stream",
     "text": [
      "\n",
      " 40%|████      | 8/20 [00:06<00:09,  1.28it/s]\u001b[A"
     ]
    },
    {
     "name": "stdout",
     "output_type": "stream",
     "text": [
      "Outputs min: -2.4630725383758545, max: 2.717987537384033, shape: torch.Size([2, 2, 512, 512])\n",
      "Masks min: 0.0, max: 1.0, shape: torch.Size([2, 2, 512, 512])\n"
     ]
    },
    {
     "name": "stderr",
     "output_type": "stream",
     "text": [
      "\n",
      " 45%|████▌     | 9/20 [00:07<00:08,  1.28it/s]\u001b[A"
     ]
    },
    {
     "name": "stdout",
     "output_type": "stream",
     "text": [
      "Outputs min: -2.4202418327331543, max: 3.463805675506592, shape: torch.Size([2, 2, 512, 512])\n",
      "Masks min: 0.0, max: 1.0, shape: torch.Size([2, 2, 512, 512])\n"
     ]
    },
    {
     "name": "stderr",
     "output_type": "stream",
     "text": [
      "\n",
      " 50%|█████     | 10/20 [00:07<00:07,  1.28it/s]\u001b[A"
     ]
    },
    {
     "name": "stdout",
     "output_type": "stream",
     "text": [
      "Outputs min: -2.6109578609466553, max: 3.162865400314331, shape: torch.Size([2, 2, 512, 512])\n",
      "Masks min: 0.0, max: 1.0, shape: torch.Size([2, 2, 512, 512])\n"
     ]
    },
    {
     "name": "stderr",
     "output_type": "stream",
     "text": [
      "\n",
      " 55%|█████▌    | 11/20 [00:08<00:07,  1.28it/s]\u001b[A"
     ]
    },
    {
     "name": "stdout",
     "output_type": "stream",
     "text": [
      "Outputs min: -2.731872320175171, max: 4.017988204956055, shape: torch.Size([2, 2, 512, 512])\n",
      "Masks min: 0.0, max: 1.0, shape: torch.Size([2, 2, 512, 512])\n"
     ]
    },
    {
     "name": "stderr",
     "output_type": "stream",
     "text": [
      "\n",
      " 60%|██████    | 12/20 [00:09<00:06,  1.28it/s]\u001b[A"
     ]
    },
    {
     "name": "stdout",
     "output_type": "stream",
     "text": [
      "Outputs min: -2.568180799484253, max: 3.074244976043701, shape: torch.Size([2, 2, 512, 512])\n",
      "Masks min: 0.0, max: 1.0, shape: torch.Size([2, 2, 512, 512])\n"
     ]
    },
    {
     "name": "stderr",
     "output_type": "stream",
     "text": [
      "\n",
      " 65%|██████▌   | 13/20 [00:10<00:05,  1.28it/s]\u001b[A"
     ]
    },
    {
     "name": "stdout",
     "output_type": "stream",
     "text": [
      "Outputs min: -2.1187586784362793, max: 2.6538069248199463, shape: torch.Size([2, 2, 512, 512])\n",
      "Masks min: 0.0, max: 1.0, shape: torch.Size([2, 2, 512, 512])\n"
     ]
    },
    {
     "name": "stderr",
     "output_type": "stream",
     "text": [
      "\n",
      " 70%|███████   | 14/20 [00:10<00:04,  1.28it/s]\u001b[A"
     ]
    },
    {
     "name": "stdout",
     "output_type": "stream",
     "text": [
      "Outputs min: -2.4033985137939453, max: 2.9489755630493164, shape: torch.Size([2, 2, 512, 512])\n",
      "Masks min: 0.0, max: 1.0, shape: torch.Size([2, 2, 512, 512])\n"
     ]
    },
    {
     "name": "stderr",
     "output_type": "stream",
     "text": [
      "\n",
      " 75%|███████▌  | 15/20 [00:11<00:03,  1.28it/s]\u001b[A"
     ]
    },
    {
     "name": "stdout",
     "output_type": "stream",
     "text": [
      "Outputs min: -2.976574659347534, max: 3.5745153427124023, shape: torch.Size([2, 2, 512, 512])\n",
      "Masks min: 0.0, max: 1.0, shape: torch.Size([2, 2, 512, 512])\n"
     ]
    },
    {
     "name": "stderr",
     "output_type": "stream",
     "text": [
      "\n",
      " 80%|████████  | 16/20 [00:12<00:03,  1.28it/s]\u001b[A"
     ]
    },
    {
     "name": "stdout",
     "output_type": "stream",
     "text": [
      "Outputs min: -3.134888172149658, max: 3.593846559524536, shape: torch.Size([2, 2, 512, 512])\n",
      "Masks min: 0.0, max: 1.0, shape: torch.Size([2, 2, 512, 512])\n"
     ]
    },
    {
     "name": "stderr",
     "output_type": "stream",
     "text": [
      "\n",
      " 85%|████████▌ | 17/20 [00:13<00:02,  1.28it/s]\u001b[A"
     ]
    },
    {
     "name": "stdout",
     "output_type": "stream",
     "text": [
      "Outputs min: -2.319770574569702, max: 3.36478853225708, shape: torch.Size([2, 2, 512, 512])\n",
      "Masks min: 0.0, max: 1.0, shape: torch.Size([2, 2, 512, 512])\n"
     ]
    },
    {
     "name": "stderr",
     "output_type": "stream",
     "text": [
      "\n",
      " 90%|█████████ | 18/20 [00:14<00:01,  1.28it/s]\u001b[A"
     ]
    },
    {
     "name": "stdout",
     "output_type": "stream",
     "text": [
      "Outputs min: -2.7399098873138428, max: 4.148014068603516, shape: torch.Size([2, 2, 512, 512])\n",
      "Masks min: 0.0, max: 1.0, shape: torch.Size([2, 2, 512, 512])\n"
     ]
    },
    {
     "name": "stderr",
     "output_type": "stream",
     "text": [
      "\n",
      " 95%|█████████▌| 19/20 [00:14<00:00,  1.28it/s]\u001b[A"
     ]
    },
    {
     "name": "stdout",
     "output_type": "stream",
     "text": [
      "Outputs min: -2.308687448501587, max: 3.166485548019409, shape: torch.Size([2, 2, 512, 512])\n",
      "Masks min: 0.0, max: 1.0, shape: torch.Size([2, 2, 512, 512])\n"
     ]
    },
    {
     "name": "stderr",
     "output_type": "stream",
     "text": [
      "\n",
      "100%|██████████| 20/20 [00:15<00:00,  1.28it/s]\u001b[A\n"
     ]
    },
    {
     "name": "stdout",
     "output_type": "stream",
     "text": [
      "Epoch [5/10], Loss: 0.3797287419438362\n",
      "Checkpoint saved at epoch 5\n"
     ]
    },
    {
     "name": "stderr",
     "output_type": "stream",
     "text": [
      " 50%|█████     | 5/10 [01:38<01:36, 19.20s/it]"
     ]
    },
    {
     "name": "stdout",
     "output_type": "stream",
     "text": [
      "|===========================================================================|\n",
      "|                  PyTorch CUDA memory summary, device ID 0                 |\n",
      "|---------------------------------------------------------------------------|\n",
      "|            CUDA OOMs: 0            |        cudaMalloc retries: 0         |\n",
      "|===========================================================================|\n",
      "|        Metric         | Cur Usage  | Peak Usage | Tot Alloc  | Tot Freed  |\n",
      "|---------------------------------------------------------------------------|\n",
      "| Allocated memory      | 590333 KiB |   4990 MiB |   1698 GiB |   1697 GiB |\n",
      "|       from large pool | 573440 KiB |   4977 MiB |   1696 GiB |   1695 GiB |\n",
      "|       from small pool |  16893 KiB |     20 MiB |      1 GiB |      1 GiB |\n",
      "|---------------------------------------------------------------------------|\n",
      "| Active memory         | 590333 KiB |   4990 MiB |   1698 GiB |   1697 GiB |\n",
      "|       from large pool | 573440 KiB |   4977 MiB |   1696 GiB |   1695 GiB |\n",
      "|       from small pool |  16893 KiB |     20 MiB |      1 GiB |      1 GiB |\n",
      "|---------------------------------------------------------------------------|\n",
      "| Requested memory      | 590295 KiB |   4990 MiB |   1698 GiB |   1697 GiB |\n",
      "|       from large pool | 573440 KiB |   4977 MiB |   1696 GiB |   1695 GiB |\n",
      "|       from small pool |  16855 KiB |     20 MiB |      1 GiB |      1 GiB |\n",
      "|---------------------------------------------------------------------------|\n",
      "| GPU reserved memory   | 776192 KiB |   5242 MiB |  23158 MiB |  22400 MiB |\n",
      "|       from large pool | 757760 KiB |   5220 MiB |  23120 MiB |  22380 MiB |\n",
      "|       from small pool |  18432 KiB |     22 MiB |     38 MiB |     20 MiB |\n",
      "|---------------------------------------------------------------------------|\n",
      "| Non-releasable memory |      0 B   |      0 B   |      0 B   |      0 B   |\n",
      "|       from large pool |      0 B   |      0 B   |      0 B   |      0 B   |\n",
      "|       from small pool |      0 B   |      0 B   |      0 B   |      0 B   |\n",
      "|---------------------------------------------------------------------------|\n",
      "| Allocations           |     538    |     656    |   71260    |   70722    |\n",
      "|       from large pool |      71    |     125    |   28611    |   28540    |\n",
      "|       from small pool |     467    |     585    |   42649    |   42182    |\n",
      "|---------------------------------------------------------------------------|\n",
      "| Active allocs         |     538    |     656    |   71260    |   70722    |\n",
      "|       from large pool |      71    |     125    |   28611    |   28540    |\n",
      "|       from small pool |     467    |     585    |   42649    |   42182    |\n",
      "|---------------------------------------------------------------------------|\n",
      "| GPU reserved segments |       0    |       0    |       0    |       0    |\n",
      "|       from large pool |       0    |       0    |       0    |       0    |\n",
      "|       from small pool |       0    |       0    |       0    |       0    |\n",
      "|---------------------------------------------------------------------------|\n",
      "| Non-releasable allocs |       0    |       0    |       0    |       0    |\n",
      "|       from large pool |       0    |       0    |       0    |       0    |\n",
      "|       from small pool |       0    |       0    |       0    |       0    |\n",
      "|---------------------------------------------------------------------------|\n",
      "| Oversize allocations  |       0    |       0    |       0    |       0    |\n",
      "|---------------------------------------------------------------------------|\n",
      "| Oversize GPU segments |       0    |       0    |       0    |       0    |\n",
      "|===========================================================================|\n",
      "\n"
     ]
    },
    {
     "name": "stderr",
     "output_type": "stream",
     "text": [
      "\n",
      "  0%|          | 0/20 [00:00<?, ?it/s]\u001b[A"
     ]
    },
    {
     "name": "stdout",
     "output_type": "stream",
     "text": [
      "Outputs min: -2.277189016342163, max: 3.444127321243286, shape: torch.Size([2, 2, 512, 512])\n",
      "Masks min: 0.0, max: 1.0, shape: torch.Size([2, 2, 512, 512])\n"
     ]
    },
    {
     "name": "stderr",
     "output_type": "stream",
     "text": [
      "\n",
      "  5%|▌         | 1/20 [00:00<00:14,  1.28it/s]\u001b[A"
     ]
    },
    {
     "name": "stdout",
     "output_type": "stream",
     "text": [
      "Outputs min: -2.285973310470581, max: 3.2990851402282715, shape: torch.Size([2, 2, 512, 512])\n",
      "Masks min: 0.0, max: 1.0, shape: torch.Size([2, 2, 512, 512])\n"
     ]
    },
    {
     "name": "stderr",
     "output_type": "stream",
     "text": [
      "\n",
      " 10%|█         | 2/20 [00:01<00:14,  1.28it/s]\u001b[A"
     ]
    },
    {
     "name": "stdout",
     "output_type": "stream",
     "text": [
      "Outputs min: -2.377955436706543, max: 3.0281808376312256, shape: torch.Size([2, 2, 512, 512])\n",
      "Masks min: 0.0, max: 1.0, shape: torch.Size([2, 2, 512, 512])\n"
     ]
    },
    {
     "name": "stderr",
     "output_type": "stream",
     "text": [
      "\n",
      " 15%|█▌        | 3/20 [00:02<00:13,  1.28it/s]\u001b[A"
     ]
    },
    {
     "name": "stdout",
     "output_type": "stream",
     "text": [
      "Outputs min: -2.5244312286376953, max: 3.1898884773254395, shape: torch.Size([2, 2, 512, 512])\n",
      "Masks min: 0.0, max: 1.0, shape: torch.Size([2, 2, 512, 512])\n"
     ]
    },
    {
     "name": "stderr",
     "output_type": "stream",
     "text": [
      "\n",
      " 20%|██        | 4/20 [00:03<00:12,  1.28it/s]\u001b[A"
     ]
    },
    {
     "name": "stdout",
     "output_type": "stream",
     "text": [
      "Outputs min: -2.6993556022644043, max: 3.063754081726074, shape: torch.Size([2, 2, 512, 512])\n",
      "Masks min: 0.0, max: 1.0, shape: torch.Size([2, 2, 512, 512])\n"
     ]
    },
    {
     "name": "stderr",
     "output_type": "stream",
     "text": [
      "\n",
      " 25%|██▌       | 5/20 [00:03<00:11,  1.28it/s]\u001b[A"
     ]
    },
    {
     "name": "stdout",
     "output_type": "stream",
     "text": [
      "Outputs min: -2.9561409950256348, max: 3.695683479309082, shape: torch.Size([2, 2, 512, 512])\n",
      "Masks min: 0.0, max: 1.0, shape: torch.Size([2, 2, 512, 512])\n"
     ]
    },
    {
     "name": "stderr",
     "output_type": "stream",
     "text": [
      "\n",
      " 30%|███       | 6/20 [00:04<00:10,  1.28it/s]\u001b[A"
     ]
    },
    {
     "name": "stdout",
     "output_type": "stream",
     "text": [
      "Outputs min: -2.163745164871216, max: 3.066819190979004, shape: torch.Size([2, 2, 512, 512])\n",
      "Masks min: 0.0, max: 1.0, shape: torch.Size([2, 2, 512, 512])\n"
     ]
    },
    {
     "name": "stderr",
     "output_type": "stream",
     "text": [
      "\n",
      " 35%|███▌      | 7/20 [00:05<00:10,  1.28it/s]\u001b[A"
     ]
    },
    {
     "name": "stdout",
     "output_type": "stream",
     "text": [
      "Outputs min: -2.267967700958252, max: 2.5956838130950928, shape: torch.Size([2, 2, 512, 512])\n",
      "Masks min: 0.0, max: 1.0, shape: torch.Size([2, 2, 512, 512])\n"
     ]
    },
    {
     "name": "stderr",
     "output_type": "stream",
     "text": [
      "\n",
      " 40%|████      | 8/20 [00:06<00:09,  1.28it/s]\u001b[A"
     ]
    },
    {
     "name": "stdout",
     "output_type": "stream",
     "text": [
      "Outputs min: -2.5785763263702393, max: 2.9247989654541016, shape: torch.Size([2, 2, 512, 512])\n",
      "Masks min: 0.0, max: 1.0, shape: torch.Size([2, 2, 512, 512])\n"
     ]
    },
    {
     "name": "stderr",
     "output_type": "stream",
     "text": [
      "\n",
      " 45%|████▌     | 9/20 [00:07<00:08,  1.28it/s]\u001b[A"
     ]
    },
    {
     "name": "stdout",
     "output_type": "stream",
     "text": [
      "Outputs min: -3.1301674842834473, max: 3.78476619720459, shape: torch.Size([2, 2, 512, 512])\n",
      "Masks min: 0.0, max: 1.0, shape: torch.Size([2, 2, 512, 512])\n"
     ]
    },
    {
     "name": "stderr",
     "output_type": "stream",
     "text": [
      "\n",
      " 50%|█████     | 10/20 [00:07<00:07,  1.28it/s]\u001b[A"
     ]
    },
    {
     "name": "stdout",
     "output_type": "stream",
     "text": [
      "Outputs min: -2.3820340633392334, max: 3.275465726852417, shape: torch.Size([2, 2, 512, 512])\n",
      "Masks min: 0.0, max: 1.0, shape: torch.Size([2, 2, 512, 512])\n"
     ]
    },
    {
     "name": "stderr",
     "output_type": "stream",
     "text": [
      "\n",
      " 55%|█████▌    | 11/20 [00:08<00:07,  1.28it/s]\u001b[A"
     ]
    },
    {
     "name": "stdout",
     "output_type": "stream",
     "text": [
      "Outputs min: -2.9569361209869385, max: 3.5058178901672363, shape: torch.Size([2, 2, 512, 512])\n",
      "Masks min: 0.0, max: 1.0, shape: torch.Size([2, 2, 512, 512])\n"
     ]
    },
    {
     "name": "stderr",
     "output_type": "stream",
     "text": [
      "\n",
      " 60%|██████    | 12/20 [00:09<00:06,  1.28it/s]\u001b[A"
     ]
    },
    {
     "name": "stdout",
     "output_type": "stream",
     "text": [
      "Outputs min: -2.443638563156128, max: 3.0810306072235107, shape: torch.Size([2, 2, 512, 512])\n",
      "Masks min: 0.0, max: 1.0, shape: torch.Size([2, 2, 512, 512])\n"
     ]
    },
    {
     "name": "stderr",
     "output_type": "stream",
     "text": [
      "\n",
      " 65%|██████▌   | 13/20 [00:10<00:05,  1.28it/s]\u001b[A"
     ]
    },
    {
     "name": "stdout",
     "output_type": "stream",
     "text": [
      "Outputs min: -2.8597030639648438, max: 3.835498332977295, shape: torch.Size([2, 2, 512, 512])\n",
      "Masks min: 0.0, max: 1.0, shape: torch.Size([2, 2, 512, 512])\n"
     ]
    },
    {
     "name": "stderr",
     "output_type": "stream",
     "text": [
      "\n",
      " 70%|███████   | 14/20 [00:10<00:04,  1.27it/s]\u001b[A"
     ]
    },
    {
     "name": "stdout",
     "output_type": "stream",
     "text": [
      "Outputs min: -2.8306221961975098, max: 3.1868412494659424, shape: torch.Size([2, 2, 512, 512])\n",
      "Masks min: 0.0, max: 1.0, shape: torch.Size([2, 2, 512, 512])\n"
     ]
    },
    {
     "name": "stderr",
     "output_type": "stream",
     "text": [
      "\n",
      " 75%|███████▌  | 15/20 [00:11<00:03,  1.27it/s]\u001b[A"
     ]
    },
    {
     "name": "stdout",
     "output_type": "stream",
     "text": [
      "Outputs min: -2.678276300430298, max: 3.5548417568206787, shape: torch.Size([2, 2, 512, 512])\n",
      "Masks min: 0.0, max: 1.0, shape: torch.Size([2, 2, 512, 512])\n"
     ]
    },
    {
     "name": "stderr",
     "output_type": "stream",
     "text": [
      "\n",
      " 80%|████████  | 16/20 [00:12<00:03,  1.28it/s]\u001b[A"
     ]
    },
    {
     "name": "stdout",
     "output_type": "stream",
     "text": [
      "Outputs min: -2.346440076828003, max: 3.4263131618499756, shape: torch.Size([2, 2, 512, 512])\n",
      "Masks min: 0.0, max: 1.0, shape: torch.Size([2, 2, 512, 512])\n"
     ]
    },
    {
     "name": "stderr",
     "output_type": "stream",
     "text": [
      "\n",
      " 85%|████████▌ | 17/20 [00:13<00:02,  1.28it/s]\u001b[A"
     ]
    },
    {
     "name": "stdout",
     "output_type": "stream",
     "text": [
      "Outputs min: -2.42049241065979, max: 3.4486083984375, shape: torch.Size([2, 2, 512, 512])\n",
      "Masks min: 0.0, max: 1.0, shape: torch.Size([2, 2, 512, 512])\n"
     ]
    },
    {
     "name": "stderr",
     "output_type": "stream",
     "text": [
      "\n",
      " 90%|█████████ | 18/20 [00:14<00:01,  1.28it/s]\u001b[A"
     ]
    },
    {
     "name": "stdout",
     "output_type": "stream",
     "text": [
      "Outputs min: -2.4887142181396484, max: 3.834097146987915, shape: torch.Size([2, 2, 512, 512])\n",
      "Masks min: 0.0, max: 1.0, shape: torch.Size([2, 2, 512, 512])\n"
     ]
    },
    {
     "name": "stderr",
     "output_type": "stream",
     "text": [
      "\n",
      " 95%|█████████▌| 19/20 [00:14<00:00,  1.28it/s]\u001b[A"
     ]
    },
    {
     "name": "stdout",
     "output_type": "stream",
     "text": [
      "Outputs min: -2.304142713546753, max: 3.660480260848999, shape: torch.Size([2, 2, 512, 512])\n",
      "Masks min: 0.0, max: 1.0, shape: torch.Size([2, 2, 512, 512])\n"
     ]
    },
    {
     "name": "stderr",
     "output_type": "stream",
     "text": [
      "\n",
      "100%|██████████| 20/20 [00:15<00:00,  1.28it/s]\u001b[A\n",
      " 60%|██████    | 6/10 [01:55<01:13, 18.38s/it]"
     ]
    },
    {
     "name": "stdout",
     "output_type": "stream",
     "text": [
      "Epoch [6/10], Loss: 0.3508799493312836\n",
      "|===========================================================================|\n",
      "|                  PyTorch CUDA memory summary, device ID 0                 |\n",
      "|---------------------------------------------------------------------------|\n",
      "|            CUDA OOMs: 0            |        cudaMalloc retries: 0         |\n",
      "|===========================================================================|\n",
      "|        Metric         | Cur Usage  | Peak Usage | Tot Alloc  | Tot Freed  |\n",
      "|---------------------------------------------------------------------------|\n",
      "| Allocated memory      | 590333 KiB |   4990 MiB |   2037 GiB |   2037 GiB |\n",
      "|       from large pool | 573440 KiB |   4977 MiB |   2035 GiB |   2035 GiB |\n",
      "|       from small pool |  16893 KiB |     20 MiB |      1 GiB |      1 GiB |\n",
      "|---------------------------------------------------------------------------|\n",
      "| Active memory         | 590333 KiB |   4990 MiB |   2037 GiB |   2037 GiB |\n",
      "|       from large pool | 573440 KiB |   4977 MiB |   2035 GiB |   2035 GiB |\n",
      "|       from small pool |  16893 KiB |     20 MiB |      1 GiB |      1 GiB |\n",
      "|---------------------------------------------------------------------------|\n",
      "| Requested memory      | 590295 KiB |   4990 MiB |   2037 GiB |   2037 GiB |\n",
      "|       from large pool | 573440 KiB |   4977 MiB |   2035 GiB |   2035 GiB |\n",
      "|       from small pool |  16855 KiB |     20 MiB |      1 GiB |      1 GiB |\n",
      "|---------------------------------------------------------------------------|\n",
      "| GPU reserved memory   | 755712 KiB |   5242 MiB |  27582 MiB |  26844 MiB |\n",
      "|       from large pool | 737280 KiB |   5220 MiB |  27540 MiB |  26820 MiB |\n",
      "|       from small pool |  18432 KiB |     22 MiB |     42 MiB |     24 MiB |\n",
      "|---------------------------------------------------------------------------|\n",
      "| Non-releasable memory |      0 B   |      0 B   |      0 B   |      0 B   |\n",
      "|       from large pool |      0 B   |      0 B   |      0 B   |      0 B   |\n",
      "|       from small pool |      0 B   |      0 B   |      0 B   |      0 B   |\n",
      "|---------------------------------------------------------------------------|\n",
      "| Allocations           |     538    |     656    |   85428    |   84890    |\n",
      "|       from large pool |      71    |     125    |   34323    |   34252    |\n",
      "|       from small pool |     467    |     585    |   51105    |   50638    |\n",
      "|---------------------------------------------------------------------------|\n",
      "| Active allocs         |     538    |     656    |   85428    |   84890    |\n",
      "|       from large pool |      71    |     125    |   34323    |   34252    |\n",
      "|       from small pool |     467    |     585    |   51105    |   50638    |\n",
      "|---------------------------------------------------------------------------|\n",
      "| GPU reserved segments |       0    |       0    |       0    |       0    |\n",
      "|       from large pool |       0    |       0    |       0    |       0    |\n",
      "|       from small pool |       0    |       0    |       0    |       0    |\n",
      "|---------------------------------------------------------------------------|\n",
      "| Non-releasable allocs |       0    |       0    |       0    |       0    |\n",
      "|       from large pool |       0    |       0    |       0    |       0    |\n",
      "|       from small pool |       0    |       0    |       0    |       0    |\n",
      "|---------------------------------------------------------------------------|\n",
      "| Oversize allocations  |       0    |       0    |       0    |       0    |\n",
      "|---------------------------------------------------------------------------|\n",
      "| Oversize GPU segments |       0    |       0    |       0    |       0    |\n",
      "|===========================================================================|\n",
      "\n"
     ]
    },
    {
     "name": "stderr",
     "output_type": "stream",
     "text": [
      "\n",
      "  0%|          | 0/20 [00:00<?, ?it/s]\u001b[A"
     ]
    },
    {
     "name": "stdout",
     "output_type": "stream",
     "text": [
      "Outputs min: -2.3463549613952637, max: 3.5293891429901123, shape: torch.Size([2, 2, 512, 512])\n",
      "Masks min: 0.0, max: 1.0, shape: torch.Size([2, 2, 512, 512])\n"
     ]
    },
    {
     "name": "stderr",
     "output_type": "stream",
     "text": [
      "\n",
      "  5%|▌         | 1/20 [00:00<00:14,  1.28it/s]\u001b[A"
     ]
    },
    {
     "name": "stdout",
     "output_type": "stream",
     "text": [
      "Outputs min: -2.4464120864868164, max: 2.9239094257354736, shape: torch.Size([2, 2, 512, 512])\n",
      "Masks min: 0.0, max: 1.0, shape: torch.Size([2, 2, 512, 512])\n"
     ]
    },
    {
     "name": "stderr",
     "output_type": "stream",
     "text": [
      "\n",
      " 10%|█         | 2/20 [00:01<00:14,  1.28it/s]\u001b[A"
     ]
    },
    {
     "name": "stdout",
     "output_type": "stream",
     "text": [
      "Outputs min: -2.295900344848633, max: 3.29971981048584, shape: torch.Size([2, 2, 512, 512])\n",
      "Masks min: 0.0, max: 1.0, shape: torch.Size([2, 2, 512, 512])\n"
     ]
    },
    {
     "name": "stderr",
     "output_type": "stream",
     "text": [
      "\n",
      " 15%|█▌        | 3/20 [00:02<00:13,  1.28it/s]\u001b[A"
     ]
    },
    {
     "name": "stdout",
     "output_type": "stream",
     "text": [
      "Outputs min: -2.3384995460510254, max: 3.0667436122894287, shape: torch.Size([2, 2, 512, 512])\n",
      "Masks min: 0.0, max: 1.0, shape: torch.Size([2, 2, 512, 512])\n"
     ]
    },
    {
     "name": "stderr",
     "output_type": "stream",
     "text": [
      "\n",
      " 20%|██        | 4/20 [00:03<00:12,  1.28it/s]\u001b[A"
     ]
    },
    {
     "name": "stdout",
     "output_type": "stream",
     "text": [
      "Outputs min: -2.3718373775482178, max: 3.2095963954925537, shape: torch.Size([2, 2, 512, 512])\n",
      "Masks min: 0.0, max: 1.0, shape: torch.Size([2, 2, 512, 512])\n"
     ]
    },
    {
     "name": "stderr",
     "output_type": "stream",
     "text": [
      "\n",
      " 25%|██▌       | 5/20 [00:03<00:11,  1.28it/s]\u001b[A"
     ]
    },
    {
     "name": "stdout",
     "output_type": "stream",
     "text": [
      "Outputs min: -1.9712133407592773, max: 2.711902141571045, shape: torch.Size([2, 2, 512, 512])\n",
      "Masks min: 0.0, max: 1.0, shape: torch.Size([2, 2, 512, 512])\n"
     ]
    },
    {
     "name": "stderr",
     "output_type": "stream",
     "text": [
      "\n",
      " 30%|███       | 6/20 [00:04<00:10,  1.28it/s]\u001b[A"
     ]
    },
    {
     "name": "stdout",
     "output_type": "stream",
     "text": [
      "Outputs min: -2.368941307067871, max: 2.7955586910247803, shape: torch.Size([2, 2, 512, 512])\n",
      "Masks min: 0.0, max: 1.0, shape: torch.Size([2, 2, 512, 512])\n"
     ]
    },
    {
     "name": "stderr",
     "output_type": "stream",
     "text": [
      "\n",
      " 35%|███▌      | 7/20 [00:05<00:10,  1.28it/s]\u001b[A"
     ]
    },
    {
     "name": "stdout",
     "output_type": "stream",
     "text": [
      "Outputs min: -2.0945584774017334, max: 2.565171480178833, shape: torch.Size([2, 2, 512, 512])\n",
      "Masks min: 0.0, max: 1.0, shape: torch.Size([2, 2, 512, 512])\n"
     ]
    },
    {
     "name": "stderr",
     "output_type": "stream",
     "text": [
      "\n",
      " 40%|████      | 8/20 [00:06<00:09,  1.28it/s]\u001b[A"
     ]
    },
    {
     "name": "stdout",
     "output_type": "stream",
     "text": [
      "Outputs min: -2.6597869396209717, max: 3.0241384506225586, shape: torch.Size([2, 2, 512, 512])\n",
      "Masks min: 0.0, max: 1.0, shape: torch.Size([2, 2, 512, 512])\n"
     ]
    },
    {
     "name": "stderr",
     "output_type": "stream",
     "text": [
      "\n",
      " 45%|████▌     | 9/20 [00:07<00:08,  1.28it/s]\u001b[A"
     ]
    },
    {
     "name": "stdout",
     "output_type": "stream",
     "text": [
      "Outputs min: -2.8147926330566406, max: 3.3518059253692627, shape: torch.Size([2, 2, 512, 512])\n",
      "Masks min: 0.0, max: 1.0, shape: torch.Size([2, 2, 512, 512])\n"
     ]
    },
    {
     "name": "stderr",
     "output_type": "stream",
     "text": [
      "\n",
      " 50%|█████     | 10/20 [00:07<00:07,  1.28it/s]\u001b[A"
     ]
    },
    {
     "name": "stdout",
     "output_type": "stream",
     "text": [
      "Outputs min: -2.5682201385498047, max: 3.426198720932007, shape: torch.Size([2, 2, 512, 512])\n",
      "Masks min: 0.0, max: 1.0, shape: torch.Size([2, 2, 512, 512])\n"
     ]
    },
    {
     "name": "stderr",
     "output_type": "stream",
     "text": [
      "\n",
      " 55%|█████▌    | 11/20 [00:08<00:07,  1.28it/s]\u001b[A"
     ]
    },
    {
     "name": "stdout",
     "output_type": "stream",
     "text": [
      "Outputs min: -2.2576122283935547, max: 3.4263486862182617, shape: torch.Size([2, 2, 512, 512])\n",
      "Masks min: 0.0, max: 1.0, shape: torch.Size([2, 2, 512, 512])\n"
     ]
    },
    {
     "name": "stderr",
     "output_type": "stream",
     "text": [
      "\n",
      " 60%|██████    | 12/20 [00:09<00:06,  1.28it/s]\u001b[A"
     ]
    },
    {
     "name": "stdout",
     "output_type": "stream",
     "text": [
      "Outputs min: -3.1960887908935547, max: 3.8415122032165527, shape: torch.Size([2, 2, 512, 512])\n",
      "Masks min: 0.0, max: 1.0, shape: torch.Size([2, 2, 512, 512])\n"
     ]
    },
    {
     "name": "stderr",
     "output_type": "stream",
     "text": [
      "\n",
      " 65%|██████▌   | 13/20 [00:10<00:05,  1.28it/s]\u001b[A"
     ]
    },
    {
     "name": "stdout",
     "output_type": "stream",
     "text": [
      "Outputs min: -2.201026439666748, max: 2.8137831687927246, shape: torch.Size([2, 2, 512, 512])\n",
      "Masks min: 0.0, max: 1.0, shape: torch.Size([2, 2, 512, 512])\n"
     ]
    },
    {
     "name": "stderr",
     "output_type": "stream",
     "text": [
      "\n",
      " 70%|███████   | 14/20 [00:10<00:04,  1.28it/s]\u001b[A"
     ]
    },
    {
     "name": "stdout",
     "output_type": "stream",
     "text": [
      "Outputs min: -2.4587888717651367, max: 3.408747673034668, shape: torch.Size([2, 2, 512, 512])\n",
      "Masks min: 0.0, max: 1.0, shape: torch.Size([2, 2, 512, 512])\n"
     ]
    },
    {
     "name": "stderr",
     "output_type": "stream",
     "text": [
      "\n",
      " 75%|███████▌  | 15/20 [00:11<00:03,  1.28it/s]\u001b[A"
     ]
    },
    {
     "name": "stdout",
     "output_type": "stream",
     "text": [
      "Outputs min: -2.0758869647979736, max: 2.643873929977417, shape: torch.Size([2, 2, 512, 512])\n",
      "Masks min: 0.0, max: 1.0, shape: torch.Size([2, 2, 512, 512])\n"
     ]
    },
    {
     "name": "stderr",
     "output_type": "stream",
     "text": [
      "\n",
      " 80%|████████  | 16/20 [00:12<00:03,  1.28it/s]\u001b[A"
     ]
    },
    {
     "name": "stdout",
     "output_type": "stream",
     "text": [
      "Outputs min: -2.31892991065979, max: 3.0553324222564697, shape: torch.Size([2, 2, 512, 512])\n",
      "Masks min: 0.0, max: 1.0, shape: torch.Size([2, 2, 512, 512])\n"
     ]
    },
    {
     "name": "stderr",
     "output_type": "stream",
     "text": [
      "\n",
      " 85%|████████▌ | 17/20 [00:13<00:02,  1.28it/s]\u001b[A"
     ]
    },
    {
     "name": "stdout",
     "output_type": "stream",
     "text": [
      "Outputs min: -2.2245934009552, max: 2.973581075668335, shape: torch.Size([2, 2, 512, 512])\n",
      "Masks min: 0.0, max: 1.0, shape: torch.Size([2, 2, 512, 512])\n"
     ]
    },
    {
     "name": "stderr",
     "output_type": "stream",
     "text": [
      "\n",
      " 90%|█████████ | 18/20 [00:14<00:01,  1.28it/s]\u001b[A"
     ]
    },
    {
     "name": "stdout",
     "output_type": "stream",
     "text": [
      "Outputs min: -2.597649335861206, max: 3.14566707611084, shape: torch.Size([2, 2, 512, 512])\n",
      "Masks min: 0.0, max: 1.0, shape: torch.Size([2, 2, 512, 512])\n"
     ]
    },
    {
     "name": "stderr",
     "output_type": "stream",
     "text": [
      "\n",
      " 95%|█████████▌| 19/20 [00:14<00:00,  1.28it/s]\u001b[A"
     ]
    },
    {
     "name": "stdout",
     "output_type": "stream",
     "text": [
      "Outputs min: -2.5359113216400146, max: 3.2028040885925293, shape: torch.Size([2, 2, 512, 512])\n",
      "Masks min: 0.0, max: 1.0, shape: torch.Size([2, 2, 512, 512])\n"
     ]
    },
    {
     "name": "stderr",
     "output_type": "stream",
     "text": [
      "\n",
      "100%|██████████| 20/20 [00:15<00:00,  1.28it/s]\u001b[A\n",
      " 70%|███████   | 7/10 [02:12<00:53, 17.85s/it]"
     ]
    },
    {
     "name": "stdout",
     "output_type": "stream",
     "text": [
      "Epoch [7/10], Loss: 0.32898453027009966\n",
      "|===========================================================================|\n",
      "|                  PyTorch CUDA memory summary, device ID 0                 |\n",
      "|---------------------------------------------------------------------------|\n",
      "|            CUDA OOMs: 0            |        cudaMalloc retries: 0         |\n",
      "|===========================================================================|\n",
      "|        Metric         | Cur Usage  | Peak Usage | Tot Alloc  | Tot Freed  |\n",
      "|---------------------------------------------------------------------------|\n",
      "| Allocated memory      | 590333 KiB |   4990 MiB |   2377 GiB |   2376 GiB |\n",
      "|       from large pool | 573440 KiB |   4977 MiB |   2374 GiB |   2374 GiB |\n",
      "|       from small pool |  16893 KiB |     20 MiB |      2 GiB |      2 GiB |\n",
      "|---------------------------------------------------------------------------|\n",
      "| Active memory         | 590333 KiB |   4990 MiB |   2377 GiB |   2376 GiB |\n",
      "|       from large pool | 573440 KiB |   4977 MiB |   2374 GiB |   2374 GiB |\n",
      "|       from small pool |  16893 KiB |     20 MiB |      2 GiB |      2 GiB |\n",
      "|---------------------------------------------------------------------------|\n",
      "| Requested memory      | 590295 KiB |   4990 MiB |   2377 GiB |   2376 GiB |\n",
      "|       from large pool | 573440 KiB |   4977 MiB |   2374 GiB |   2374 GiB |\n",
      "|       from small pool |  16855 KiB |     20 MiB |      2 GiB |      2 GiB |\n",
      "|---------------------------------------------------------------------------|\n",
      "| GPU reserved memory   |    778 MiB |   5242 MiB |  32066 MiB |  31288 MiB |\n",
      "|       from large pool |    760 MiB |   5220 MiB |  32020 MiB |  31260 MiB |\n",
      "|       from small pool |     18 MiB |     22 MiB |     46 MiB |     28 MiB |\n",
      "|---------------------------------------------------------------------------|\n",
      "| Non-releasable memory |      0 B   |      0 B   |      0 B   |      0 B   |\n",
      "|       from large pool |      0 B   |      0 B   |      0 B   |      0 B   |\n",
      "|       from small pool |      0 B   |      0 B   |      0 B   |      0 B   |\n",
      "|---------------------------------------------------------------------------|\n",
      "| Allocations           |     538    |     656    |   99596    |   99058    |\n",
      "|       from large pool |      71    |     125    |   40035    |   39964    |\n",
      "|       from small pool |     467    |     585    |   59561    |   59094    |\n",
      "|---------------------------------------------------------------------------|\n",
      "| Active allocs         |     538    |     656    |   99596    |   99058    |\n",
      "|       from large pool |      71    |     125    |   40035    |   39964    |\n",
      "|       from small pool |     467    |     585    |   59561    |   59094    |\n",
      "|---------------------------------------------------------------------------|\n",
      "| GPU reserved segments |       0    |       0    |       0    |       0    |\n",
      "|       from large pool |       0    |       0    |       0    |       0    |\n",
      "|       from small pool |       0    |       0    |       0    |       0    |\n",
      "|---------------------------------------------------------------------------|\n",
      "| Non-releasable allocs |       0    |       0    |       0    |       0    |\n",
      "|       from large pool |       0    |       0    |       0    |       0    |\n",
      "|       from small pool |       0    |       0    |       0    |       0    |\n",
      "|---------------------------------------------------------------------------|\n",
      "| Oversize allocations  |       0    |       0    |       0    |       0    |\n",
      "|---------------------------------------------------------------------------|\n",
      "| Oversize GPU segments |       0    |       0    |       0    |       0    |\n",
      "|===========================================================================|\n",
      "\n"
     ]
    },
    {
     "name": "stderr",
     "output_type": "stream",
     "text": [
      "\n",
      "  0%|          | 0/20 [00:00<?, ?it/s]\u001b[A"
     ]
    },
    {
     "name": "stdout",
     "output_type": "stream",
     "text": [
      "Outputs min: -2.335150957107544, max: 2.715789318084717, shape: torch.Size([2, 2, 512, 512])\n",
      "Masks min: 0.0, max: 1.0, shape: torch.Size([2, 2, 512, 512])\n"
     ]
    },
    {
     "name": "stderr",
     "output_type": "stream",
     "text": [
      "\n",
      "  5%|▌         | 1/20 [00:00<00:14,  1.28it/s]\u001b[A"
     ]
    },
    {
     "name": "stdout",
     "output_type": "stream",
     "text": [
      "Outputs min: -2.3852391242980957, max: 2.848097562789917, shape: torch.Size([2, 2, 512, 512])\n",
      "Masks min: 0.0, max: 1.0, shape: torch.Size([2, 2, 512, 512])\n"
     ]
    },
    {
     "name": "stderr",
     "output_type": "stream",
     "text": [
      "\n",
      " 10%|█         | 2/20 [00:01<00:14,  1.28it/s]\u001b[A"
     ]
    },
    {
     "name": "stdout",
     "output_type": "stream",
     "text": [
      "Outputs min: -2.732531785964966, max: 3.0528743267059326, shape: torch.Size([2, 2, 512, 512])\n",
      "Masks min: 0.0, max: 1.0, shape: torch.Size([2, 2, 512, 512])\n"
     ]
    },
    {
     "name": "stderr",
     "output_type": "stream",
     "text": [
      "\n",
      " 15%|█▌        | 3/20 [00:02<00:13,  1.28it/s]\u001b[A"
     ]
    },
    {
     "name": "stdout",
     "output_type": "stream",
     "text": [
      "Outputs min: -3.498145580291748, max: 4.269439697265625, shape: torch.Size([2, 2, 512, 512])\n",
      "Masks min: 0.0, max: 1.0, shape: torch.Size([2, 2, 512, 512])\n"
     ]
    },
    {
     "name": "stderr",
     "output_type": "stream",
     "text": [
      "\n",
      " 20%|██        | 4/20 [00:03<00:12,  1.28it/s]\u001b[A"
     ]
    },
    {
     "name": "stdout",
     "output_type": "stream",
     "text": [
      "Outputs min: -2.199118137359619, max: 3.297820806503296, shape: torch.Size([2, 2, 512, 512])\n",
      "Masks min: 0.0, max: 1.0, shape: torch.Size([2, 2, 512, 512])\n"
     ]
    },
    {
     "name": "stderr",
     "output_type": "stream",
     "text": [
      "\n",
      " 25%|██▌       | 5/20 [00:03<00:11,  1.28it/s]\u001b[A"
     ]
    },
    {
     "name": "stdout",
     "output_type": "stream",
     "text": [
      "Outputs min: -2.2649643421173096, max: 3.0713415145874023, shape: torch.Size([2, 2, 512, 512])\n",
      "Masks min: 0.0, max: 1.0, shape: torch.Size([2, 2, 512, 512])\n"
     ]
    },
    {
     "name": "stderr",
     "output_type": "stream",
     "text": [
      "\n",
      " 30%|███       | 6/20 [00:04<00:10,  1.28it/s]\u001b[A"
     ]
    },
    {
     "name": "stdout",
     "output_type": "stream",
     "text": [
      "Outputs min: -2.5082268714904785, max: 3.136669635772705, shape: torch.Size([2, 2, 512, 512])\n",
      "Masks min: 0.0, max: 1.0, shape: torch.Size([2, 2, 512, 512])\n"
     ]
    },
    {
     "name": "stderr",
     "output_type": "stream",
     "text": [
      "\n",
      " 35%|███▌      | 7/20 [00:05<00:10,  1.28it/s]\u001b[A"
     ]
    },
    {
     "name": "stdout",
     "output_type": "stream",
     "text": [
      "Outputs min: -2.411421775817871, max: 3.454163074493408, shape: torch.Size([2, 2, 512, 512])\n",
      "Masks min: 0.0, max: 1.0, shape: torch.Size([2, 2, 512, 512])\n"
     ]
    },
    {
     "name": "stderr",
     "output_type": "stream",
     "text": [
      "\n",
      " 40%|████      | 8/20 [00:06<00:09,  1.28it/s]\u001b[A"
     ]
    },
    {
     "name": "stdout",
     "output_type": "stream",
     "text": [
      "Outputs min: -2.391106367111206, max: 3.503317356109619, shape: torch.Size([2, 2, 512, 512])\n",
      "Masks min: 0.0, max: 1.0, shape: torch.Size([2, 2, 512, 512])\n"
     ]
    },
    {
     "name": "stderr",
     "output_type": "stream",
     "text": [
      "\n",
      " 45%|████▌     | 9/20 [00:07<00:08,  1.28it/s]\u001b[A"
     ]
    },
    {
     "name": "stdout",
     "output_type": "stream",
     "text": [
      "Outputs min: -2.4599876403808594, max: 2.7423136234283447, shape: torch.Size([2, 2, 512, 512])\n",
      "Masks min: 0.0, max: 1.0, shape: torch.Size([2, 2, 512, 512])\n"
     ]
    },
    {
     "name": "stderr",
     "output_type": "stream",
     "text": [
      "\n",
      " 50%|█████     | 10/20 [00:07<00:07,  1.28it/s]\u001b[A"
     ]
    },
    {
     "name": "stdout",
     "output_type": "stream",
     "text": [
      "Outputs min: -2.467311143875122, max: 2.9679172039031982, shape: torch.Size([2, 2, 512, 512])\n",
      "Masks min: 0.0, max: 1.0, shape: torch.Size([2, 2, 512, 512])\n"
     ]
    },
    {
     "name": "stderr",
     "output_type": "stream",
     "text": [
      "\n",
      " 55%|█████▌    | 11/20 [00:08<00:07,  1.28it/s]\u001b[A"
     ]
    },
    {
     "name": "stdout",
     "output_type": "stream",
     "text": [
      "Outputs min: -2.424992561340332, max: 3.149143934249878, shape: torch.Size([2, 2, 512, 512])\n",
      "Masks min: 0.0, max: 1.0, shape: torch.Size([2, 2, 512, 512])\n"
     ]
    },
    {
     "name": "stderr",
     "output_type": "stream",
     "text": [
      "\n",
      " 60%|██████    | 12/20 [00:09<00:06,  1.28it/s]\u001b[A"
     ]
    },
    {
     "name": "stdout",
     "output_type": "stream",
     "text": [
      "Outputs min: -2.0942978858947754, max: 2.699406862258911, shape: torch.Size([2, 2, 512, 512])\n",
      "Masks min: 0.0, max: 1.0, shape: torch.Size([2, 2, 512, 512])\n"
     ]
    },
    {
     "name": "stderr",
     "output_type": "stream",
     "text": [
      "\n",
      " 65%|██████▌   | 13/20 [00:10<00:05,  1.28it/s]\u001b[A"
     ]
    },
    {
     "name": "stdout",
     "output_type": "stream",
     "text": [
      "Outputs min: -2.71562123298645, max: 3.3966760635375977, shape: torch.Size([2, 2, 512, 512])\n",
      "Masks min: 0.0, max: 1.0, shape: torch.Size([2, 2, 512, 512])\n"
     ]
    },
    {
     "name": "stderr",
     "output_type": "stream",
     "text": [
      "\n",
      " 70%|███████   | 14/20 [00:10<00:04,  1.28it/s]\u001b[A"
     ]
    },
    {
     "name": "stdout",
     "output_type": "stream",
     "text": [
      "Outputs min: -2.9192097187042236, max: 3.1473443508148193, shape: torch.Size([2, 2, 512, 512])\n",
      "Masks min: 0.0, max: 1.0, shape: torch.Size([2, 2, 512, 512])\n"
     ]
    },
    {
     "name": "stderr",
     "output_type": "stream",
     "text": [
      "\n",
      " 75%|███████▌  | 15/20 [00:11<00:03,  1.28it/s]\u001b[A"
     ]
    },
    {
     "name": "stdout",
     "output_type": "stream",
     "text": [
      "Outputs min: -2.4500582218170166, max: 3.6348187923431396, shape: torch.Size([2, 2, 512, 512])\n",
      "Masks min: 0.0, max: 1.0, shape: torch.Size([2, 2, 512, 512])\n"
     ]
    },
    {
     "name": "stderr",
     "output_type": "stream",
     "text": [
      "\n",
      " 80%|████████  | 16/20 [00:12<00:03,  1.28it/s]\u001b[A"
     ]
    },
    {
     "name": "stdout",
     "output_type": "stream",
     "text": [
      "Outputs min: -2.387194871902466, max: 2.8799638748168945, shape: torch.Size([2, 2, 512, 512])\n",
      "Masks min: 0.0, max: 1.0, shape: torch.Size([2, 2, 512, 512])\n"
     ]
    },
    {
     "name": "stderr",
     "output_type": "stream",
     "text": [
      "\n",
      " 85%|████████▌ | 17/20 [00:13<00:02,  1.28it/s]\u001b[A"
     ]
    },
    {
     "name": "stdout",
     "output_type": "stream",
     "text": [
      "Outputs min: -2.4427146911621094, max: 3.042740821838379, shape: torch.Size([2, 2, 512, 512])\n",
      "Masks min: 0.0, max: 1.0, shape: torch.Size([2, 2, 512, 512])\n"
     ]
    },
    {
     "name": "stderr",
     "output_type": "stream",
     "text": [
      "\n",
      " 90%|█████████ | 18/20 [00:14<00:01,  1.28it/s]\u001b[A"
     ]
    },
    {
     "name": "stdout",
     "output_type": "stream",
     "text": [
      "Outputs min: -2.3138248920440674, max: 2.813321828842163, shape: torch.Size([2, 2, 512, 512])\n",
      "Masks min: 0.0, max: 1.0, shape: torch.Size([2, 2, 512, 512])\n"
     ]
    },
    {
     "name": "stderr",
     "output_type": "stream",
     "text": [
      "\n",
      " 95%|█████████▌| 19/20 [00:14<00:00,  1.28it/s]\u001b[A"
     ]
    },
    {
     "name": "stdout",
     "output_type": "stream",
     "text": [
      "Outputs min: -2.1753010749816895, max: 2.998189926147461, shape: torch.Size([2, 2, 512, 512])\n",
      "Masks min: 0.0, max: 1.0, shape: torch.Size([2, 2, 512, 512])\n"
     ]
    },
    {
     "name": "stderr",
     "output_type": "stream",
     "text": [
      "\n",
      "100%|██████████| 20/20 [00:15<00:00,  1.28it/s]\u001b[A\n",
      " 80%|████████  | 8/10 [02:29<00:34, 17.47s/it]"
     ]
    },
    {
     "name": "stdout",
     "output_type": "stream",
     "text": [
      "Epoch [8/10], Loss: 0.31241945177316666\n",
      "|===========================================================================|\n",
      "|                  PyTorch CUDA memory summary, device ID 0                 |\n",
      "|---------------------------------------------------------------------------|\n",
      "|            CUDA OOMs: 0            |        cudaMalloc retries: 0         |\n",
      "|===========================================================================|\n",
      "|        Metric         | Cur Usage  | Peak Usage | Tot Alloc  | Tot Freed  |\n",
      "|---------------------------------------------------------------------------|\n",
      "| Allocated memory      | 590333 KiB |   4990 MiB |   2716 GiB |   2716 GiB |\n",
      "|       from large pool | 573440 KiB |   4977 MiB |   2714 GiB |   2713 GiB |\n",
      "|       from small pool |  16893 KiB |     20 MiB |      2 GiB |      2 GiB |\n",
      "|---------------------------------------------------------------------------|\n",
      "| Active memory         | 590333 KiB |   4990 MiB |   2716 GiB |   2716 GiB |\n",
      "|       from large pool | 573440 KiB |   4977 MiB |   2714 GiB |   2713 GiB |\n",
      "|       from small pool |  16893 KiB |     20 MiB |      2 GiB |      2 GiB |\n",
      "|---------------------------------------------------------------------------|\n",
      "| Requested memory      | 590295 KiB |   4990 MiB |   2716 GiB |   2716 GiB |\n",
      "|       from large pool | 573440 KiB |   4977 MiB |   2714 GiB |   2713 GiB |\n",
      "|       from small pool |  16855 KiB |     20 MiB |      2 GiB |      2 GiB |\n",
      "|---------------------------------------------------------------------------|\n",
      "| GPU reserved memory   | 735232 KiB |   5242 MiB |  36510 MiB |  35792 MiB |\n",
      "|       from large pool | 716800 KiB |   5220 MiB |  36460 MiB |  35760 MiB |\n",
      "|       from small pool |  18432 KiB |     22 MiB |     50 MiB |     32 MiB |\n",
      "|---------------------------------------------------------------------------|\n",
      "| Non-releasable memory |      0 B   |      0 B   |      0 B   |      0 B   |\n",
      "|       from large pool |      0 B   |      0 B   |      0 B   |      0 B   |\n",
      "|       from small pool |      0 B   |      0 B   |      0 B   |      0 B   |\n",
      "|---------------------------------------------------------------------------|\n",
      "| Allocations           |     538    |     656    |  113764    |  113226    |\n",
      "|       from large pool |      71    |     125    |   45747    |   45676    |\n",
      "|       from small pool |     467    |     585    |   68017    |   67550    |\n",
      "|---------------------------------------------------------------------------|\n",
      "| Active allocs         |     538    |     656    |  113764    |  113226    |\n",
      "|       from large pool |      71    |     125    |   45747    |   45676    |\n",
      "|       from small pool |     467    |     585    |   68017    |   67550    |\n",
      "|---------------------------------------------------------------------------|\n",
      "| GPU reserved segments |       0    |       0    |       0    |       0    |\n",
      "|       from large pool |       0    |       0    |       0    |       0    |\n",
      "|       from small pool |       0    |       0    |       0    |       0    |\n",
      "|---------------------------------------------------------------------------|\n",
      "| Non-releasable allocs |       0    |       0    |       0    |       0    |\n",
      "|       from large pool |       0    |       0    |       0    |       0    |\n",
      "|       from small pool |       0    |       0    |       0    |       0    |\n",
      "|---------------------------------------------------------------------------|\n",
      "| Oversize allocations  |       0    |       0    |       0    |       0    |\n",
      "|---------------------------------------------------------------------------|\n",
      "| Oversize GPU segments |       0    |       0    |       0    |       0    |\n",
      "|===========================================================================|\n",
      "\n"
     ]
    },
    {
     "name": "stderr",
     "output_type": "stream",
     "text": [
      "\n",
      "  0%|          | 0/20 [00:00<?, ?it/s]\u001b[A"
     ]
    },
    {
     "name": "stdout",
     "output_type": "stream",
     "text": [
      "Outputs min: -2.8155393600463867, max: 3.2876646518707275, shape: torch.Size([2, 2, 512, 512])\n",
      "Masks min: 0.0, max: 1.0, shape: torch.Size([2, 2, 512, 512])\n"
     ]
    },
    {
     "name": "stderr",
     "output_type": "stream",
     "text": [
      "\n",
      "  5%|▌         | 1/20 [00:00<00:14,  1.27it/s]\u001b[A"
     ]
    },
    {
     "name": "stdout",
     "output_type": "stream",
     "text": [
      "Outputs min: -2.0436367988586426, max: 2.6201155185699463, shape: torch.Size([2, 2, 512, 512])\n",
      "Masks min: 0.0, max: 1.0, shape: torch.Size([2, 2, 512, 512])\n"
     ]
    },
    {
     "name": "stderr",
     "output_type": "stream",
     "text": [
      "\n",
      " 10%|█         | 2/20 [00:01<00:14,  1.27it/s]\u001b[A"
     ]
    },
    {
     "name": "stdout",
     "output_type": "stream",
     "text": [
      "Outputs min: -2.14003849029541, max: 3.0339114665985107, shape: torch.Size([2, 2, 512, 512])\n",
      "Masks min: 0.0, max: 1.0, shape: torch.Size([2, 2, 512, 512])\n"
     ]
    },
    {
     "name": "stderr",
     "output_type": "stream",
     "text": [
      "\n",
      " 15%|█▌        | 3/20 [00:02<00:13,  1.28it/s]\u001b[A"
     ]
    },
    {
     "name": "stdout",
     "output_type": "stream",
     "text": [
      "Outputs min: -2.0635781288146973, max: 2.81512188911438, shape: torch.Size([2, 2, 512, 512])\n",
      "Masks min: 0.0, max: 1.0, shape: torch.Size([2, 2, 512, 512])\n"
     ]
    },
    {
     "name": "stderr",
     "output_type": "stream",
     "text": [
      "\n",
      " 20%|██        | 4/20 [00:03<00:12,  1.28it/s]\u001b[A"
     ]
    },
    {
     "name": "stdout",
     "output_type": "stream",
     "text": [
      "Outputs min: -2.2392141819000244, max: 2.7541728019714355, shape: torch.Size([2, 2, 512, 512])\n",
      "Masks min: 0.0, max: 1.0, shape: torch.Size([2, 2, 512, 512])\n"
     ]
    },
    {
     "name": "stderr",
     "output_type": "stream",
     "text": [
      "\n",
      " 25%|██▌       | 5/20 [00:03<00:11,  1.28it/s]\u001b[A"
     ]
    },
    {
     "name": "stdout",
     "output_type": "stream",
     "text": [
      "Outputs min: -2.2088284492492676, max: 2.8219733238220215, shape: torch.Size([2, 2, 512, 512])\n",
      "Masks min: 0.0, max: 1.0, shape: torch.Size([2, 2, 512, 512])\n"
     ]
    },
    {
     "name": "stderr",
     "output_type": "stream",
     "text": [
      "\n",
      " 30%|███       | 6/20 [00:04<00:10,  1.28it/s]\u001b[A"
     ]
    },
    {
     "name": "stdout",
     "output_type": "stream",
     "text": [
      "Outputs min: -1.9560188055038452, max: 2.5036234855651855, shape: torch.Size([2, 2, 512, 512])\n",
      "Masks min: 0.0, max: 1.0, shape: torch.Size([2, 2, 512, 512])\n"
     ]
    },
    {
     "name": "stderr",
     "output_type": "stream",
     "text": [
      "\n",
      " 35%|███▌      | 7/20 [00:05<00:10,  1.28it/s]\u001b[A"
     ]
    },
    {
     "name": "stdout",
     "output_type": "stream",
     "text": [
      "Outputs min: -2.2692995071411133, max: 3.214937210083008, shape: torch.Size([2, 2, 512, 512])\n",
      "Masks min: 0.0, max: 1.0, shape: torch.Size([2, 2, 512, 512])\n"
     ]
    },
    {
     "name": "stderr",
     "output_type": "stream",
     "text": [
      "\n",
      " 40%|████      | 8/20 [00:06<00:09,  1.28it/s]\u001b[A"
     ]
    },
    {
     "name": "stdout",
     "output_type": "stream",
     "text": [
      "Outputs min: -2.1830227375030518, max: 3.0875442028045654, shape: torch.Size([2, 2, 512, 512])\n",
      "Masks min: 0.0, max: 1.0, shape: torch.Size([2, 2, 512, 512])\n"
     ]
    },
    {
     "name": "stderr",
     "output_type": "stream",
     "text": [
      "\n",
      " 45%|████▌     | 9/20 [00:07<00:08,  1.28it/s]\u001b[A"
     ]
    },
    {
     "name": "stdout",
     "output_type": "stream",
     "text": [
      "Outputs min: -1.9847928285598755, max: 2.710205554962158, shape: torch.Size([2, 2, 512, 512])\n",
      "Masks min: 0.0, max: 1.0, shape: torch.Size([2, 2, 512, 512])\n"
     ]
    },
    {
     "name": "stderr",
     "output_type": "stream",
     "text": [
      "\n",
      " 50%|█████     | 10/20 [00:07<00:07,  1.28it/s]\u001b[A"
     ]
    },
    {
     "name": "stdout",
     "output_type": "stream",
     "text": [
      "Outputs min: -2.337857484817505, max: 2.948342800140381, shape: torch.Size([2, 2, 512, 512])\n",
      "Masks min: 0.0, max: 1.0, shape: torch.Size([2, 2, 512, 512])\n"
     ]
    },
    {
     "name": "stderr",
     "output_type": "stream",
     "text": [
      "\n",
      " 55%|█████▌    | 11/20 [00:08<00:07,  1.28it/s]\u001b[A"
     ]
    },
    {
     "name": "stdout",
     "output_type": "stream",
     "text": [
      "Outputs min: -2.360396146774292, max: 3.2611641883850098, shape: torch.Size([2, 2, 512, 512])\n",
      "Masks min: 0.0, max: 1.0, shape: torch.Size([2, 2, 512, 512])\n"
     ]
    },
    {
     "name": "stderr",
     "output_type": "stream",
     "text": [
      "\n",
      " 60%|██████    | 12/20 [00:09<00:06,  1.28it/s]\u001b[A"
     ]
    },
    {
     "name": "stdout",
     "output_type": "stream",
     "text": [
      "Outputs min: -1.9958137273788452, max: 2.565603017807007, shape: torch.Size([2, 2, 512, 512])\n",
      "Masks min: 0.0, max: 1.0, shape: torch.Size([2, 2, 512, 512])\n"
     ]
    },
    {
     "name": "stderr",
     "output_type": "stream",
     "text": [
      "\n",
      " 65%|██████▌   | 13/20 [00:10<00:05,  1.28it/s]\u001b[A"
     ]
    },
    {
     "name": "stdout",
     "output_type": "stream",
     "text": [
      "Outputs min: -2.1756346225738525, max: 2.8003480434417725, shape: torch.Size([2, 2, 512, 512])\n",
      "Masks min: 0.0, max: 1.0, shape: torch.Size([2, 2, 512, 512])\n"
     ]
    },
    {
     "name": "stderr",
     "output_type": "stream",
     "text": [
      "\n",
      " 70%|███████   | 14/20 [00:10<00:04,  1.28it/s]\u001b[A"
     ]
    },
    {
     "name": "stdout",
     "output_type": "stream",
     "text": [
      "Outputs min: -2.4016950130462646, max: 3.0172111988067627, shape: torch.Size([2, 2, 512, 512])\n",
      "Masks min: 0.0, max: 1.0, shape: torch.Size([2, 2, 512, 512])\n"
     ]
    },
    {
     "name": "stderr",
     "output_type": "stream",
     "text": [
      "\n",
      " 75%|███████▌  | 15/20 [00:11<00:03,  1.28it/s]\u001b[A"
     ]
    },
    {
     "name": "stdout",
     "output_type": "stream",
     "text": [
      "Outputs min: -2.173496723175049, max: 2.6874539852142334, shape: torch.Size([2, 2, 512, 512])\n",
      "Masks min: 0.0, max: 1.0, shape: torch.Size([2, 2, 512, 512])\n"
     ]
    },
    {
     "name": "stderr",
     "output_type": "stream",
     "text": [
      "\n",
      " 80%|████████  | 16/20 [00:12<00:03,  1.28it/s]\u001b[A"
     ]
    },
    {
     "name": "stdout",
     "output_type": "stream",
     "text": [
      "Outputs min: -2.5394508838653564, max: 2.9901297092437744, shape: torch.Size([2, 2, 512, 512])\n",
      "Masks min: 0.0, max: 1.0, shape: torch.Size([2, 2, 512, 512])\n"
     ]
    },
    {
     "name": "stderr",
     "output_type": "stream",
     "text": [
      "\n",
      " 85%|████████▌ | 17/20 [00:13<00:02,  1.28it/s]\u001b[A"
     ]
    },
    {
     "name": "stdout",
     "output_type": "stream",
     "text": [
      "Outputs min: -2.3050763607025146, max: 3.0411252975463867, shape: torch.Size([2, 2, 512, 512])\n",
      "Masks min: 0.0, max: 1.0, shape: torch.Size([2, 2, 512, 512])\n"
     ]
    },
    {
     "name": "stderr",
     "output_type": "stream",
     "text": [
      "\n",
      " 90%|█████████ | 18/20 [00:14<00:01,  1.28it/s]\u001b[A"
     ]
    },
    {
     "name": "stdout",
     "output_type": "stream",
     "text": [
      "Outputs min: -2.260828971862793, max: 2.8235344886779785, shape: torch.Size([2, 2, 512, 512])\n",
      "Masks min: 0.0, max: 1.0, shape: torch.Size([2, 2, 512, 512])\n"
     ]
    },
    {
     "name": "stderr",
     "output_type": "stream",
     "text": [
      "\n",
      " 95%|█████████▌| 19/20 [00:14<00:00,  1.28it/s]\u001b[A"
     ]
    },
    {
     "name": "stdout",
     "output_type": "stream",
     "text": [
      "Outputs min: -3.264752149581909, max: 3.6752665042877197, shape: torch.Size([2, 2, 512, 512])\n",
      "Masks min: 0.0, max: 1.0, shape: torch.Size([2, 2, 512, 512])\n"
     ]
    },
    {
     "name": "stderr",
     "output_type": "stream",
     "text": [
      "\n",
      "100%|██████████| 20/20 [00:15<00:00,  1.28it/s]\u001b[A\n",
      " 90%|█████████ | 9/10 [02:45<00:17, 17.25s/it]"
     ]
    },
    {
     "name": "stdout",
     "output_type": "stream",
     "text": [
      "Epoch [9/10], Loss: 0.3011333078145981\n",
      "|===========================================================================|\n",
      "|                  PyTorch CUDA memory summary, device ID 0                 |\n",
      "|---------------------------------------------------------------------------|\n",
      "|            CUDA OOMs: 0            |        cudaMalloc retries: 0         |\n",
      "|===========================================================================|\n",
      "|        Metric         | Cur Usage  | Peak Usage | Tot Alloc  | Tot Freed  |\n",
      "|---------------------------------------------------------------------------|\n",
      "| Allocated memory      | 590333 KiB |   4990 MiB |   3056 GiB |   3055 GiB |\n",
      "|       from large pool | 573440 KiB |   4977 MiB |   3053 GiB |   3052 GiB |\n",
      "|       from small pool |  16893 KiB |     20 MiB |      2 GiB |      2 GiB |\n",
      "|---------------------------------------------------------------------------|\n",
      "| Active memory         | 590333 KiB |   4990 MiB |   3056 GiB |   3055 GiB |\n",
      "|       from large pool | 573440 KiB |   4977 MiB |   3053 GiB |   3052 GiB |\n",
      "|       from small pool |  16893 KiB |     20 MiB |      2 GiB |      2 GiB |\n",
      "|---------------------------------------------------------------------------|\n",
      "| Requested memory      | 590295 KiB |   4990 MiB |   3056 GiB |   3055 GiB |\n",
      "|       from large pool | 573440 KiB |   4977 MiB |   3053 GiB |   3052 GiB |\n",
      "|       from small pool |  16855 KiB |     20 MiB |      2 GiB |      2 GiB |\n",
      "|---------------------------------------------------------------------------|\n",
      "| GPU reserved memory   | 755712 KiB |   5242 MiB |  40974 MiB |  40236 MiB |\n",
      "|       from large pool | 737280 KiB |   5220 MiB |  40920 MiB |  40200 MiB |\n",
      "|       from small pool |  18432 KiB |     22 MiB |     54 MiB |     36 MiB |\n",
      "|---------------------------------------------------------------------------|\n",
      "| Non-releasable memory |      0 B   |      0 B   |      0 B   |      0 B   |\n",
      "|       from large pool |      0 B   |      0 B   |      0 B   |      0 B   |\n",
      "|       from small pool |      0 B   |      0 B   |      0 B   |      0 B   |\n",
      "|---------------------------------------------------------------------------|\n",
      "| Allocations           |     538    |     656    |  127932    |  127394    |\n",
      "|       from large pool |      71    |     125    |   51459    |   51388    |\n",
      "|       from small pool |     467    |     585    |   76473    |   76006    |\n",
      "|---------------------------------------------------------------------------|\n",
      "| Active allocs         |     538    |     656    |  127932    |  127394    |\n",
      "|       from large pool |      71    |     125    |   51459    |   51388    |\n",
      "|       from small pool |     467    |     585    |   76473    |   76006    |\n",
      "|---------------------------------------------------------------------------|\n",
      "| GPU reserved segments |       0    |       0    |       0    |       0    |\n",
      "|       from large pool |       0    |       0    |       0    |       0    |\n",
      "|       from small pool |       0    |       0    |       0    |       0    |\n",
      "|---------------------------------------------------------------------------|\n",
      "| Non-releasable allocs |       0    |       0    |       0    |       0    |\n",
      "|       from large pool |       0    |       0    |       0    |       0    |\n",
      "|       from small pool |       0    |       0    |       0    |       0    |\n",
      "|---------------------------------------------------------------------------|\n",
      "| Oversize allocations  |       0    |       0    |       0    |       0    |\n",
      "|---------------------------------------------------------------------------|\n",
      "| Oversize GPU segments |       0    |       0    |       0    |       0    |\n",
      "|===========================================================================|\n",
      "\n"
     ]
    },
    {
     "name": "stderr",
     "output_type": "stream",
     "text": [
      "\n",
      "  0%|          | 0/20 [00:00<?, ?it/s]\u001b[A"
     ]
    },
    {
     "name": "stdout",
     "output_type": "stream",
     "text": [
      "Outputs min: -2.4268946647644043, max: 2.918694019317627, shape: torch.Size([2, 2, 512, 512])\n",
      "Masks min: 0.0, max: 1.0, shape: torch.Size([2, 2, 512, 512])\n"
     ]
    },
    {
     "name": "stderr",
     "output_type": "stream",
     "text": [
      "\n",
      "  5%|▌         | 1/20 [00:00<00:14,  1.28it/s]\u001b[A"
     ]
    },
    {
     "name": "stdout",
     "output_type": "stream",
     "text": [
      "Outputs min: -2.5718729496002197, max: 3.0150434970855713, shape: torch.Size([2, 2, 512, 512])\n",
      "Masks min: 0.0, max: 1.0, shape: torch.Size([2, 2, 512, 512])\n"
     ]
    },
    {
     "name": "stderr",
     "output_type": "stream",
     "text": [
      "\n",
      " 10%|█         | 2/20 [00:01<00:14,  1.28it/s]\u001b[A"
     ]
    },
    {
     "name": "stdout",
     "output_type": "stream",
     "text": [
      "Outputs min: -2.1860299110412598, max: 2.8217780590057373, shape: torch.Size([2, 2, 512, 512])\n",
      "Masks min: 0.0, max: 1.0, shape: torch.Size([2, 2, 512, 512])\n"
     ]
    },
    {
     "name": "stderr",
     "output_type": "stream",
     "text": [
      "\n",
      " 15%|█▌        | 3/20 [00:02<00:13,  1.28it/s]\u001b[A"
     ]
    },
    {
     "name": "stdout",
     "output_type": "stream",
     "text": [
      "Outputs min: -2.3481202125549316, max: 2.730309009552002, shape: torch.Size([2, 2, 512, 512])\n",
      "Masks min: 0.0, max: 1.0, shape: torch.Size([2, 2, 512, 512])\n"
     ]
    },
    {
     "name": "stderr",
     "output_type": "stream",
     "text": [
      "\n",
      " 20%|██        | 4/20 [00:03<00:12,  1.28it/s]\u001b[A"
     ]
    },
    {
     "name": "stdout",
     "output_type": "stream",
     "text": [
      "Outputs min: -2.305083751678467, max: 2.658595561981201, shape: torch.Size([2, 2, 512, 512])\n",
      "Masks min: 0.0, max: 1.0, shape: torch.Size([2, 2, 512, 512])\n"
     ]
    },
    {
     "name": "stderr",
     "output_type": "stream",
     "text": [
      "\n",
      " 25%|██▌       | 5/20 [00:03<00:11,  1.28it/s]\u001b[A"
     ]
    },
    {
     "name": "stdout",
     "output_type": "stream",
     "text": [
      "Outputs min: -2.0527844429016113, max: 2.5938377380371094, shape: torch.Size([2, 2, 512, 512])\n",
      "Masks min: 0.0, max: 1.0, shape: torch.Size([2, 2, 512, 512])\n"
     ]
    },
    {
     "name": "stderr",
     "output_type": "stream",
     "text": [
      "\n",
      " 30%|███       | 6/20 [00:04<00:10,  1.28it/s]\u001b[A"
     ]
    },
    {
     "name": "stdout",
     "output_type": "stream",
     "text": [
      "Outputs min: -2.313159227371216, max: 2.664271593093872, shape: torch.Size([2, 2, 512, 512])\n",
      "Masks min: 0.0, max: 1.0, shape: torch.Size([2, 2, 512, 512])\n"
     ]
    },
    {
     "name": "stderr",
     "output_type": "stream",
     "text": [
      "\n",
      " 35%|███▌      | 7/20 [00:05<00:10,  1.28it/s]\u001b[A"
     ]
    },
    {
     "name": "stdout",
     "output_type": "stream",
     "text": [
      "Outputs min: -2.3184964656829834, max: 3.226081609725952, shape: torch.Size([2, 2, 512, 512])\n",
      "Masks min: 0.0, max: 1.0, shape: torch.Size([2, 2, 512, 512])\n"
     ]
    },
    {
     "name": "stderr",
     "output_type": "stream",
     "text": [
      "\n",
      " 40%|████      | 8/20 [00:06<00:09,  1.28it/s]\u001b[A"
     ]
    },
    {
     "name": "stdout",
     "output_type": "stream",
     "text": [
      "Outputs min: -2.439257860183716, max: 2.9754598140716553, shape: torch.Size([2, 2, 512, 512])\n",
      "Masks min: 0.0, max: 1.0, shape: torch.Size([2, 2, 512, 512])\n"
     ]
    },
    {
     "name": "stderr",
     "output_type": "stream",
     "text": [
      "\n",
      " 45%|████▌     | 9/20 [00:07<00:08,  1.28it/s]\u001b[A"
     ]
    },
    {
     "name": "stdout",
     "output_type": "stream",
     "text": [
      "Outputs min: -3.265742540359497, max: 3.2959320545196533, shape: torch.Size([2, 2, 512, 512])\n",
      "Masks min: 0.0, max: 1.0, shape: torch.Size([2, 2, 512, 512])\n"
     ]
    },
    {
     "name": "stderr",
     "output_type": "stream",
     "text": [
      "\n",
      " 50%|█████     | 10/20 [00:07<00:07,  1.28it/s]\u001b[A"
     ]
    },
    {
     "name": "stdout",
     "output_type": "stream",
     "text": [
      "Outputs min: -2.528836250305176, max: 3.328648328781128, shape: torch.Size([2, 2, 512, 512])\n",
      "Masks min: 0.0, max: 1.0, shape: torch.Size([2, 2, 512, 512])\n"
     ]
    },
    {
     "name": "stderr",
     "output_type": "stream",
     "text": [
      "\n",
      " 55%|█████▌    | 11/20 [00:08<00:07,  1.28it/s]\u001b[A"
     ]
    },
    {
     "name": "stdout",
     "output_type": "stream",
     "text": [
      "Outputs min: -2.3136212825775146, max: 2.926140546798706, shape: torch.Size([2, 2, 512, 512])\n",
      "Masks min: 0.0, max: 1.0, shape: torch.Size([2, 2, 512, 512])\n"
     ]
    },
    {
     "name": "stderr",
     "output_type": "stream",
     "text": [
      "\n",
      " 60%|██████    | 12/20 [00:09<00:06,  1.28it/s]\u001b[A"
     ]
    },
    {
     "name": "stdout",
     "output_type": "stream",
     "text": [
      "Outputs min: -2.130600690841675, max: 2.7746667861938477, shape: torch.Size([2, 2, 512, 512])\n",
      "Masks min: 0.0, max: 1.0, shape: torch.Size([2, 2, 512, 512])\n"
     ]
    },
    {
     "name": "stderr",
     "output_type": "stream",
     "text": [
      "\n",
      " 65%|██████▌   | 13/20 [00:10<00:05,  1.28it/s]\u001b[A"
     ]
    },
    {
     "name": "stdout",
     "output_type": "stream",
     "text": [
      "Outputs min: -1.9011543989181519, max: 2.5952537059783936, shape: torch.Size([2, 2, 512, 512])\n",
      "Masks min: 0.0, max: 1.0, shape: torch.Size([2, 2, 512, 512])\n"
     ]
    },
    {
     "name": "stderr",
     "output_type": "stream",
     "text": [
      "\n",
      " 70%|███████   | 14/20 [00:10<00:04,  1.28it/s]\u001b[A"
     ]
    },
    {
     "name": "stdout",
     "output_type": "stream",
     "text": [
      "Outputs min: -2.243943214416504, max: 2.7227632999420166, shape: torch.Size([2, 2, 512, 512])\n",
      "Masks min: 0.0, max: 1.0, shape: torch.Size([2, 2, 512, 512])\n"
     ]
    },
    {
     "name": "stderr",
     "output_type": "stream",
     "text": [
      "\n",
      " 75%|███████▌  | 15/20 [00:11<00:03,  1.28it/s]\u001b[A"
     ]
    },
    {
     "name": "stdout",
     "output_type": "stream",
     "text": [
      "Outputs min: -2.4591774940490723, max: 2.8078572750091553, shape: torch.Size([2, 2, 512, 512])\n",
      "Masks min: 0.0, max: 1.0, shape: torch.Size([2, 2, 512, 512])\n"
     ]
    },
    {
     "name": "stderr",
     "output_type": "stream",
     "text": [
      "\n",
      " 80%|████████  | 16/20 [00:12<00:03,  1.28it/s]\u001b[A"
     ]
    },
    {
     "name": "stdout",
     "output_type": "stream",
     "text": [
      "Outputs min: -2.2531445026397705, max: 3.159447193145752, shape: torch.Size([2, 2, 512, 512])\n",
      "Masks min: 0.0, max: 1.0, shape: torch.Size([2, 2, 512, 512])\n"
     ]
    },
    {
     "name": "stderr",
     "output_type": "stream",
     "text": [
      "\n",
      " 85%|████████▌ | 17/20 [00:13<00:02,  1.28it/s]\u001b[A"
     ]
    },
    {
     "name": "stdout",
     "output_type": "stream",
     "text": [
      "Outputs min: -2.3425958156585693, max: 3.0977723598480225, shape: torch.Size([2, 2, 512, 512])\n",
      "Masks min: 0.0, max: 1.0, shape: torch.Size([2, 2, 512, 512])\n"
     ]
    },
    {
     "name": "stderr",
     "output_type": "stream",
     "text": [
      "\n",
      " 90%|█████████ | 18/20 [00:14<00:01,  1.28it/s]\u001b[A"
     ]
    },
    {
     "name": "stdout",
     "output_type": "stream",
     "text": [
      "Outputs min: -2.283653974533081, max: 2.7299132347106934, shape: torch.Size([2, 2, 512, 512])\n",
      "Masks min: 0.0, max: 1.0, shape: torch.Size([2, 2, 512, 512])\n"
     ]
    },
    {
     "name": "stderr",
     "output_type": "stream",
     "text": [
      "\n",
      " 95%|█████████▌| 19/20 [00:14<00:00,  1.28it/s]\u001b[A"
     ]
    },
    {
     "name": "stdout",
     "output_type": "stream",
     "text": [
      "Outputs min: -2.2331199645996094, max: 2.7929608821868896, shape: torch.Size([2, 2, 512, 512])\n",
      "Masks min: 0.0, max: 1.0, shape: torch.Size([2, 2, 512, 512])\n"
     ]
    },
    {
     "name": "stderr",
     "output_type": "stream",
     "text": [
      "\n",
      "100%|██████████| 20/20 [00:15<00:00,  1.28it/s]\u001b[A\n"
     ]
    },
    {
     "name": "stdout",
     "output_type": "stream",
     "text": [
      "Epoch [10/10], Loss: 0.29396184235811235\n",
      "Checkpoint saved at epoch 10\n"
     ]
    },
    {
     "name": "stderr",
     "output_type": "stream",
     "text": [
      "100%|██████████| 10/10 [03:04<00:00, 18.48s/it]"
     ]
    },
    {
     "name": "stdout",
     "output_type": "stream",
     "text": [
      "|===========================================================================|\n",
      "|                  PyTorch CUDA memory summary, device ID 0                 |\n",
      "|---------------------------------------------------------------------------|\n",
      "|            CUDA OOMs: 0            |        cudaMalloc retries: 0         |\n",
      "|===========================================================================|\n",
      "|        Metric         | Cur Usage  | Peak Usage | Tot Alloc  | Tot Freed  |\n",
      "|---------------------------------------------------------------------------|\n",
      "| Allocated memory      | 590333 KiB |   4990 MiB |   3395 GiB |   3395 GiB |\n",
      "|       from large pool | 573440 KiB |   4977 MiB |   3392 GiB |   3392 GiB |\n",
      "|       from small pool |  16893 KiB |     20 MiB |      3 GiB |      3 GiB |\n",
      "|---------------------------------------------------------------------------|\n",
      "| Active memory         | 590333 KiB |   4990 MiB |   3395 GiB |   3395 GiB |\n",
      "|       from large pool | 573440 KiB |   4977 MiB |   3392 GiB |   3392 GiB |\n",
      "|       from small pool |  16893 KiB |     20 MiB |      3 GiB |      3 GiB |\n",
      "|---------------------------------------------------------------------------|\n",
      "| Requested memory      | 590295 KiB |   4990 MiB |   3395 GiB |   3395 GiB |\n",
      "|       from large pool | 573440 KiB |   4977 MiB |   3392 GiB |   3392 GiB |\n",
      "|       from small pool |  16855 KiB |     20 MiB |      3 GiB |      3 GiB |\n",
      "|---------------------------------------------------------------------------|\n",
      "| GPU reserved memory   | 755712 KiB |   5242 MiB |  45438 MiB |  44700 MiB |\n",
      "|       from large pool | 737280 KiB |   5220 MiB |  45380 MiB |  44660 MiB |\n",
      "|       from small pool |  18432 KiB |     22 MiB |     58 MiB |     40 MiB |\n",
      "|---------------------------------------------------------------------------|\n",
      "| Non-releasable memory |      0 B   |      0 B   |      0 B   |      0 B   |\n",
      "|       from large pool |      0 B   |      0 B   |      0 B   |      0 B   |\n",
      "|       from small pool |      0 B   |      0 B   |      0 B   |      0 B   |\n",
      "|---------------------------------------------------------------------------|\n",
      "| Allocations           |     538    |     656    |  142100    |  141562    |\n",
      "|       from large pool |      71    |     125    |   57171    |   57100    |\n",
      "|       from small pool |     467    |     585    |   84929    |   84462    |\n",
      "|---------------------------------------------------------------------------|\n",
      "| Active allocs         |     538    |     656    |  142100    |  141562    |\n",
      "|       from large pool |      71    |     125    |   57171    |   57100    |\n",
      "|       from small pool |     467    |     585    |   84929    |   84462    |\n",
      "|---------------------------------------------------------------------------|\n",
      "| GPU reserved segments |       0    |       0    |       0    |       0    |\n",
      "|       from large pool |       0    |       0    |       0    |       0    |\n",
      "|       from small pool |       0    |       0    |       0    |       0    |\n",
      "|---------------------------------------------------------------------------|\n",
      "| Non-releasable allocs |       0    |       0    |       0    |       0    |\n",
      "|       from large pool |       0    |       0    |       0    |       0    |\n",
      "|       from small pool |       0    |       0    |       0    |       0    |\n",
      "|---------------------------------------------------------------------------|\n",
      "| Oversize allocations  |       0    |       0    |       0    |       0    |\n",
      "|---------------------------------------------------------------------------|\n",
      "| Oversize GPU segments |       0    |       0    |       0    |       0    |\n",
      "|===========================================================================|\n",
      "\n"
     ]
    },
    {
     "name": "stderr",
     "output_type": "stream",
     "text": [
      "\n"
     ]
    },
    {
     "data": {
      "application/vnd.jupyter.widget-view+json": {
       "model_id": "",
       "version_major": 2,
       "version_minor": 0
      },
      "text/plain": [
       "VBox(children=(Label(value='0.006 MB of 0.006 MB uploaded\\r'), FloatProgress(value=1.0, max=1.0)))"
      ]
     },
     "metadata": {},
     "output_type": "display_data"
    },
    {
     "data": {
      "text/html": [
       "<style>\n",
       "    table.wandb td:nth-child(1) { padding: 0 10px; text-align: left ; width: auto;} td:nth-child(2) {text-align: left ; width: 100%}\n",
       "    .wandb-row { display: flex; flex-direction: row; flex-wrap: wrap; justify-content: flex-start; width: 100% }\n",
       "    .wandb-col { display: flex; flex-direction: column; flex-basis: 100%; flex: 1; padding: 10px; }\n",
       "    </style>\n",
       "<div class=\"wandb-row\"><div class=\"wandb-col\"><h3>Run history:</h3><br/><table class=\"wandb\"><tr><td>epoch</td><td>▁▂▃▃▄▅▆▆▇█</td></tr><tr><td>train_iou</td><td>▁▄▆▇▇█████</td></tr><tr><td>train_loss</td><td>█▆▅▄▃▂▂▁▁▁</td></tr><tr><td>val_iou</td><td>▁▁▇▇▇▆▆▆▆█</td></tr><tr><td>val_loss</td><td>█▆▄▃▃▃▃▃▃▁</td></tr></table><br/></div><div class=\"wandb-col\"><h3>Run summary:</h3><br/><table class=\"wandb\"><tr><td>epoch</td><td>9</td></tr><tr><td>train_iou</td><td>20.40094</td></tr><tr><td>train_loss</td><td>0.29396</td></tr><tr><td>val_iou</td><td>4.10684</td></tr><tr><td>val_loss</td><td>0.32372</td></tr></table><br/></div></div>"
      ],
      "text/plain": [
       "<IPython.core.display.HTML object>"
      ]
     },
     "metadata": {},
     "output_type": "display_data"
    },
    {
     "data": {
      "text/html": [
       " View run <strong style=\"color:#cdcd00\">eternal-bush-27</strong> at: <a href='https://wandb.ai/2322203-witwatersrand-university/Unet%20variant%201/runs/ay56wsjw' target=\"_blank\">https://wandb.ai/2322203-witwatersrand-university/Unet%20variant%201/runs/ay56wsjw</a><br/> View project at: <a href='https://wandb.ai/2322203-witwatersrand-university/Unet%20variant%201' target=\"_blank\">https://wandb.ai/2322203-witwatersrand-university/Unet%20variant%201</a><br/>Synced 5 W&B file(s), 0 media file(s), 0 artifact file(s) and 0 other file(s)"
      ],
      "text/plain": [
       "<IPython.core.display.HTML object>"
      ]
     },
     "metadata": {},
     "output_type": "display_data"
    },
    {
     "data": {
      "text/html": [
       "Find logs at: <code>./wandb/run-20240919_182011-ay56wsjw/logs</code>"
      ],
      "text/plain": [
       "<IPython.core.display.HTML object>"
      ]
     },
     "metadata": {},
     "output_type": "display_data"
    }
   ],
   "source": [
    "import gc\n",
    "\n",
    "\n",
    "\n",
    "# I forced the device to cpu since I have no gpu comment that line out!\n",
    "\n",
    "device = torch.device('cuda' if torch.cuda.is_available() else 'cpu')\n",
    "print(f\"Device: {device}\")\n",
    "\n",
    "\n",
    "\n",
    "# Model, criterion, and optimizer setup\n",
    "model = Unet(n_channels=3, n_classes=2, variant='convtranspose')\n",
    "\n",
    "# if torch.cuda.device_count() > 1:\n",
    "#     print(\"Using\", torch.cuda.device_count(), \"GPUs!\")\n",
    "#     model = model.to('cuda:1')\n",
    "\n",
    "model = model.to(device)\n",
    "\n",
    "criterion = nn.BCEWithLogitsLoss()\n",
    "optimizer = optim.Adam(model.parameters(), lr=1e-5)\n",
    "\n",
    "#  checkpoints if any\n",
    "start_epoch = load_checkpoint(model, optimizer, filename=\"var1_checkpoint.pth\")\n",
    "\n",
    "num_epochs = 10\n",
    "best_val_loss = float('inf')\n",
    "\n",
    "for epoch in tqdm(range(start_epoch, num_epochs)):\n",
    "    \n",
    "    # print(torch.cuda.memory_summary())\n",
    "\n",
    "    \n",
    "    model.train()  \n",
    "    running_loss = 0.0\n",
    "    train_iou = 0.0\n",
    "    \n",
    "    for images, masks in tqdm(train_loader):\n",
    "        images, masks = images.to(device), masks.to(device)\n",
    "        optimizer.zero_grad()\n",
    "        \n",
    "        # Forward pass\n",
    "        outputs = model(images)\n",
    "        # outputs = outputs.float()\n",
    "        # outputs = torch.softmax(outputs, dim=1)\n",
    "\n",
    "        print(f\"Outputs min: {outputs.min()}, max: {outputs.max()}, shape: {outputs.shape}\")\n",
    "        print(f\"Masks min: {masks.min()}, max: {masks.max()}, shape: {masks.shape}\")\n",
    "        \n",
    "        # BCE loss with logits \n",
    "        loss = criterion(outputs, masks)\n",
    "        loss.backward()\n",
    "        #gradient clipping I dunno why we get nans\n",
    "        torch.nn.utils.clip_grad_norm_(model.parameters(), max_norm=0.5)\n",
    "        optimizer.step()\n",
    "        \n",
    "        #  loss and IoU\n",
    "        running_loss += loss.item()\n",
    "        train_iou += calculate_iou(outputs, masks)\n",
    "\n",
    "    train_loss = running_loss / len(train_loader)\n",
    "    train_iou += train_iou/ len(train_loader)\n",
    "\n",
    "    \n",
    "    model.eval()\n",
    "    val_loss = 0.0\n",
    "    val_iou = 0.0\n",
    "    with torch.no_grad():\n",
    "        for images, masks in val_loader:\n",
    "            images, masks = images.to(device), masks.to(device)\n",
    "            outputs = model(images)\n",
    "            loss = criterion(outputs, masks)\n",
    "            val_loss += loss.item()\n",
    "            val_iou += calculate_iou(outputs, masks)\n",
    "\n",
    "    val_loss = val_loss / len(val_loader)\n",
    "    val_iou += calculate_iou(torch.sigmoid(outputs), masks)\n",
    "\n",
    "\n",
    "    #  training and validation metrics to wandb\n",
    "    wandb.log({\"epoch\": epoch, \"train_loss\": train_loss, \"val_loss\": val_loss, \"train_iou\": train_iou, \"val_iou\": val_iou})\n",
    "    \n",
    "    \n",
    "    print(f\"Epoch [{epoch + 1}/{num_epochs}], Loss: {running_loss / len(train_loader)}\")\n",
    "    \n",
    "    # store model checkpoint if validation loss improves\n",
    "    if val_loss < best_val_loss:\n",
    "        best_val_loss = val_loss\n",
    "        torch.save(model.state_dict(), f\"var1_checkpoint_epoch_{epoch + 1}.pth\")\n",
    "        print(f\"Checkpoint saved at epoch {epoch + 1}\")\n",
    "\n",
    "    # model.cpu()\n",
    "    # del model\n",
    "    gc.collect() \n",
    "    torch.cuda.empty_cache()\n",
    "    \n",
    "    # print(torch.cuda.memory_summary())\n",
    "\n",
    "\n",
    "# close wandb run\n",
    "wandb.finish()\n",
    "\n",
    "# run tensorboard --logdir=runs to see networkls\n"
   ]
  },
  {
   "cell_type": "code",
   "execution_count": 14,
   "metadata": {},
   "outputs": [],
   "source": [
    "def display_tensor_as_image(tensor, channel_num, channel_index, height_index, width_index):\n",
    "    # Move the tensor to CPU and convert it to a NumPy array\n",
    "    tensor_np = tensor.cpu().numpy()\n",
    "    if channel_index == 1:\n",
    "        tensor_np = tensor_np.squeeze(0)\n",
    "\n",
    "        channel_index -=1\n",
    "        height_index-=1\n",
    "        width_index-=1\n",
    "        \n",
    "    # Handle single-channel (grayscale) image\n",
    "    if channel_num == 1:\n",
    "        image_np = tensor_np.squeeze(channel_index)  # Remove the channel dimension\n",
    "        plt.imshow(image_np, cmap=\"gray\")\n",
    "        plt.title(\"Single-channel image\")\n",
    "        plt.show()\n",
    "    \n",
    "    # Handle two-channel image (display channels separately)\n",
    "    elif channel_num == 2:\n",
    "        fig, axes = plt.subplots(1, 2, figsize=(10, 5))  # Create 1 row, 2 columns\n",
    "        for i in range(2):\n",
    "            channel_image = tensor_np[i]  # Select each channel (e.g., 0 and 1)\n",
    "            axes[i].imshow(channel_image, cmap=\"gray\")\n",
    "            axes[i].set_title(f\"Channel {i}\")\n",
    "            print(f\"Max value in channel {i}:\", np.max(channel_image))\n",
    "            print(f\"Min value in channel {i}:\", np.min(channel_image))\n",
    "        plt.show()\n",
    "    \n",
    "    # Handle three-channel image (RGB)\n",
    "    elif channel_num == 3:\n",
    "        print(tensor_np.shape)\n",
    "        # Transpose from (channels, height, width) to (height, width, channels)\n",
    "        image_np = np.transpose(tensor_np, (height_index, width_index, channel_index))\n",
    "        plt.imshow(image_np)\n",
    "        plt.title(\"Three-channel image (RGB)\")\n",
    "        plt.show()\n"
   ]
  },
  {
   "cell_type": "code",
   "execution_count": 15,
   "metadata": {},
   "outputs": [
    {
     "name": "stdout",
     "output_type": "stream",
     "text": [
      "torch.Size([1, 3, 512, 512])\n",
      "(3, 512, 512)\n"
     ]
    },
    {
     "data": {
      "image/png": "[encoded data removed]",
      "text/plain": [
       "<Figure size 640x480 with 1 Axes>"
      ]
     },
     "metadata": {},
     "output_type": "display_data"
    },
    {
     "name": "stdout",
     "output_type": "stream",
     "text": [
      "after softmax torch.Size([1, 2, 512, 512])\n",
      "Max value in channel 0: 0.94734305\n",
      "Min value in channel 0: 0.009658251\n",
      "Max value in channel 1: 0.9903418\n",
      "Min value in channel 1: 0.05265695\n"
     ]
    },
    {
     "data": {
      "image/png": "[encoded data removed]",
      "text/plain": [
       "<Figure size 1000x500 with 2 Axes>"
      ]
     },
     "metadata": {},
     "output_type": "display_data"
    },
    {
     "name": "stdout",
     "output_type": "stream",
     "text": [
      "after argmax torch.Size([512, 512])\n",
      "Max value in channel 0: 1\n",
      "Min value in channel 0: 0\n"
     ]
    },
    {
     "data": {
      "image/png": "[encoded data removed]",
      "text/plain": [
       "<Figure size 640x480 with 1 Axes>"
      ]
     },
     "metadata": {},
     "output_type": "display_data"
    }
   ],
   "source": [
    "test_dataset = PuzzleDataset(img_dir = \"./images-1024x768/test/\",\n",
    "                            mask_dir = \"./masks-1024x768/test/\")\n",
    "#since 10 images batches of 1 should be fine can do like batches of 2 i guess                        \n",
    "test_loader = DataLoader(test_dataset,batch_size =1, shuffle=True)\n",
    "model.eval()\n",
    "for image,mask in test_loader:\n",
    "    images = image.to(device)\n",
    "    print(images.shape)\n",
    "    display_tensor_as_image(images,3,1,2,3)\n",
    "\n",
    "    with torch.no_grad():\n",
    "        outputs = model(images)\n",
    "        #apply the softmax here not in the network\n",
    "        probs = torch.softmax(outputs, dim = 1 )\n",
    "        print(\"after softmax\",probs.shape)\n",
    "\n",
    "        # Swap Channel code\n",
    "        # temp = probs[0][0].clone()\n",
    "        # probs[0][0] = probs[0][1]\n",
    "        # probs[0][1] = temp\n",
    "\n",
    "        display_tensor_as_image(probs,2,1,2,3)\n",
    "        probs = probs.squeeze(0)\n",
    "        predicted_mask = torch.argmax(probs, dim=0)\n",
    "        print(\"after argmax\",predicted_mask.shape)\n",
    "        image_np =  predicted_mask.cpu().numpy()\n",
    "        print(f\"Max value in channel {0}:\", np.max(image_np))\n",
    "        print(f\"Min value in channel {0}:\", np.min(image_np))\n",
    "        plt.imshow(image_np ,vmin=0, vmax=1,cmap='gray')\n",
    "        break\n",
    "    # just for the push\n",
    "    "
   ]
  },
  {
   "cell_type": "markdown",
   "metadata": {},
   "source": [
    "## Vairant 2: Using `torch.nn.Upsample` for bilinear upsampling"
   ]
  },
  {
   "cell_type": "code",
   "execution_count": null,
   "metadata": {},
   "outputs": [],
   "source": []
  },
  {
   "cell_type": "markdown",
   "metadata": {},
   "source": [
    "# 3.2 Training and evaluation \n",
    "### Training\n",
    "- [ ] Implement the training loop with binary cross entropy loss for pixel-wise classification\n",
    "- [ ] Adam Optimiser to update the model parameters\n",
    "**Note** have regularly saved checkpoints and evaluate model in the validation set to avoid over fitting"
   ]
  },
  {
   "cell_type": "code",
   "execution_count": null,
   "metadata": {},
   "outputs": [],
   "source": []
  },
  {
   "cell_type": "markdown",
   "metadata": {},
   "source": [
    "### Weights and biases integration\n",
    "Log the following:\n",
    "- [ ] Track BCE loss over epochs\n",
    "- [ ] IoU for both training and validation sets to monitor the segmentation performance\n",
    "\n",
    "### Need to submit from the wandb dashboard\n",
    "- Loss curves (training and validation over epochs)\n",
    "- IoU curves (training and validation over epochs)\n",
    "\n",
    "### Remember to comment on comment on whether the model is overfitting and how to recognise this and deal with the problem"
   ]
  },
  {
   "cell_type": "code",
   "execution_count": null,
   "metadata": {},
   "outputs": [],
   "source": []
  },
  {
   "cell_type": "markdown",
   "metadata": {},
   "source": [
    "### Evaluation\n",
    "evaluate model on test set \n",
    "- accuracy\n",
    "- precision\n",
    "- recall\n",
    "- F1 score\n",
    "- IoU\n",
    "\n",
    "# Select the best model based on the validation IoU and report its performance on the test set"
   ]
  },
  {
   "cell_type": "code",
   "execution_count": null,
   "metadata": {},
   "outputs": [],
   "source": []
  },
  {
   "cell_type": "markdown",
   "metadata": {},
   "source": [
    "# 4 Other architectures\n"
   ]
  }
 ],
 "metadata": {
  "kernelspec": {
   "display_name": "Python 3 (ipykernel)",
   "language": "python",
   "name": "python3"
  },
  "language_info": {
   "codemirror_mode": {
    "name": "ipython",
    "version": 3
   },
   "file_extension": ".py",
   "mimetype": "text/x-python",
   "name": "python",
   "nbconvert_exporter": "python",
   "pygments_lexer": "ipython3",
   "version": "3.8.19"
  }
 },
 "nbformat": 4,
 "nbformat_minor": 4
}
