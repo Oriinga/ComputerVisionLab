{
 "cells": [
  {
   "cell_type": "code",
   "execution_count": 4,
   "id": "b935704e-aeba-4c68-a68f-2b3532c4ccfb",
   "metadata": {},
   "outputs": [
    {
     "name": "stderr",
     "output_type": "stream",
     "text": [
      "Loading Images: 100%|██████████| 48/48 [00:01<00:00, 33.38it/s]\n",
      "Loading Masks: 100%|██████████| 48/48 [00:00<00:00, 219.01it/s]\n",
      "Resizing Images: 100%|██████████| 48/48 [00:00<00:00, 136.09it/s]\n",
      "Resizing Masks: 100%|██████████| 48/48 [00:00<00:00, 1301.96it/s]"
     ]
    },
    {
     "name": "stdout",
     "output_type": "stream",
     "text": [
      "\n",
      " (768, 1024, 3) -> (192, 256, 3)\n"
     ]
    },
    {
     "name": "stderr",
     "output_type": "stream",
     "text": [
      "\n"
     ]
    }
   ],
   "source": [
    "import classes"
   ]
  },
  {
   "cell_type": "code",
   "execution_count": null,
   "id": "69bc6202-c8a6-4838-8a4b-503d20e9d25b",
   "metadata": {},
   "outputs": [],
   "source": [
    "# ## from classes import *\n",
    "\n",
    "# puzzle = Puzzle(MATCH_IMGS)\n",
    "# corner_piece = puzzle.pieces[3]\n",
    "\n",
    "# # Start BFS by adding in the bottom left corner piece\n",
    "# queue = []\n",
    "# queue.append(corner_piece)\n",
    "# corner_piece.insert()\n",
    "# corner_piece.inserted = True\n",
    "\n",
    "# # Loop through self.edge_list of the corner piece and find the two flat edges (lets call them first_edge\n",
    "# # and second_edge where second_edge is anti-clockwise of first_edge). first_edge.point2\n",
    "# # should be the same coordinates as second_edge.point1\n",
    "\n",
    "# # edges are in anti clock wise, so flat 1 flat 2, the mod operator is to make the index a rolling index (0-1 = 3)\n",
    "\n",
    "# first_edge:Edge = None\n",
    "# second_edge:Edge = None\n",
    "# for i in range(4):\n",
    "#     if(corner_piece.edge_list[i].is_flat == True):\n",
    "#         if(corner_piece.edge_list[(i - 1) % 4].is_flat == True):\n",
    "#             first_edge = corner_piece.edge_list[(i - 1) % 4]\n",
    "#             second_edge = corner_piece.edge_list[i]\n",
    "#         elif(corner_piece.edge_list[(i + 1) % 4].is_flat == True):\n",
    "#             first_edge = corner_piece.edge_list[i]\n",
    "#             second_edge = corner_piece.edge_list[(i + 1) % 4]\n",
    "#         else:\n",
    "#             raise Exception(\"Not a corner piece\") \n",
    "# if(set(first_edge.point2) != set(second_edge.point1) ):\n",
    "#     raise Exception(\"Flat edges dont share corner point\")\n",
    "\n",
    "# # add first edge point2\n",
    "\n",
    "# # I dont know if i miss-understand, col,row major means that the bottom left is at 0,699, or is it 0,799?\n",
    "# piece_height = abs(first_edge.point2[0] - first_edge.point1[0])\n",
    "# piece_width = abs(second_edge.point2[1] - first_edge.point2[1])\n",
    "\n",
    "# pts_src = [\n",
    "#     first_edge.point2[::-1].tolist(),\n",
    "#     first_edge.point1[::-1].tolist(),\n",
    "#     second_edge.point2[::-1].tolist()\n",
    "# ]\n",
    "# pts_dst = [\n",
    "#     [0,canvas.shape[0]-1],  # Bottom-left (scaled proportionally)\n",
    "#     [0,799 - piece_height],  # Along left edge\n",
    "#     [second_edge.point2[0].item(),canvas.shape[0]-1]  # Along bottom edge\n",
    "# ]\n",
    "\n",
    "# pts_src = np.array(pts_src,dtype=np.float32)\n",
    "# pts_dst = np.array(pts_dst,dtype=np.float32)\n",
    "\n",
    "# M = cv2.getAffineTransform(pts_src,pts_dst)\n",
    "# corner_piece.dst = cv2.warpAffine(corner_piece.image,M,(700,800))\n",
    "# mask_warped = cv2.warpAffine(corner_piece.mask,M,(700,800))\n",
    "\n",
    "# # make it 3 channel to multiply with RGB image, then overlay it with the destination.\n",
    "# mask_3_channel = cv2.merge([mask_warped, mask_warped, mask_warped])\n",
    "# corner_piece.dst = mask_3_channel*corner_piece.dst \n",
    "# # plt.imshow(corner_piece.image)\n",
    "# plt.imshow(corner_piece.dst)\n",
    "# plt.show()"
   ]
  },
  {
   "cell_type": "code",
   "execution_count": 2,
   "id": "2e343bb1-d842-4230-b019-e714013fe8c6",
   "metadata": {},
   "outputs": [
    {
     "name": "stderr",
     "output_type": "stream",
     "text": [
      "Generating Pieces: 48it [00:00, 6792.17it/s]"
     ]
    },
    {
     "name": "stdout",
     "output_type": "stream",
     "text": [
      "Updated piece type: corner\n",
      "\t -> inside corner\n",
      "\n",
      "\n",
      "Final Destination Points: [[  0.      799.     ]\n",
      " [  0.      679.8747 ]\n",
      " [140.84547 799.     ]]\n",
      "\n",
      "\n",
      "done inserting!\n",
      "Updated piece type: edge\n",
      "\t -> inside edge\n",
      "Connected edge found!, 3\n",
      "Edge lies along the left side of the puzzle.\n",
      "\n",
      "\n",
      "Final Destination Points: [[924.15845 753.4714 ]\n",
      " [925.6448  608.8017 ]\n",
      " [924.15845 839.4714 ]]\n",
      "\n",
      "\n",
      "done inserting!\n"
     ]
    },
    {
     "name": "stderr",
     "output_type": "stream",
     "text": [
      "\n"
     ]
    },
    {
     "data": {
      "text/plain": [
       "<matplotlib.image.AxesImage at 0x7fafbc311370>"
      ]
     },
     "execution_count": 2,
     "metadata": {},
     "output_type": "execute_result"
    },
    {
     "data": {
      "image/png": "[encoded data removed]",
      "text/plain": [
       "<Figure size 640x480 with 1 Axes>"
      ]
     },
     "metadata": {},
     "output_type": "display_data"
    }
   ],
   "source": [
    "from classes import *\n",
    "puzzle = Puzzle(MATCH_IMGS)\n",
    "corner_piece = puzzle.pieces[3]\n",
    "# corner_piece.piece_type = \"corner\"\n",
    "corner_piece.insert()\n",
    "\n",
    "e1 = puzzle.pieces[6]\n",
    "# e1.piece_type  =\"edge\"\n",
    "e1.insert()\n",
    "\n",
    "plt.imshow(e1.dst)\n",
    "# e2 = puzzle.pieces[44]\n",
    "# e2.piece_type  =\"edge\"\n",
    "# e2.insert()\n",
    "\n",
    "# e3 = puzzle.pieces[31]\n",
    "# e3.piece_type  =\"edge\"\n",
    "# e3.insert()\n",
    "\n",
    "\n",
    "\n",
    "# plt.imshow(e1.dst)\n",
    "# plt.show()"
   ]
  },
  {
   "cell_type": "code",
   "execution_count": 1,
   "id": "c88e2341-2314-48f5-a08c-e78dc9fe7029",
   "metadata": {},
   "outputs": [
    {
     "name": "stderr",
     "output_type": "stream",
     "text": [
      "Loading Images: 100%|██████████| 48/48 [00:01<00:00, 31.92it/s]\n",
      "Loading Masks: 100%|██████████| 48/48 [00:00<00:00, 216.51it/s]\n",
      "Resizing Images: 100%|██████████| 48/48 [00:00<00:00, 644.74it/s]\n",
      "Resizing Masks: 100%|██████████| 48/48 [00:00<00:00, 4990.62it/s]\n"
     ]
    },
    {
     "name": "stdout",
     "output_type": "stream",
     "text": [
      "\n",
      " (768, 1024, 3) -> (192, 256, 3)\n"
     ]
    },
    {
     "name": "stderr",
     "output_type": "stream",
     "text": [
      "Generating Pieces: 48it [00:00, 8165.75it/s]\n"
     ]
    },
    {
     "name": "stdout",
     "output_type": "stream",
     "text": [
      "Updated piece type: corner\n",
      "\t -> inside corner\n",
      "\n",
      "\n",
      "Final Destination Points: [[  0.      799.     ]\n",
      " [  0.      679.8747 ]\n",
      " [140.84547 799.     ]]\n",
      "\n",
      "\n",
      "done inserting!\n",
      "Corner Piece Coordinates:\n",
      "(800, 700, 3)\n",
      "Updated piece type: edge\n",
      "\t -> inside edge\n",
      "Connected edge found!, 3\n",
      "Edge lies along the left side of the puzzle.\n",
      "\n",
      "\n",
      "Final Destination Points: [[924.15845 753.4714 ]\n",
      " [925.6448  608.8017 ]\n",
      " [924.15845 839.4714 ]]\n",
      "\n",
      "\n",
      "done inserting!\n",
      "Updated piece type: edge\n",
      "\t -> inside edge\n",
      "Connected edge found!, 3\n",
      "Edge lies along the bottom of the puzzle.\n",
      "\n",
      "\n",
      "Final Destination Points: [[925.6448 608.8017]\n",
      " [758.7372 610.373 ]\n",
      " [830.7372 610.373 ]]\n",
      "\n",
      "\n",
      "done inserting!\n",
      "Updated piece type: edge\n",
      "\t -> inside edge\n",
      "Connected edge found!, 44\n",
      "Edge lies along the left side of the puzzle.\n",
      "\n",
      "\n",
      "Final Destination Points: [[2090.8862  603.6334]\n",
      " [2136.1855  603.6717]\n",
      " [2090.8862  866.6334]]\n",
      "\n",
      "\n",
      "done inserting!\n"
     ]
    },
    {
     "data": {
      "image/png": "[encoded data removed]",
      "text/plain": [
       "<Figure size 640x480 with 1 Axes>"
      ]
     },
     "metadata": {},
     "output_type": "display_data"
    }
   ],
   "source": [
    "import numpy as np\n",
    "import cv2\n",
    "import matplotlib.pyplot as plt\n",
    "from classes import *\n",
    "\n",
    "\n",
    "puzzle = Puzzle(MATCH_IMGS)\n",
    "\n",
    "#testing the corner piece\n",
    "corner_piece = puzzle.pieces[3]\n",
    "# corner_piece.piece_type = \"corner\"\n",
    "corner_piece.insert()\n",
    "\n",
    "# corner piece coordinates\n",
    "print(\"Corner Piece Coordinates:\")\n",
    "print(corner_piece.dst.shape) \n",
    "\n",
    "if corner_piece.dst.dtype == np.float32:\n",
    "    corner_piece.dst = (corner_piece.dst * 255).astype(np.uint8)\n",
    "\n",
    "\n",
    "\n",
    "\n",
    "# Overlay the corner piece on the canvas\n",
    "canvas = cv2.add(canvas, corner_piece.dst)\n",
    "\n",
    "# Insert edge pieces and check their coordinates\n",
    "edge_indices = [6, 44, 31]  # Example indices for edge pieces\n",
    "for index in edge_indices:\n",
    "    edge_piece = puzzle.pieces[index]\n",
    "    # edge_piece.piece_type = \"edge\"\n",
    "    edge_piece.insert()\n",
    "    \n",
    "    # Print edge piece coordinates\n",
    "    # print(f\"Edge Piece {index} Coordinates:\")\n",
    "    # print(edge_piece.dst.shape)  # Check the dimensions of the image\n",
    "\n",
    "    # Convert edge piece to uint8 if necessary\n",
    "    if edge_piece.dst.dtype == np.float32:\n",
    "        edge_piece.dst = (edge_piece.dst * 255).astype(np.uint8)\n",
    "\n",
    "    canvas = cv2.add(canvas, edge_piece.dst)\n",
    "\n",
    "# interior_piece = puzzle.pieces[37]\n",
    "# interior_piece.insert()\n",
    "# if interior_piece.dst.dtype == np.float32:\n",
    "#     interior_piece.dst = (interior_piece.dst * 255).astype(np.uint8)\n",
    "\n",
    "# canvas = cv2.add(canvas, interior_piece.dst)\n",
    "# Display the result\n",
    "plt.imshow(canvas)  # Ensure canvas has three channels for color\n",
    "plt.show()\n"
   ]
  }
 ],
 "metadata": {
  "kernelspec": {
   "display_name": ".venv",
   "language": "python",
   "name": "python3"
  },
  "language_info": {
   "codemirror_mode": {
    "name": "ipython",
    "version": 3
   },
   "file_extension": ".py",
   "mimetype": "text/x-python",
   "name": "python",
   "nbconvert_exporter": "python",
   "pygments_lexer": "ipython3",
   "version": "3.12.6"
  }
 },
 "nbformat": 4,
 "nbformat_minor": 5
}
